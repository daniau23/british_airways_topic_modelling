{
 "cells": [
  {
   "cell_type": "code",
   "execution_count": 1,
   "metadata": {},
   "outputs": [],
   "source": [
    "import pandas as pd\n",
    "import numpy as np \n",
    "import matplotlib.pyplot as plt\n",
    "import plotly.express as px\n",
    "import plotly.graph_objects as go\n",
    "import plotly.figure_factory as ff\n",
    "import seaborn as sns\n",
    "from collections import Counter\n",
    "from wordcloud import WordCloud, STOPWORDS\n",
    "import string\n",
    "import re\n",
    "import spacy\n",
    "import gensim\n",
    "import warnings\n",
    "warnings.filterwarnings(\"ignore\")"
   ]
  },
  {
   "cell_type": "markdown",
   "metadata": {},
   "source": [
    "### **Phrase and Dictionary Construction**"
   ]
  },
  {
   "cell_type": "code",
   "execution_count": 2,
   "metadata": {},
   "outputs": [
    {
     "data": {
      "text/html": [
       "<div>\n",
       "<style scoped>\n",
       "    .dataframe tbody tr th:only-of-type {\n",
       "        vertical-align: middle;\n",
       "    }\n",
       "\n",
       "    .dataframe tbody tr th {\n",
       "        vertical-align: top;\n",
       "    }\n",
       "\n",
       "    .dataframe thead th {\n",
       "        text-align: right;\n",
       "    }\n",
       "</style>\n",
       "<table border=\"1\" class=\"dataframe\">\n",
       "  <thead>\n",
       "    <tr style=\"text-align: right;\">\n",
       "      <th></th>\n",
       "      <th>review</th>\n",
       "    </tr>\n",
       "  </thead>\n",
       "  <tbody>\n",
       "    <tr>\n",
       "      <th>0</th>\n",
       "      <td>As usual the flight is delayed. BA try to blam...</td>\n",
       "    </tr>\n",
       "    <tr>\n",
       "      <th>1</th>\n",
       "      <td>I had the most fantastic BA Flight today. The ...</td>\n",
       "    </tr>\n",
       "    <tr>\n",
       "      <th>2</th>\n",
       "      <td>Couldn’t book in online. Arrived at check in t...</td>\n",
       "    </tr>\n",
       "    <tr>\n",
       "      <th>3</th>\n",
       "      <td>London Heathrow to Mumbai in a Boeing 787-8 in...</td>\n",
       "    </tr>\n",
       "    <tr>\n",
       "      <th>4</th>\n",
       "      <td>Keflavík, Iceland to London Heathrow on an A32...</td>\n",
       "    </tr>\n",
       "  </tbody>\n",
       "</table>\n",
       "</div>"
      ],
      "text/plain": [
       "                                              review\n",
       "0  As usual the flight is delayed. BA try to blam...\n",
       "1  I had the most fantastic BA Flight today. The ...\n",
       "2  Couldn’t book in online. Arrived at check in t...\n",
       "3  London Heathrow to Mumbai in a Boeing 787-8 in...\n",
       "4  Keflavík, Iceland to London Heathrow on an A32..."
      ]
     },
     "execution_count": 2,
     "metadata": {},
     "output_type": "execute_result"
    }
   ],
   "source": [
    "df = pd.read_csv(\"../data/cleaned.csv\",usecols=['review'])\n",
    "df.head()"
   ]
  },
  {
   "cell_type": "code",
   "execution_count": 3,
   "metadata": {},
   "outputs": [],
   "source": [
    "texts = df.copy()"
   ]
  },
  {
   "cell_type": "code",
   "execution_count": 4,
   "metadata": {},
   "outputs": [
    {
     "data": {
      "text/html": [
       "<div>\n",
       "<style scoped>\n",
       "    .dataframe tbody tr th:only-of-type {\n",
       "        vertical-align: middle;\n",
       "    }\n",
       "\n",
       "    .dataframe tbody tr th {\n",
       "        vertical-align: top;\n",
       "    }\n",
       "\n",
       "    .dataframe thead th {\n",
       "        text-align: right;\n",
       "    }\n",
       "</style>\n",
       "<table border=\"1\" class=\"dataframe\">\n",
       "  <thead>\n",
       "    <tr style=\"text-align: right;\">\n",
       "      <th></th>\n",
       "      <th>review</th>\n",
       "    </tr>\n",
       "  </thead>\n",
       "  <tbody>\n",
       "    <tr>\n",
       "      <th>count</th>\n",
       "      <td>3604</td>\n",
       "    </tr>\n",
       "    <tr>\n",
       "      <th>unique</th>\n",
       "      <td>3604</td>\n",
       "    </tr>\n",
       "    <tr>\n",
       "      <th>top</th>\n",
       "      <td>As usual the flight is delayed. BA try to blam...</td>\n",
       "    </tr>\n",
       "    <tr>\n",
       "      <th>freq</th>\n",
       "      <td>1</td>\n",
       "    </tr>\n",
       "  </tbody>\n",
       "</table>\n",
       "</div>"
      ],
      "text/plain": [
       "                                                   review\n",
       "count                                                3604\n",
       "unique                                               3604\n",
       "top     As usual the flight is delayed. BA try to blam...\n",
       "freq                                                    1"
      ]
     },
     "execution_count": 4,
     "metadata": {},
     "output_type": "execute_result"
    }
   ],
   "source": [
    "texts.describe()"
   ]
  },
  {
   "cell_type": "code",
   "execution_count": 5,
   "metadata": {},
   "outputs": [
    {
     "name": "stdout",
     "output_type": "stream",
     "text": [
      "<class 'pandas.core.frame.DataFrame'>\n",
      "RangeIndex: 3604 entries, 0 to 3603\n",
      "Data columns (total 1 columns):\n",
      " #   Column  Non-Null Count  Dtype \n",
      "---  ------  --------------  ----- \n",
      " 0   review  3604 non-null   object\n",
      "dtypes: object(1)\n",
      "memory usage: 3.7 MB\n"
     ]
    }
   ],
   "source": [
    "texts.info(memory_usage='deep')"
   ]
  },
  {
   "cell_type": "code",
   "execution_count": 6,
   "metadata": {},
   "outputs": [
    {
     "name": "stdout",
     "output_type": "stream",
     "text": [
      "{\"'ll\", 'onto', 'up', 'me', 'another', 'here', 'us', 'seemed', '‘m', 'am', 'part', 'none', '‘ll', 'thereupon', 'to', 'herself', 'can', 'further', 're', 'very', 'cannot', 'whither', 'get', 'such', 'twenty', 'after', 'seeming', 'perhaps', 'beside', 'nevertheless', 'my', 'because', 'whereas', 'besides', 'third', 'becomes', 'nine', 'last', 'except', 'themselves', 'how', 'ever', 'beforehand', 'first', 'ourselves', 'down', 'become', 'should', 'would', 'no', 'namely', 'then', 'fifteen', 'front', 'everywhere', 'whom', 'nowhere', 'eleven', 'put', 'alone', 'seem', 'its', 'itself', 'had', 'least', 'n‘t', 'since', 'anyhow', 'however', 'behind', 'sometime', '’re', 'towards', 'were', 'are', 'made', 'that', 'now', 'myself', 'otherwise', 'is', 'your', 'upon', 'everyone', 'move', 'but', 'most', 'than', 'serious', 'herein', 'various', 'forty', 'indeed', 'neither', 'you', 'using', 'him', 'nor', 'she', 'what', 'anywhere', 'whereby', 'does', 'whether', 'only', 'once', 'above', 'his', 'do', 'fifty', 'name', 'n’t', 'show', 'thereby', 'if', 'together', '‘s', 'against', 'mostly', 'some', 'whenever', 'ours', 'who', 'well', 'much', 'else', 'they', 'along', 'six', 'as', 'anyway', 'across', 'although', 'eight', 'already', 'whereafter', 'same', 'each', 'often', 'thereafter', 'not', 'from', \"'s\", 'per', 'either', 'became', 'more', 'hereafter', 'was', 'or', 'sometimes', 'somehow', 'again', 'an', 'while', 'all', 'nobody', 'less', 'those', 'whatever', 'take', 'latterly', 'hundred', 'unless', 'really', \"'d\", 'meanwhile', 'he', 'whoever', 'someone', 'hereupon', 'formerly', \"'re\", \"'m\", 'we', 'both', 'before', 'might', 'there', 'latter', 'yours', 'which', 'rather', 'many', 'hence', 'hers', 'may', 'done', 'being', '’s', 'afterwards', 'also', 'five', 'side', 'bottom', 'noone', 'of', 'see', 'call', 'moreover', 'throughout', 'did', 'her', 'them', 'via', 'even', 'twelve', 'other', 'go', '’d', 'must', 'our', 'so', 'over', '‘re', '‘ve', 'everything', 'still', 'due', 'when', 'hereby', 'becoming', 'and', 'top', 'where', 'the', 'in', 'by', 'whole', 'whereupon', 'without', 'off', '’ve', 'too', 'has', 'these', 'empty', 'will', 'yet', 'one', 'back', 'somewhere', 'around', 'for', 'something', 'whence', 'used', 'during', 'nothing', 'within', 'thence', 'about', 'elsewhere', 'this', 'a', 'below', 'yourself', 'until', 'enough', 'ca', 'full', 'between', 'any', 'quite', 'sixty', 'thus', '‘d', 'give', 'four', 'their', 'almost', 'therein', 'yourselves', 'wherever', 'though', 'toward', 'himself', 'former', 'two', 'regarding', 'others', 'on', 'seems', 'at', 'doing', 'thru', 'wherein', 'always', 'have', 'whose', 'be', \"n't\", '’ll', 'anything', 'beyond', 'amongst', 'out', 'i', 'three', \"'ve\", 'make', '’m', 'say', 'few', 'ten', 'next', 'under', 'it', 'please', 'keep', 'just', 'anyone', 'several', 'through', 'with', 'therefore', 'been', 'mine', 'own', 'into', 'why', 'could', 'every', 'amount', 'among', 'never'} \n",
      "\n",
      "{'formerly', \"'ll\", 'onto', \"'re\", 'up', \"'m\", 'me', 'we', 'both', 'another', 'before', 'here', 'us', 'might', 'there', '‘m', 'am', 'part', 'none', 'latter', '‘ll', 'yours', 'which', 'thereupon', 'to', 'rather', 'many', 'herself', 'can', 'further', 'hence', 'hers', 're', 'may', 'done', 'very', 'being', 'whither', '’s', 'afterwards', 'get', 'such', 'also', 'five', 'twenty', 'after', 'seeming', 'perhaps', 'side', 'beside', 'nevertheless', 'my', 'bottom', 'noone', 'of', 'see', 'because', 'whereas', 'call', 'moreover', 'throughout', 'did', 'her', 'besides', 'them', 'third', 'via', 'becomes', 'nine', 'even', 'twelve', 'other', 'go', '’d', 'last', 'must', 'our', 'themselves', 'how', 'ever', 'beforehand', 'so', 'first', 'ourselves', 'down', '‘re', '‘ve', 'become', 'everything', 'still', 'should', 'would', 'due', 'namely', 'when', 'then', 'fifteen', 'front', 'everywhere', 'whom', 'nowhere', 'hereby', 'becoming', 'eleven', 'and', 'put', 'top', 'where', 'the', 'in', 'alone', 'seem', 'by', 'whole', 'its', 'itself', 'had', 'whereupon', 'without', 'least', 'off', 'n‘t', 'since', '’ve', 'anyhow', 'however', 'too', 'has', 'behind', 'sometime', '’re', 'towards', 'these', 'empty', 'will', 'were', 'are', 'made', 'that', 'yet', 'now', 'myself', 'one', 'back', 'somewhere', 'around', 'for', 'something', 'whence', 'is', 'used', 'during', 'nothing', 'your', 'upon', 'within', 'everyone', 'move', 'thence', 'but', 'most', 'about', 'elsewhere', 'this', 'than', 'below', 'yourself', 'herein', 'various', 'forty', 'indeed', 'until', 'enough', 'you', 'ca', 'using', 'him', 'she', 'what', 'anywhere', 'whereby', 'does', 'whether', 'full', 'between', 'only', 'once', 'above', 'his', 'any', 'do', 'fifty', 'quite', 'sixty', 'thus', 'name', '‘d', 'n’t', 'show', 'thereby', 'if', 'give', 'together', '‘s', 'against', 'four', 'their', 'mostly', 'almost', 'therein', 'some', 'whenever', 'yourselves', 'wherever', 'though', 'toward', 'ours', 'himself', 'former', 'who', 'well', 'two', 'regarding', 'others', 'much', 'on', 'else', 'seems', 'they', 'at', 'along', 'six', 'as', 'doing', 'anyway', 'thru', 'wherein', 'always', 'across', 'never', 'although', 'eight', 'have', 'whose', 'already', 'whereafter', 'be', \"n't\", '’ll', 'anything', 'beyond', 'same', 'each', 'often', 'thereafter', 'amongst', 'from', 'out', 'i', 'three', \"'s\", \"'ve\", 'per', 'either', 'became', 'more', 'hereafter', 'was', 'make', '’m', 'say', 'sometimes', 'somehow', 'again', 'an', 'while', 'few', 'ten', 'next', 'under', 'it', 'please', 'keep', 'just', 'all', 'anyone', 'several', 'through', 'nobody', 'with', 'less', 'those', 'whatever', 'take', 'therefore', 'been', 'mine', 'latterly', 'hundred', 'own', 'unless', 'really', \"'d\", 'into', 'meanwhile', 'he', 'whoever', 'why', 'could', 'every', 'someone', 'amount', 'among', 'hereupon', 'a'}\n"
     ]
    }
   ],
   "source": [
    "from spacy.lang.en.stop_words import STOP_WORDS\n",
    "all_stopwords = STOP_WORDS\n",
    "# Run this only once\n",
    "\n",
    "# Before removing some stopwords\n",
    "print(all_stopwords,\"\\n\")\n",
    "\n",
    "# Removing some stopwords\n",
    "all_stopwords -= {\n",
    "   \"nor\",\"cannot\",\"serious\",\"over\",'or',\"seemed\",\n",
    "   \"not\",\"no\",\"neither\",\"otherwise\",\"except\"\n",
    "}\n",
    "\n",
    "# After removing some stopwords\n",
    "my_stop_words = set(all_stopwords) # My own stop words\n",
    "print(my_stop_words)"
   ]
  },
  {
   "cell_type": "code",
   "execution_count": 7,
   "metadata": {},
   "outputs": [],
   "source": [
    "def preprocess(sent):\n",
    "    '''Cleans text data up, leaving only 2 or\n",
    "        more char long non-stopwords composed of A-Z & a-z only\n",
    "        in lowercase'''\n",
    "    # lowercase\n",
    "    sentence = sent.lower()\n",
    "\n",
    "    # Remove RT\n",
    "    sentence = re.sub('RT @\\w+: ',\" \",sentence)\n",
    "\n",
    "    # Remove special characters\n",
    "    sentence = re.sub(\"(@[A-Za-z0-9]+)|([^0-9A-Za-z \\t])|(\\w+:\\/\\/\\S+)\",\" \", sentence)\n",
    "\n",
    "    # Removing digits\n",
    "    sentence = sentence.translate(str.maketrans('', '', string.digits))\n",
    "\n",
    "    # Removing puntuactions\n",
    "    # sentence = sentence.translate(str.maketrans('', '', string.punctuation))\n",
    "\n",
    "    # Single character removal\n",
    "    sentence = re.sub(r\"\\s+[a-zA-Z]\\s+\", ' ', sentence)\n",
    "\n",
    "    sentence = re.sub(r\"\\s+[a-zA-Z]\\s+\", ' ', sentence)  \n",
    "    # When we remove apostrophe from the word \"Mark's\", \n",
    "    # the apostrophe is replaced by an empty space. \n",
    "    # Hence, we are left with single character \"s\" that we are removing here.\n",
    "\n",
    "    # Remove multiple spaces\n",
    "    sentence = re.sub(r'\\s+', ' ', sentence)  \n",
    "    # Next, we remove all the single characters and replace it by a space \n",
    "    # which creates multiple spaces in our text. \n",
    "    # Finally, we remove the multiple spaces from our text as well.\n",
    "\n",
    "    return sentence"
   ]
  },
  {
   "cell_type": "code",
   "execution_count": 8,
   "metadata": {},
   "outputs": [],
   "source": [
    "texts['cleaned_reviews'] = texts['review'].apply(preprocess)"
   ]
  },
  {
   "cell_type": "code",
   "execution_count": 9,
   "metadata": {},
   "outputs": [],
   "source": [
    "nlp = spacy.load('en_core_web_sm')\n",
    "\n",
    "def spcay_tokeniser(sent):\n",
    "    sent = sent.strip().lower()\n",
    "    doc = nlp(sent)\n",
    "    mytokens = [token.lemma_ for token in doc if token.text not in my_stop_words]\n",
    "    return mytokens\n",
    "\n",
    "texts['tokens'] = texts['cleaned_reviews'].apply(spcay_tokeniser)"
   ]
  },
  {
   "cell_type": "code",
   "execution_count": 10,
   "metadata": {},
   "outputs": [
    {
     "data": {
      "text/html": [
       "<div>\n",
       "<style scoped>\n",
       "    .dataframe tbody tr th:only-of-type {\n",
       "        vertical-align: middle;\n",
       "    }\n",
       "\n",
       "    .dataframe tbody tr th {\n",
       "        vertical-align: top;\n",
       "    }\n",
       "\n",
       "    .dataframe thead th {\n",
       "        text-align: right;\n",
       "    }\n",
       "</style>\n",
       "<table border=\"1\" class=\"dataframe\">\n",
       "  <thead>\n",
       "    <tr style=\"text-align: right;\">\n",
       "      <th></th>\n",
       "      <th>review</th>\n",
       "      <th>cleaned_reviews</th>\n",
       "      <th>tokens</th>\n",
       "    </tr>\n",
       "  </thead>\n",
       "  <tbody>\n",
       "    <tr>\n",
       "      <th>0</th>\n",
       "      <td>As usual the flight is delayed. BA try to blam...</td>\n",
       "      <td>as usual the flight is delayed ba try to blame...</td>\n",
       "      <td>[usual, flight, delay, ba, try, blame, inabili...</td>\n",
       "    </tr>\n",
       "    <tr>\n",
       "      <th>1</th>\n",
       "      <td>I had the most fantastic BA Flight today. The ...</td>\n",
       "      <td>i had the most fantastic ba flight today the c...</td>\n",
       "      <td>[fantastic, ba, flight, today, cabin, crew, se...</td>\n",
       "    </tr>\n",
       "    <tr>\n",
       "      <th>2</th>\n",
       "      <td>Couldn’t book in online. Arrived at check in t...</td>\n",
       "      <td>couldn book in online arrived at check in to f...</td>\n",
       "      <td>[couldn, book, online, arrive, check, find, bu...</td>\n",
       "    </tr>\n",
       "    <tr>\n",
       "      <th>3</th>\n",
       "      <td>London Heathrow to Mumbai in a Boeing 787-8 in...</td>\n",
       "      <td>london heathrow to mumbai in boeing in busines...</td>\n",
       "      <td>[london, heathrow, mumbai, boeing, business, c...</td>\n",
       "    </tr>\n",
       "    <tr>\n",
       "      <th>4</th>\n",
       "      <td>Keflavík, Iceland to London Heathrow on an A32...</td>\n",
       "      <td>keflav iceland to london heathrow on an in bus...</td>\n",
       "      <td>[keflav, iceland, london, heathrow, business, ...</td>\n",
       "    </tr>\n",
       "  </tbody>\n",
       "</table>\n",
       "</div>"
      ],
      "text/plain": [
       "                                              review  \\\n",
       "0  As usual the flight is delayed. BA try to blam...   \n",
       "1  I had the most fantastic BA Flight today. The ...   \n",
       "2  Couldn’t book in online. Arrived at check in t...   \n",
       "3  London Heathrow to Mumbai in a Boeing 787-8 in...   \n",
       "4  Keflavík, Iceland to London Heathrow on an A32...   \n",
       "\n",
       "                                     cleaned_reviews  \\\n",
       "0  as usual the flight is delayed ba try to blame...   \n",
       "1  i had the most fantastic ba flight today the c...   \n",
       "2  couldn book in online arrived at check in to f...   \n",
       "3  london heathrow to mumbai in boeing in busines...   \n",
       "4  keflav iceland to london heathrow on an in bus...   \n",
       "\n",
       "                                              tokens  \n",
       "0  [usual, flight, delay, ba, try, blame, inabili...  \n",
       "1  [fantastic, ba, flight, today, cabin, crew, se...  \n",
       "2  [couldn, book, online, arrive, check, find, bu...  \n",
       "3  [london, heathrow, mumbai, boeing, business, c...  \n",
       "4  [keflav, iceland, london, heathrow, business, ...  "
      ]
     },
     "execution_count": 10,
     "metadata": {},
     "output_type": "execute_result"
    }
   ],
   "source": [
    "texts.head()"
   ]
  },
  {
   "cell_type": "code",
   "execution_count": 11,
   "metadata": {},
   "outputs": [
    {
     "name": "stdout",
     "output_type": "stream",
     "text": [
      "A simple story with an unfortunate outcome that really could happen to anyone. My partner and I recently started working after studying purchased two tickets to travel from London City Airport to Frankfurt. When we purchased the tickets, I mistakenly entered my name twice (e.g. Mr John Smith and Ms John Smith). Little did we know that our 1 simple mistake would cost us over 300 pounds. Upon arriving at the airport we were told there was no way to change the name (apparently they can only change 3 letters where there has been a typo?) and I had no other option to purchase the last remaining ticket if I wanted to board the flight - the price: almost seven times (!) higher than my original ticket. Zero empathy was shown. Zero alternative was offered. Trusting BA's staff and under the pretence that there was apparently no other way we could board the flight we bought this ticket. Immediately after I purchased the ticket I contacted BA's 'Commercial Change Booking Team' and informed them of our situation. The service representative apologised and told me they could have changed the name at the cost of a small fee. He offered to cancel my original ticket and issue me a partial refund then, advising me that I had a claim to the difference and I should contact Customer Support to do so. I told this person several times I wanted to claim the cost of the new ticket and even asked him explicitly if by accepting this offer, I would be denied from claiming the cost of the new ticket. He said no, I could claim the difference. Fair enough - we accepted this offer and lodged a ticket with Customer Support for the difference. Two days later, British Airways Customer Response informed us that we were unable to lodge a claim because we had 'voluntarily accepted the cancellation before the flight'. They've continued to send generic emails until this week, when they just stopped responding. So in short, British Airways misled and deceived my partner into accepting a lowball offer to waive our right to claim a refund. It keeps me up at night thinking how they can do this and get away with it so easily. \n",
      "\n",
      "a simple story with an unfortunate outcome that really could happen to anyone my partner and recently started working after studying purchased two tickets to travel from london city airport to frankfurt when we purchased the tickets mistakenly entered my name twice mr john smith and ms john smith little did we know that our simple mistake would cost us over pounds upon arriving at the airport we were told there was no way to change the name apparently they can only change letters where there has been typo and had no other option to purchase the last remaining ticket if wanted to board the flight the price almost seven times higher than my original ticket zero empathy was shown zero alternative was offered trusting ba staff and under the pretence that there was apparently no other way we could board the flight we bought this ticket immediately after purchased the ticket contacted ba commercial change booking team and informed them of our situation the service representative apologised and told me they could have changed the name at the cost of small fee he offered to cancel my original ticket and issue me partial refund then advising me that had claim to the difference and should contact customer support to do so told this person several times wanted to claim the cost of the new ticket and even asked him explicitly if by accepting this offer would be denied from claiming the cost of the new ticket he said no could claim the difference fair enough we accepted this offer and lodged ticket with customer support for the difference two days later british airways customer response informed us that we were unable to lodge claim because we had voluntarily accepted the cancellation before the flight they ve continued to send generic emails until this week when they just stopped responding so in short british airways misled and deceived my partner into accepting lowball offer to waive our right to claim refund it keeps me up at night thinking how they can do this and get away with it so easily  \n",
      "\n",
      "['simple', 'story', 'unfortunate', 'outcome', 'happen', 'partner', 'recently', 'start', 'work', 'study', 'purchase', 'ticket', 'travel', 'london', 'city', 'airport', 'frankfurt', 'purchase', 'ticket', 'mistakenly', 'enter', 'twice', 'mr', 'john', 'smith', 'ms', 'john', 'smith', 'little', 'know', 'simple', 'mistake', 'cost', 'over', 'pound', 'arrive', 'airport', 'tell', 'no', 'way', 'change', 'apparently', 'change', 'letter', 'typo', 'no', 'option', 'purchase', 'remain', 'ticket', 'want', 'board', 'flight', 'price', 'seven', 'time', 'high', 'original', 'ticket', 'zero', 'empathy', 'show', 'zero', 'alternative', 'offer', 'trust', 'ba', 'staff', 'pretence', 'apparently', 'no', 'way', 'board', 'flight', 'buy', 'ticket', 'immediately', 'purchase', 'ticket', 'contact', 'ba', 'commercial', 'change', 'book', 'team', 'inform', 'situation', 'service', 'representative', 'apologise', 'tell', 'change', 'cost', 'small', 'fee', 'offer', 'cancel', 'original', 'ticket', 'issue', 'partial', 'refund', 'advise', 'claim', 'difference', 'contact', 'customer', 'support', 'tell', 'person', 'time', 'want', 'claim', 'cost', 'new', 'ticket', 'ask', 'explicitly', 'accept', 'offer', 'deny', 'claim', 'cost', 'new', 'ticket', 'say', 'no', 'claim', 'difference', 'fair', 'accept', 'offer', 'lodge', 'ticket', 'customer', 'support', 'difference', 'day', 'later', 'british', 'airways', 'customer', 'response', 'inform', 'unable', 'lodge', 'claim', 'voluntarily', 'accept', 'cancellation', 'flight', 've', 'continue', 'send', 'generic', 'email', 'week', 'stop', 'respond', 'short', 'british', 'airways', 'mislead', 'deceive', 'partner', 'accept', 'lowball', 'offer', 'waive', 'right', 'claim', 'refund', 'keep', 'night', 'think', 'away', 'easily']\n"
     ]
    }
   ],
   "source": [
    "def inspector(index_value=0):\n",
    "    print(texts['review'][index_value],\"\\n\")\n",
    "    print(texts['cleaned_reviews'][index_value],\"\\n\")\n",
    "    print(texts['tokens'][index_value])\n",
    "inspector(10)"
   ]
  },
  {
   "cell_type": "code",
   "execution_count": 12,
   "metadata": {},
   "outputs": [],
   "source": [
    "# Compute bigrams\n",
    "from gensim.models import Phrases,EnsembleLda\n",
    "from gensim.models.phrases import Phraser,ENGLISH_CONNECTOR_WORDS"
   ]
  },
  {
   "cell_type": "code",
   "execution_count": 13,
   "metadata": {},
   "outputs": [],
   "source": [
    "docs = texts['tokens'].tolist()"
   ]
  },
  {
   "cell_type": "code",
   "execution_count": 14,
   "metadata": {},
   "outputs": [
    {
     "name": "stdout",
     "output_type": "stream",
     "text": [
      "['simple', 'story', 'unfortunate', 'outcome', 'happen', 'partner', 'recently', 'start', 'work', 'study', 'purchase', 'ticket', 'travel', 'london', 'city', 'airport', 'frankfurt', 'purchase', 'ticket', 'mistakenly', 'enter', 'twice', 'mr', 'john', 'smith', 'ms', 'john', 'smith', 'little', 'know', 'simple', 'mistake', 'cost', 'over', 'pound', 'arrive', 'airport', 'tell', 'no', 'way', 'change', 'apparently', 'change', 'letter', 'typo', 'no', 'option', 'purchase', 'remain', 'ticket', 'want', 'board', 'flight', 'price', 'seven', 'time', 'high', 'original', 'ticket', 'zero', 'empathy', 'show', 'zero', 'alternative', 'offer', 'trust', 'ba', 'staff', 'pretence', 'apparently', 'no', 'way', 'board', 'flight', 'buy', 'ticket', 'immediately', 'purchase', 'ticket', 'contact', 'ba', 'commercial', 'change', 'book', 'team', 'inform', 'situation', 'service', 'representative', 'apologise', 'tell', 'change', 'cost', 'small', 'fee', 'offer', 'cancel', 'original', 'ticket', 'issue', 'partial', 'refund', 'advise', 'claim', 'difference', 'contact', 'customer', 'support', 'tell', 'person', 'time', 'want', 'claim', 'cost', 'new', 'ticket', 'ask', 'explicitly', 'accept', 'offer', 'deny', 'claim', 'cost', 'new', 'ticket', 'say', 'no', 'claim', 'difference', 'fair', 'accept', 'offer', 'lodge', 'ticket', 'customer', 'support', 'difference', 'day', 'later', 'british', 'airways', 'customer', 'response', 'inform', 'unable', 'lodge', 'claim', 'voluntarily', 'accept', 'cancellation', 'flight', 've', 'continue', 'send', 'generic', 'email', 'week', 'stop', 'respond', 'short', 'british', 'airways', 'mislead', 'deceive', 'partner', 'accept', 'lowball', 'offer', 'waive', 'right', 'claim', 'refund', 'keep', 'night', 'think', 'away', 'easily']\n"
     ]
    }
   ],
   "source": [
    "def inspector_two(index_value=0):\n",
    "    print(docs[index_value])\n",
    "inspector_two(10)"
   ]
  },
  {
   "cell_type": "code",
   "execution_count": 15,
   "metadata": {},
   "outputs": [],
   "source": [
    "# Add bigrams to docs (only ones that appear 20 times or more)\n",
    "bigram_phrases = Phrases(docs, min_count=20,connector_words=ENGLISH_CONNECTOR_WORDS)\n",
    "bigram = Phraser(bigram_phrases)"
   ]
  },
  {
   "cell_type": "code",
   "execution_count": 16,
   "metadata": {},
   "outputs": [],
   "source": [
    "def make_bigram(texts):\n",
    "    return([bigram[doc] for doc in texts])\n",
    "\n",
    "bigram_docs = make_bigram(docs)"
   ]
  },
  {
   "cell_type": "code",
   "execution_count": 17,
   "metadata": {},
   "outputs": [
    {
     "name": "stdout",
     "output_type": "stream",
     "text": [
      "I booked our first out of country trip to take my husband on a surprise trip to Monaco. I gave us over 3 hours for our connecting flight to and from home through Heathrow. Our flight left Seattle an hour late causing us to miss our connecting flight. We were rescheduled before we even landed. They booked us on a flight 7 hours later and offered no food tickets or any other type of reimbursement. Additionally we sat in their customer service line for an hour and a half to see if they could rebook us on an earlier flight, to watch them continually assist other customers that walked up outside of the queue (no earlier flights were available). When we arrived in Nice, France the airport was closed, including the rental car desk. We were not offered any assistance from the airline on a room or other accommodation for the night. We found a cab, which cost us 85 euros one one to get to our hotel. We thought there is no way something like this could happen on the way home….we were wrong. Our flight from Nice to Heathrow was 30 minutes late, with a 2.5 hour layover you would think we should still make our flight, unfortunately long security lines caused over 1.5 hr further delay. When arriving BA closed the doors and said they could not hold the plane any longer despite arriving 15mins before departure. After running through the Heathrow airport and going through security again. They sent us back to the customer service queue, where the first statement was we can’t get you out until tomorrow. After begging they found us a flight on another airline. At that time we were told our bags were transferred to our flight with Delta. We were given 8 pounds each for snacks at the airport for our now additional 5 hour delay. In total for our trip there and home we spent 13 hours at Heathrow airport which our original total layover of 6 hours, and we were offered 8 pound each. Unfortunately the drama continues. The two bags that they said made the Delta flight, shockingly did not. We were told that we had the file the claim with Delta, since the last part of our flight was with them. We have now been home for 5 days and each airline is pointing the finger at the other. As I said to both of them today. I don’t care who’ has my bags figure it out and send me my luggage I don't want your $500 reimbursement per bag, as that doesn’t come close to the memories and stuff that I have in there. I will never fly British Airways again, and Delta’s baggage people are not doing great either. \n",
      "\n",
      "i booked our first out of country trip to take my husband on surprise trip to monaco gave us over hours for our connecting flight to and from home through heathrow our flight left seattle an hour late causing us to miss our connecting flight we were rescheduled before we even landed they booked us on flight hours later and offered no food tickets or any other type of reimbursement additionally we sat in their customer service line for an hour and half to see if they could rebook us on an earlier flight to watch them continually assist other customers that walked up outside of the queue no earlier flights were available when we arrived in nice france the airport was closed including the rental car desk we were not offered any assistance from the airline on room or other accommodation for the night we found cab which cost us euros one one to get to our hotel we thought there is no way something like this could happen on the way home we were wrong our flight from nice to heathrow was minutes late with hour layover you would think we should still make our flight unfortunately long security lines caused over hr further delay when arriving ba closed the doors and said they could not hold the plane any longer despite arriving mins before departure after running through the heathrow airport and going through security again they sent us back to the customer service queue where the first statement was we can get you out until tomorrow after begging they found us flight on another airline at that time we were told our bags were transferred to our flight with delta we were given pounds each for snacks at the airport for our now additional hour delay in total for our trip there and home we spent hours at heathrow airport which our original total layover of hours and we were offered pound each unfortunately the drama continues the two bags that they said made the delta flight shockingly did not we were told that we had the file the claim with delta since the last part of our flight was with them we have now been home for days and each airline is pointing the finger at the other as said to both of them today don care who has my bags figure it out and send me my luggage don want your reimbursement per bag as that doesn come close to the memories and stuff that have in there will never fly british airways again and delta baggage people are not doing great either  \n",
      "\n",
      "['book', 'country', 'trip', 'husband', 'surprise', 'trip', 'monaco', 'give', 'over', 'hour', 'connect', 'flight', 'home', 'heathrow', 'flight', 'leave', 'seattle', 'hour', 'late', 'cause', 'miss', 'connect', 'flight', 'reschedule', 'land', 'book', 'flight', 'hour', 'later', 'offer', 'no', 'food', 'ticket', 'or', 'type', 'reimbursement', 'additionally', 'sit', 'customer', 'service', 'line', 'hour', 'half', 'rebook', 'early', 'flight', 'watch', 'continually', 'assist', 'customer', 'walk', 'outside', 'queue', 'no', 'early', 'flight', 'available', 'arrive', 'nice', 'france', 'airport', 'close', 'include', 'rental', 'car', 'desk', 'not', 'offer', 'assistance', 'airline', 'room', 'or', 'accommodation', 'night', 'find', 'cab', 'cost', 'euro', 'hotel', 'think', 'no', 'way', 'like', 'happen', 'way', 'home', 'wrong', 'flight', 'nice', 'heathrow', 'minute', 'late', 'hour', 'layover', 'think', 'flight', 'unfortunately', 'long', 'security', 'line', 'cause', 'over', 'hr', 'delay', 'arrive', 'ba', 'close', 'door', 'say', 'not', 'hold', 'plane', 'long', 'despite', 'arrive', 'min', 'departure', 'run', 'heathrow', 'airport', 'go', 'security', 'send', 'customer', 'service', 'queue', 'statement', 'tomorrow', 'beg', 'find', 'flight', 'airline', 'time', 'tell', 'bag', 'transfer', 'flight', 'delta', 'give', 'pound', 'snack', 'airport', 'additional', 'hour', 'delay', 'total', 'trip', 'home', 'spend', 'hour', 'heathrow', 'airport', 'original', 'total', 'layover', 'hour', 'offer', 'pound', 'unfortunately', 'drama', 'continue', 'bag', 'say', 'delta', 'flight', 'shockingly', 'not', 'tell', 'file', 'claim', 'delta', 'flight', 'home', 'day', 'airline', 'point', 'finger', 'say', 'today', 'don', 'care', 'bag', 'figure', 'send', 'luggage', 'don', 'want', 'reimbursement', 'bag', 'doesn', 'come', 'close', 'memory', 'stuff', 'fly', 'british', 'airways', 'delta', 'baggage', 'people', 'not', 'great']\n",
      "\n",
      "['book', 'country', 'trip', 'husband', 'surprise', 'trip', 'monaco', 'give', 'over_hour', 'connect_flight', 'home', 'heathrow', 'flight', 'leave', 'seattle', 'hour', 'late', 'cause', 'miss_connect', 'flight', 'reschedule', 'land', 'book', 'flight', 'hour_later', 'offer', 'no', 'food', 'ticket', 'or', 'type', 'reimbursement', 'additionally', 'sit', 'customer_service', 'line', 'hour', 'half', 'rebook', 'early', 'flight', 'watch', 'continually', 'assist', 'customer', 'walk', 'outside', 'queue', 'no', 'early', 'flight', 'available', 'arrive', 'nice', 'france', 'airport', 'close', 'include', 'rental', 'car', 'desk', 'not', 'offer', 'assistance', 'airline', 'room', 'or', 'accommodation', 'night', 'find', 'cab', 'cost', 'euro', 'hotel', 'think', 'no', 'way', 'like', 'happen', 'way', 'home', 'wrong', 'flight', 'nice', 'heathrow', 'minute_late', 'hour', 'layover', 'think', 'flight', 'unfortunately', 'long', 'security', 'line', 'cause', 'over', 'hr', 'delay', 'arrive', 'ba', 'close', 'door', 'say', 'not', 'hold', 'plane', 'long', 'despite', 'arrive', 'min', 'departure', 'run', 'heathrow', 'airport', 'go', 'security', 'send', 'customer_service', 'queue', 'statement', 'tomorrow', 'beg', 'find', 'flight', 'airline', 'time', 'tell', 'bag', 'transfer', 'flight', 'delta', 'give', 'pound', 'snack', 'airport', 'additional', 'hour', 'delay', 'total', 'trip', 'home', 'spend', 'hour', 'heathrow', 'airport', 'original', 'total', 'layover', 'hour', 'offer', 'pound', 'unfortunately', 'drama', 'continue', 'bag', 'say', 'delta', 'flight', 'shockingly', 'not', 'tell', 'file', 'claim', 'delta', 'flight', 'home', 'day', 'airline', 'point', 'finger', 'say', 'today', 'don_care', 'bag', 'figure', 'send', 'luggage', 'don', 'want', 'reimbursement', 'bag', 'doesn', 'come', 'close', 'memory', 'stuff', 'fly', 'british_airways', 'delta', 'baggage', 'people', 'not', 'great']\n"
     ]
    }
   ],
   "source": [
    "def phrase_inspector(index_value=0):\n",
    "    print(bigram_docs[index_value])\n",
    "inspector(50)\n",
    "print()\n",
    "phrase_inspector(50)"
   ]
  },
  {
   "cell_type": "code",
   "execution_count": 18,
   "metadata": {},
   "outputs": [],
   "source": [
    "# Remove rare adn common tokens\n",
    "from gensim.corpora import Dictionary\n",
    "\n",
    "# Create a dictionary representation of the documents\n",
    "id2word = Dictionary(bigram_docs)\n",
    "# or \n",
    "# dictionary = Dictionary(docs)\n",
    "\n",
    "# Filter out words that occur in less than 20 documents, or \n",
    "# more than 50% of the documents\n",
    "# https://radimrehurek.com/gensim/corpora/dictionary.html#gensim.corpora.dictionary.Dictionary.filter_extremes\n",
    "id2word.filter_extremes(no_below=20,no_above=0.6)"
   ]
  },
  {
   "cell_type": "code",
   "execution_count": 19,
   "metadata": {},
   "outputs": [
    {
     "data": {
      "text/plain": [
       "[('seat', 4111),\n",
       " ('no', 2770),\n",
       " ('service', 2468),\n",
       " ('fly', 2382),\n",
       " ('good', 2374),\n",
       " ('time', 2372),\n",
       " ('food', 2078),\n",
       " ('british_airways', 1606),\n",
       " ('hour', 1578),\n",
       " ('or', 1532),\n",
       " ('airline', 1478),\n",
       " ('check', 1463),\n",
       " ('staff', 1423),\n",
       " ('london', 1354),\n",
       " ('passenger', 1271)]"
      ]
     },
     "execution_count": 19,
     "metadata": {},
     "output_type": "execute_result"
    }
   ],
   "source": [
    "id2word.most_common(15) # most common words"
   ]
  },
  {
   "cell_type": "code",
   "execution_count": 20,
   "metadata": {},
   "outputs": [],
   "source": [
    "# Bag-of-words representation of the documents.\n",
    "# Term document frequency \n",
    "bow_corpus = [id2word.doc2bow(doc) for doc in bigram_docs]\n",
    "\n",
    "# Create corpus\n",
    "text_corpus = bigram_docs"
   ]
  },
  {
   "cell_type": "code",
   "execution_count": 21,
   "metadata": {},
   "outputs": [
    {
     "name": "stdout",
     "output_type": "stream",
     "text": [
      "Number of unique tokens: 1594\n",
      "Number of documents: 3604\n"
     ]
    }
   ],
   "source": [
    "print(f\"Number of unique tokens: {len(id2word)}\")\n",
    "print(f\"Number of documents: {len(bow_corpus)}\")"
   ]
  },
  {
   "cell_type": "code",
   "execution_count": 22,
   "metadata": {},
   "outputs": [
    {
     "name": "stdout",
     "output_type": "stream",
     "text": [
      "Original text and tokens\n",
      "A simple story with an unfortunate outcome that really could happen to anyone. My partner and I recently started working after studying purchased two tickets to travel from London City Airport to Frankfurt. When we purchased the tickets, I mistakenly entered my name twice (e.g. Mr John Smith and Ms John Smith). Little did we know that our 1 simple mistake would cost us over 300 pounds. Upon arriving at the airport we were told there was no way to change the name (apparently they can only change 3 letters where there has been a typo?) and I had no other option to purchase the last remaining ticket if I wanted to board the flight - the price: almost seven times (!) higher than my original ticket. Zero empathy was shown. Zero alternative was offered. Trusting BA's staff and under the pretence that there was apparently no other way we could board the flight we bought this ticket. Immediately after I purchased the ticket I contacted BA's 'Commercial Change Booking Team' and informed them of our situation. The service representative apologised and told me they could have changed the name at the cost of a small fee. He offered to cancel my original ticket and issue me a partial refund then, advising me that I had a claim to the difference and I should contact Customer Support to do so. I told this person several times I wanted to claim the cost of the new ticket and even asked him explicitly if by accepting this offer, I would be denied from claiming the cost of the new ticket. He said no, I could claim the difference. Fair enough - we accepted this offer and lodged a ticket with Customer Support for the difference. Two days later, British Airways Customer Response informed us that we were unable to lodge a claim because we had 'voluntarily accepted the cancellation before the flight'. They've continued to send generic emails until this week, when they just stopped responding. So in short, British Airways misled and deceived my partner into accepting a lowball offer to waive our right to claim a refund. It keeps me up at night thinking how they can do this and get away with it so easily. \n",
      "\n",
      "a simple story with an unfortunate outcome that really could happen to anyone my partner and recently started working after studying purchased two tickets to travel from london city airport to frankfurt when we purchased the tickets mistakenly entered my name twice mr john smith and ms john smith little did we know that our simple mistake would cost us over pounds upon arriving at the airport we were told there was no way to change the name apparently they can only change letters where there has been typo and had no other option to purchase the last remaining ticket if wanted to board the flight the price almost seven times higher than my original ticket zero empathy was shown zero alternative was offered trusting ba staff and under the pretence that there was apparently no other way we could board the flight we bought this ticket immediately after purchased the ticket contacted ba commercial change booking team and informed them of our situation the service representative apologised and told me they could have changed the name at the cost of small fee he offered to cancel my original ticket and issue me partial refund then advising me that had claim to the difference and should contact customer support to do so told this person several times wanted to claim the cost of the new ticket and even asked him explicitly if by accepting this offer would be denied from claiming the cost of the new ticket he said no could claim the difference fair enough we accepted this offer and lodged ticket with customer support for the difference two days later british airways customer response informed us that we were unable to lodge claim because we had voluntarily accepted the cancellation before the flight they ve continued to send generic emails until this week when they just stopped responding so in short british airways misled and deceived my partner into accepting lowball offer to waive our right to claim refund it keeps me up at night thinking how they can do this and get away with it so easily  \n",
      "\n",
      "['simple', 'story', 'unfortunate', 'outcome', 'happen', 'partner', 'recently', 'start', 'work', 'study', 'purchase', 'ticket', 'travel', 'london', 'city', 'airport', 'frankfurt', 'purchase', 'ticket', 'mistakenly', 'enter', 'twice', 'mr', 'john', 'smith', 'ms', 'john', 'smith', 'little', 'know', 'simple', 'mistake', 'cost', 'over', 'pound', 'arrive', 'airport', 'tell', 'no', 'way', 'change', 'apparently', 'change', 'letter', 'typo', 'no', 'option', 'purchase', 'remain', 'ticket', 'want', 'board', 'flight', 'price', 'seven', 'time', 'high', 'original', 'ticket', 'zero', 'empathy', 'show', 'zero', 'alternative', 'offer', 'trust', 'ba', 'staff', 'pretence', 'apparently', 'no', 'way', 'board', 'flight', 'buy', 'ticket', 'immediately', 'purchase', 'ticket', 'contact', 'ba', 'commercial', 'change', 'book', 'team', 'inform', 'situation', 'service', 'representative', 'apologise', 'tell', 'change', 'cost', 'small', 'fee', 'offer', 'cancel', 'original', 'ticket', 'issue', 'partial', 'refund', 'advise', 'claim', 'difference', 'contact', 'customer', 'support', 'tell', 'person', 'time', 'want', 'claim', 'cost', 'new', 'ticket', 'ask', 'explicitly', 'accept', 'offer', 'deny', 'claim', 'cost', 'new', 'ticket', 'say', 'no', 'claim', 'difference', 'fair', 'accept', 'offer', 'lodge', 'ticket', 'customer', 'support', 'difference', 'day', 'later', 'british', 'airways', 'customer', 'response', 'inform', 'unable', 'lodge', 'claim', 'voluntarily', 'accept', 'cancellation', 'flight', 've', 'continue', 'send', 'generic', 'email', 'week', 'stop', 'respond', 'short', 'british', 'airways', 'mislead', 'deceive', 'partner', 'accept', 'lowball', 'offer', 'waive', 'right', 'claim', 'refund', 'keep', 'night', 'think', 'away', 'easily']\n",
      "\n",
      "Phrases\n",
      "['simple', 'story', 'unfortunate', 'outcome', 'happen', 'partner', 'recently', 'start', 'work', 'study', 'purchase', 'ticket', 'travel', 'london_city', 'airport', 'frankfurt', 'purchase', 'ticket', 'mistakenly', 'enter', 'twice', 'mr', 'john', 'smith', 'ms', 'john', 'smith', 'little', 'know', 'simple', 'mistake', 'cost', 'over', 'pound', 'arrive', 'airport', 'tell', 'no', 'way', 'change', 'apparently', 'change', 'letter', 'typo', 'no', 'option', 'purchase', 'remain', 'ticket', 'want', 'board', 'flight', 'price', 'seven', 'time', 'high', 'original', 'ticket', 'zero', 'empathy', 'show', 'zero', 'alternative', 'offer', 'trust', 'ba', 'staff', 'pretence', 'apparently', 'no', 'way', 'board', 'flight', 'buy', 'ticket', 'immediately', 'purchase', 'ticket', 'contact', 'ba', 'commercial', 'change', 'book', 'team', 'inform', 'situation', 'service', 'representative', 'apologise', 'tell', 'change', 'cost', 'small', 'fee', 'offer', 'cancel', 'original', 'ticket', 'issue', 'partial', 'refund', 'advise', 'claim', 'difference', 'contact', 'customer', 'support', 'tell', 'person', 'time', 'want', 'claim', 'cost', 'new', 'ticket', 'ask', 'explicitly', 'accept', 'offer', 'deny', 'claim', 'cost', 'new', 'ticket', 'say', 'no', 'claim', 'difference', 'fair', 'accept', 'offer', 'lodge', 'ticket', 'customer', 'support', 'difference', 'day_later', 'british_airways', 'customer', 'response', 'inform', 'unable', 'lodge', 'claim', 'voluntarily', 'accept', 'cancellation', 'flight', 've', 'continue', 'send', 'generic', 'email', 'week', 'stop', 'respond', 'short', 'british_airways', 'mislead', 'deceive', 'partner', 'accept', 'lowball', 'offer', 'waive', 'right', 'claim', 'refund', 'keep', 'night', 'think', 'away', 'easily']\n",
      "\n",
      "BoW representation: [(6, 1), (44, 2), (46, 1), (66, 1), (67, 2), (70, 2), (73, 1), (75, 2), (76, 1), (88, 4), (90, 2), (92, 1), (93, 1), (97, 2), (121, 1), (122, 1), (143, 5), (144, 1), (151, 1), (154, 2), (155, 1), (156, 2), (158, 1), (163, 1), (172, 4), (176, 3), (186, 1), (204, 1), (208, 1), (213, 1), (216, 1), (229, 2), (231, 1), (237, 1), (240, 1), (245, 1), (249, 1), (252, 2), (257, 1), (289, 4), (294, 3), (298, 4), (301, 4), (322, 1), (323, 1), (324, 1), (325, 1), (326, 6), (327, 2), (328, 1), (329, 1), (330, 3), (331, 1), (332, 1), (333, 1), (334, 1), (335, 1), (336, 1), (337, 1), (338, 2), (339, 1), (340, 1), (341, 1), (342, 1), (343, 2), (344, 1), (345, 1), (346, 1), (347, 1), (348, 1), (349, 1), (350, 1), (351, 1), (352, 1), (353, 1), (354, 2), (355, 1), (356, 1), (357, 1), (358, 2), (359, 1), (360, 10), (361, 1), (362, 1), (363, 2)]\n",
      "Word 6, staff, appears 1\n",
      "Word 44, new, appears 2\n",
      "Word 46, night, appears 1\n",
      "Word 66, think, appears 1\n",
      "Word 67, time, appears 2\n",
      "Word 70, way, appears 2\n",
      "Word 73, arrive, appears 1\n",
      "Word 75, board, appears 2\n",
      "Word 76, book, appears 1\n",
      "Word 88, no, appears 4\n",
      "Word 90, original, appears 2\n",
      "Word 92, stop, appears 1\n",
      "Word 93, twice, appears 1\n",
      "Word 97, british_airways, appears 2\n",
      "Word 121, right, appears 1\n",
      "Word 122, service, appears 1\n",
      "Word 143, offer, appears 5\n",
      "Word 144, over, appears 1\n",
      "Word 151, advise, appears 1\n",
      "Word 154, airport, appears 2\n",
      "Word 155, alternative, appears 1\n",
      "Word 156, apparently, appears 2\n",
      "Word 158, ask, appears 1\n",
      "Word 163, cancel, appears 1\n",
      "Word 172, cost, appears 4\n",
      "Word 176, customer, appears 3\n",
      "Word 186, email, appears 1\n",
      "Word 204, happen, appears 1\n",
      "Word 208, know, appears 1\n",
      "Word 213, mistake, appears 1\n",
      "Word 216, option, appears 1\n",
      "Word 229, refund, appears 2\n",
      "Word 231, remain, appears 1\n",
      "Word 237, say, appears 1\n",
      "Word 240, situation, appears 1\n",
      "Word 245, travel, appears 1\n",
      "Word 249, ve, appears 1\n",
      "Word 252, want, appears 2\n",
      "Word 257, work, appears 1\n",
      "Word 289, purchase, appears 4\n",
      "Word 294, tell, appears 3\n",
      "Word 298, accept, appears 4\n",
      "Word 301, change, appears 4\n",
      "Word 322, apologise, appears 1\n",
      "Word 323, away, appears 1\n",
      "Word 324, buy, appears 1\n",
      "Word 325, cancellation, appears 1\n",
      "Word 326, claim, appears 6\n",
      "Word 327, contact, appears 2\n",
      "Word 328, continue, appears 1\n",
      "Word 329, day_later, appears 1\n",
      "Word 330, difference, appears 3\n",
      "Word 331, easily, appears 1\n",
      "Word 332, enter, appears 1\n",
      "Word 333, fair, appears 1\n",
      "Word 334, fee, appears 1\n",
      "Word 335, frankfurt, appears 1\n",
      "Word 336, high, appears 1\n",
      "Word 337, immediately, appears 1\n",
      "Word 338, inform, appears 2\n",
      "Word 339, issue, appears 1\n",
      "Word 340, keep, appears 1\n",
      "Word 341, little, appears 1\n",
      "Word 342, london_city, appears 1\n",
      "Word 343, partner, appears 2\n",
      "Word 344, person, appears 1\n",
      "Word 345, pound, appears 1\n",
      "Word 346, price, appears 1\n",
      "Word 347, recently, appears 1\n",
      "Word 348, representative, appears 1\n",
      "Word 349, respond, appears 1\n",
      "Word 350, response, appears 1\n",
      "Word 351, send, appears 1\n",
      "Word 352, short, appears 1\n",
      "Word 353, show, appears 1\n",
      "Word 354, simple, appears 2\n",
      "Word 355, small, appears 1\n",
      "Word 356, start, appears 1\n",
      "Word 357, story, appears 1\n",
      "Word 358, support, appears 2\n",
      "Word 359, team, appears 1\n",
      "Word 360, ticket, appears 10\n",
      "Word 361, unable, appears 1\n",
      "Word 362, week, appears 1\n",
      "Word 363, zero, appears 2\n"
     ]
    }
   ],
   "source": [
    "# Verifyting BOW is set correctly\n",
    "def bow_verifier(index_value=0):\n",
    "    print(\"Original text and tokens\")\n",
    "    inspector(index_value)\n",
    "    print(\"\\nPhrases\")\n",
    "    phrase_inspector(index_value)\n",
    "    print()\n",
    "    print(f\"BoW representation: {bow_corpus[index_value]}\")\n",
    "\n",
    "    doc = f\"document_{index_value}\"\n",
    "    doc = bow_corpus[index_value]\n",
    "    for i in range(len(doc)):\n",
    "        print(f\"Word {doc[i][0]}, {id2word[doc[i][0]]}, appears {doc[i][1]}\")\n",
    "\n",
    "bow_verifier(10)"
   ]
  },
  {
   "cell_type": "markdown",
   "metadata": {},
   "source": [
    "### **Determining best number of topics**"
   ]
  },
  {
   "cell_type": "code",
   "execution_count": 23,
   "metadata": {},
   "outputs": [],
   "source": [
    "import pyLDAvis.gensim_models as gensimvis\n",
    "import pyLDAvis\n",
    "from gensim import models\n",
    "from gensim.models.coherencemodel import CoherenceModel"
   ]
  },
  {
   "cell_type": "markdown",
   "metadata": {},
   "source": [
    "[Link](https://radimrehurek.com/gensim/auto_examples/tutorials/run_lda.html)\n",
    "\n",
    "**chunksize** controls how many documents are processed at a time in the training algorithm. Increasing chunksize will speed up training, at least as long as the chunk of documents easily fit into memory.\n",
    "\n",
    "**passes** controls how often we train the model on the entire corpus. Another word for passes might be “epochs”. \n",
    "\n",
    "**iterations** is somewhat technical, but essentially it controls how often we repeat a particular loop over each document. It is important to set the number of “passes” and “iterations” high enough."
   ]
  },
  {
   "cell_type": "code",
   "execution_count": 24,
   "metadata": {},
   "outputs": [],
   "source": [
    "def compute_coherence_scores(corpus,dictionary,num_topics,num_models):\n",
    "    lda_model = EnsembleLda(\n",
    "                            corpus=corpus,\n",
    "                            num_models=num_models,\n",
    "                            random_state=42,\n",
    "                            distance_workers =2,\n",
    "                            # Lda kwargs\n",
    "                            num_topics=num_topics,\n",
    "                            chunksize=100,\n",
    "                            passes=300,\n",
    "                            iterations=500,\n",
    "                            eval_every=None\n",
    "                            # Don't evaluate model perplexity, takes too much time.\n",
    "                            )\n",
    "\n",
    "    coherence_model_lda = CoherenceModel(\n",
    "                                        model=lda_model,\n",
    "                                        dictionary=dictionary,\n",
    "                                        corpus=corpus,\n",
    "                                        coherence='u_mass',\n",
    "                                        processes=-2\n",
    "                                        # texts = text_corpus           \n",
    "                                        )\n",
    "\n",
    "    return coherence_model_lda.get_coherence()                    "
   ]
  },
  {
   "cell_type": "code",
   "execution_count": 25,
   "metadata": {},
   "outputs": [
    {
     "name": "stdout",
     "output_type": "stream",
     "text": [
      "-1.4286749104013903\n"
     ]
    }
   ],
   "source": [
    "# score = compute_coherence_scores(\n",
    "#                                 corpus=bow_corpus,dictionary=id2word,\n",
    "#                                 num_models=3,num_topics=4\n",
    "#                             )\n",
    "# print(score) #-1.4286749104013903"
   ]
  },
  {
   "cell_type": "code",
   "execution_count": 27,
   "metadata": {},
   "outputs": [],
   "source": [
    "model_results = {\n",
    "    'topics':[],\n",
    "    'coherence_score':[]\n",
    "}\n",
    "\n",
    "start = 2\n",
    "stop = 11"
   ]
  },
  {
   "cell_type": "code",
   "execution_count": 28,
   "metadata": {},
   "outputs": [],
   "source": [
    "for k in range(start,stop):\n",
    "    score = compute_coherence_scores(\n",
    "                                    corpus=bow_corpus,dictionary=id2word,\n",
    "                                    num_models=3,num_topics=k\n",
    "                                )\n",
    "    model_results['topics'].append(k)\n",
    "    model_results['coherence_score'].append(score)"
   ]
  },
  {
   "cell_type": "code",
   "execution_count": 29,
   "metadata": {},
   "outputs": [],
   "source": [
    "font_title = {'family': 'serif',\n",
    "        'color':  'black',\n",
    "        'weight': 'semibold',\n",
    "        'size': 16,\n",
    "        }"
   ]
  },
  {
   "cell_type": "code",
   "execution_count": 32,
   "metadata": {},
   "outputs": [],
   "source": [
    "model_results_frame = pd.DataFrame(model_results)\n",
    "model_results_frame.to_csv(\"model_versions/results/bigrams_ensembles_results_umass.csv\", index=False)"
   ]
  },
  {
   "cell_type": "code",
   "execution_count": 33,
   "metadata": {},
   "outputs": [
    {
     "data": {
      "image/png": "[encoded data removed]",
      "text/plain": [
       "<Figure size 1000x500 with 1 Axes>"
      ]
     },
     "metadata": {},
     "output_type": "display_data"
    }
   ],
   "source": [
    "fig,ax = plt.subplots(figsize=(10,5))\n",
    "sns.lineplot(data=model_results_frame,x = \"topics\",y='coherence_score')\n",
    "plt.title(\"Topics and Coherence Scores\",fontdict=font_title)\n",
    "plt.show()"
   ]
  },
  {
   "cell_type": "code",
   "execution_count": 34,
   "metadata": {},
   "outputs": [
    {
     "name": "stdout",
     "output_type": "stream",
     "text": [
      "[(2, -1.3363984706544614), (3, -1.385269204715315), (4, -1.407967144152936), (5, -1.3822267601748832), (6, -1.4723489546516535), (7, -1.448061044977602), (8, -1.4500330373561852), (9, -1.3723091683371365), (10, -1.4169731401237806)]\n"
     ]
    }
   ],
   "source": [
    "zipped_values = zip(*model_results.values())\n",
    "print(list(zipped_values))"
   ]
  },
  {
   "cell_type": "code",
   "execution_count": 35,
   "metadata": {},
   "outputs": [
    {
     "name": "stdout",
     "output_type": "stream",
     "text": [
      "Topic: 2 has a coherence score of: -1.3363984706544614\n",
      "Topic: 3 has a coherence score of: -1.385269204715315\n",
      "Topic: 4 has a coherence score of: -1.407967144152936\n",
      "Topic: 5 has a coherence score of: -1.3822267601748832\n",
      "Topic: 6 has a coherence score of: -1.4723489546516535\n",
      "Topic: 7 has a coherence score of: -1.448061044977602\n",
      "Topic: 8 has a coherence score of: -1.4500330373561852\n",
      "Topic: 9 has a coherence score of: -1.3723091683371365\n",
      "Topic: 10 has a coherence score of: -1.4169731401237806\n"
     ]
    }
   ],
   "source": [
    "coherence_scores = []\n",
    "for topic, coherence_score in zip(*model_results.values()):\n",
    "    print(f\"Topic: {topic} has a coherence score of: {coherence_score}\")\n",
    "    coherence_scores.append(coherence_score)"
   ]
  },
  {
   "cell_type": "code",
   "execution_count": 36,
   "metadata": {},
   "outputs": [
    {
     "name": "stdout",
     "output_type": "stream",
     "text": [
      "[-1.4723489546516535, -1.4500330373561852, -1.448061044977602, -1.4169731401237806, -1.407967144152936, -1.385269204715315, -1.3822267601748832, -1.3723091683371365, -1.3363984706544614]\n",
      "-1.4723489546516535\n"
     ]
    }
   ],
   "source": [
    "print(sorted(coherence_scores))\n",
    "print(coherence_scores[np.argmin(coherence_scores,axis=0)])"
   ]
  },
  {
   "cell_type": "markdown",
   "metadata": {},
   "source": [
    "Use of ensemebles suggests the use of 6 topics with bigrams."
   ]
  },
  {
   "cell_type": "markdown",
   "metadata": {},
   "source": [
    "*Kindly note that pyLDAvis topics numbering starts from 1, so topic 1 is 0, etc*"
   ]
  },
  {
   "cell_type": "code",
   "execution_count": 37,
   "metadata": {},
   "outputs": [],
   "source": [
    "lda_model_six = EnsembleLda(\n",
    "                    corpus=bow_corpus,\n",
    "                    num_models=3,\n",
    "                    random_state=42,\n",
    "                    distance_workers =2,\n",
    "                    # Lda kwargs\n",
    "                    num_topics=6,\n",
    "                    chunksize=100,\n",
    "                    passes=300,\n",
    "                    iterations=500,\n",
    "                    eval_every=None\n",
    "                    # Don't evaluate model perplexity, takes too much time.\n",
    "                    )"
   ]
  },
  {
   "cell_type": "code",
   "execution_count": 41,
   "metadata": {},
   "outputs": [
    {
     "data": {
      "text/plain": [
       "[(0,\n",
       "  '0.025*\"81\" + 0.025*\"67\" + 0.023*\"110\" + 0.020*\"31\" + 0.019*\"87\" + 0.017*\"95\" + 0.015*\"122\" + 0.015*\"16\" + 0.012*\"75\" + 0.012*\"160\" + 0.011*\"1\" + 0.010*\"123\" + 0.010*\"700\" + 0.010*\"106\" + 0.010*\"398\" + 0.010*\"73\" + 0.009*\"738\" + 0.009*\"88\" + 0.009*\"45\" + 0.009*\"29\" + 0.009*\"108\" + 0.008*\"856\" + 0.008*\"102\" + 0.008*\"282\" + 0.008*\"94\" + 0.008*\"9\" + 0.008*\"30\" + 0.008*\"444\" + 0.007*\"6\" + 0.007*\"11\" + 0.007*\"154\" + 0.007*\"316\" + 0.007*\"127\" + 0.007*\"288\" + 0.007*\"866\" + 0.006*\"269\" + 0.006*\"352\" + 0.006*\"44\" + 0.006*\"509\" + 0.006*\"147\" + 0.006*\"717\" + 0.005*\"84\" + 0.005*\"79\" + 0.005*\"32\" + 0.005*\"612\" + 0.005*\"634\" + 0.005*\"650\" + 0.005*\"38\" + 0.005*\"161\" + 0.005*\"404\"'),\n",
       " (1,\n",
       "  '0.025*\"42\" + 0.022*\"398\" + 0.022*\"650\" + 0.021*\"88\" + 0.017*\"122\" + 0.017*\"217\" + 0.016*\"143\" + 0.015*\"10\" + 0.014*\"29\" + 0.014*\"470\" + 0.012*\"16\" + 0.011*\"20\" + 0.010*\"158\" + 0.010*\"424\" + 0.009*\"410\" + 0.008*\"67\" + 0.008*\"950\" + 0.008*\"34\" + 0.007*\"11\" + 0.007*\"449\" + 0.007*\"43\" + 0.007*\"1215\" + 0.006*\"316\" + 0.006*\"427\" + 0.006*\"444\" + 0.006*\"634\" + 0.006*\"394\" + 0.006*\"355\" + 0.006*\"1026\" + 0.006*\"698\" + 0.005*\"38\" + 0.005*\"447\" + 0.005*\"282\" + 0.005*\"414\" + 0.005*\"615\" + 0.005*\"469\" + 0.005*\"1188\" + 0.005*\"21\" + 0.005*\"509\" + 0.004*\"703\" + 0.004*\"899\" + 0.004*\"511\" + 0.004*\"387\" + 0.004*\"74\" + 0.004*\"201\" + 0.004*\"147\" + 0.004*\"85\" + 0.004*\"181\" + 0.004*\"99\" + 0.004*\"1309\"'),\n",
       " (2,\n",
       "  '0.018*\"88\" + 0.016*\"34\" + 0.016*\"294\" + 0.013*\"178\" + 0.012*\"76\" + 0.012*\"1\" + 0.012*\"97\" + 0.012*\"67\" + 0.011*\"40\" + 0.010*\"163\" + 0.010*\"456\" + 0.010*\"81\" + 0.009*\"154\" + 0.009*\"73\" + 0.008*\"296\" + 0.008*\"28\" + 0.008*\"237\" + 0.008*\"202\" + 0.007*\"108\" + 0.007*\"160\" + 0.007*\"201\" + 0.007*\"217\" + 0.007*\"209\" + 0.007*\"158\" + 0.007*\"7\" + 0.007*\"229\" + 0.007*\"162\" + 0.006*\"85\" + 0.006*\"360\" + 0.006*\"245\" + 0.006*\"287\" + 0.006*\"379\" + 0.006*\"83\" + 0.005*\"38\" + 0.005*\"6\" + 0.005*\"72\" + 0.005*\"369\" + 0.005*\"186\" + 0.005*\"161\" + 0.005*\"316\" + 0.005*\"147\" + 0.005*\"301\" + 0.004*\"206\" + 0.004*\"370\" + 0.004*\"285\" + 0.004*\"143\" + 0.004*\"339\" + 0.004*\"577\" + 0.004*\"282\" + 0.004*\"284\"'),\n",
       " (3,\n",
       "  '0.033*\"31\" + 0.029*\"59\" + 0.021*\"29\" + 0.020*\"28\" + 0.016*\"122\" + 0.015*\"87\" + 0.012*\"13\" + 0.011*\"67\" + 0.010*\"634\" + 0.010*\"16\" + 0.009*\"32\" + 0.009*\"23\" + 0.009*\"6\" + 0.009*\"44\" + 0.009*\"40\" + 0.009*\"94\" + 0.008*\"114\" + 0.008*\"316\" + 0.007*\"387\" + 0.007*\"129\" + 0.007*\"11\" + 0.007*\"700\" + 0.007*\"97\" + 0.006*\"603\" + 0.006*\"100\" + 0.006*\"45\" + 0.006*\"72\" + 0.006*\"108\" + 0.006*\"12\" + 0.006*\"818\" + 0.005*\"405\" + 0.005*\"567\" + 0.005*\"471\" + 0.005*\"145\" + 0.005*\"288\" + 0.005*\"109\" + 0.005*\"30\" + 0.004*\"441\" + 0.004*\"845\" + 0.004*\"70\" + 0.004*\"42\" + 0.004*\"411\" + 0.004*\"518\" + 0.004*\"98\" + 0.004*\"470\" + 0.004*\"822\" + 0.004*\"510\" + 0.004*\"234\" + 0.004*\"597\" + 0.004*\"246\"'),\n",
       " (4,\n",
       "  '0.025*\"72\" + 0.025*\"28\" + 0.021*\"59\" + 0.019*\"285\" + 0.015*\"97\" + 0.013*\"88\" + 0.013*\"122\" + 0.013*\"217\" + 0.009*\"346\" + 0.009*\"259\" + 0.009*\"76\" + 0.008*\"143\" + 0.008*\"166\" + 0.008*\"176\" + 0.008*\"245\" + 0.007*\"301\" + 0.007*\"23\" + 0.007*\"504\" + 0.007*\"360\" + 0.007*\"98\" + 0.007*\"129\" + 0.007*\"530\" + 0.007*\"67\" + 0.007*\"6\" + 0.006*\"252\" + 0.006*\"316\" + 0.006*\"7\" + 0.006*\"109\" + 0.005*\"40\" + 0.005*\"510\" + 0.005*\"275\" + 0.005*\"273\" + 0.005*\"4\" + 0.005*\"444\" + 0.005*\"1125\" + 0.005*\"201\" + 0.005*\"172\" + 0.005*\"199\" + 0.005*\"387\" + 0.005*\"882\" + 0.004*\"234\" + 0.004*\"257\" + 0.004*\"476\" + 0.004*\"34\" + 0.004*\"12\" + 0.004*\"876\" + 0.004*\"83\" + 0.004*\"386\" + 0.004*\"324\" + 0.004*\"464\"'),\n",
       " (5,\n",
       "  '0.061*\"59\" + 0.015*\"98\" + 0.015*\"28\" + 0.014*\"29\" + 0.013*\"88\" + 0.011*\"288\" + 0.011*\"634\" + 0.010*\"444\" + 0.010*\"129\" + 0.010*\"217\" + 0.010*\"504\" + 0.008*\"552\" + 0.008*\"245\" + 0.008*\"384\" + 0.007*\"649\" + 0.007*\"12\" + 0.006*\"34\" + 0.006*\"286\" + 0.006*\"114\" + 0.006*\"97\" + 0.006*\"72\" + 0.006*\"23\" + 0.005*\"85\" + 0.005*\"122\" + 0.005*\"452\" + 0.005*\"567\" + 0.005*\"608\" + 0.005*\"144\" + 0.005*\"555\" + 0.005*\"518\" + 0.005*\"42\" + 0.005*\"615\" + 0.005*\"312\" + 0.005*\"511\" + 0.005*\"40\" + 0.004*\"572\" + 0.004*\"6\" + 0.004*\"421\" + 0.004*\"464\" + 0.004*\"67\" + 0.004*\"344\" + 0.004*\"650\" + 0.004*\"257\" + 0.004*\"181\" + 0.004*\"131\" + 0.004*\"417\" + 0.004*\"94\" + 0.004*\"510\" + 0.004*\"858\" + 0.004*\"91\"')]"
      ]
     },
     "execution_count": 41,
     "metadata": {},
     "output_type": "execute_result"
    }
   ],
   "source": [
    "lda_model_six.print_topics(num_words=50)"
   ]
  },
  {
   "cell_type": "markdown",
   "metadata": {},
   "source": [
    "### **Visualising the topics**"
   ]
  },
  {
   "cell_type": "code",
   "execution_count": 39,
   "metadata": {},
   "outputs": [
    {
     "ename": "AttributeError",
     "evalue": "'EnsembleLda' object has no attribute 'num_topics'",
     "output_type": "error",
     "traceback": [
      "\u001b[1;31m---------------------------------------------------------------------------\u001b[0m",
      "\u001b[1;31mAttributeError\u001b[0m                            Traceback (most recent call last)",
      "Cell \u001b[1;32mIn[39], line 2\u001b[0m\n\u001b[0;32m      1\u001b[0m pyLDAvis\u001b[38;5;241m.\u001b[39menable_notebook()\n\u001b[1;32m----> 2\u001b[0m vis_data_six \u001b[38;5;241m=\u001b[39m \u001b[104mgensimvis\u001b[49m\u001b[38;5;241;104m.\u001b[39;49m\u001b[104mprepare\u001b[49m\u001b[104m(\u001b[49m\n\u001b[0;32m      3\u001b[0m \u001b[104m    \u001b[49m\u001b[104mlda_model_six\u001b[49m\u001b[104m,\u001b[49m\u001b[104mbow_corpus\u001b[49m\u001b[104m,\u001b[49m\n\u001b[0;32m      4\u001b[0m \u001b[104m    \u001b[49m\u001b[104mid2word\u001b[49m\u001b[104m,\u001b[49m\u001b[104msort_topics\u001b[49m\u001b[38;5;241;104m=\u001b[39;49m\u001b[38;5;28;104;01mFalse\u001b[39;49;00m\n\u001b[0;32m      5\u001b[0m \u001b[104m)\u001b[49m\n\u001b[0;32m      6\u001b[0m pyLDAvis\u001b[38;5;241m.\u001b[39msave_html(vis_data_six,\u001b[38;5;124m'\u001b[39m\u001b[38;5;124mtopic_visuals_bigrams/ensembles/six_topics.html\u001b[39m\u001b[38;5;124m'\u001b[39m)\n\u001b[0;32m      7\u001b[0m pyLDAvis\u001b[38;5;241m.\u001b[39mdisplay(vis_data_six)\n",
      "File \u001b[1;32mc:\\Users\\DANNY\\Desktop\\deeper\\deep\\Lib\\site-packages\\pyLDAvis\\gensim_models.py:122\u001b[0m, in \u001b[0;36mprepare\u001b[1;34m(topic_model, corpus, dictionary, doc_topic_dist, **kwargs)\u001b[0m\n\u001b[0;32m     77\u001b[0m \u001b[39mdef\u001b[39;00m \u001b[39mprepare\u001b[39m(topic_model, corpus, dictionary, doc_topic_dist\u001b[39m=\u001b[39m\u001b[39mNone\u001b[39;00m, \u001b[39m*\u001b[39m\u001b[39m*\u001b[39mkwargs):\n\u001b[0;32m     78\u001b[0m \u001b[39m    \u001b[39m\u001b[39m\"\"\"Transforms the Gensim TopicModel and related corpus and dictionary into\u001b[39;00m\n\u001b[0;32m     79\u001b[0m \u001b[39m    the data structures needed for the visualization.\u001b[39;00m\n\u001b[0;32m     80\u001b[0m \n\u001b[1;32m   (...)\u001b[0m\n\u001b[0;32m    120\u001b[0m \u001b[39m    See `pyLDAvis.prepare` for **kwargs.\u001b[39;00m\n\u001b[0;32m    121\u001b[0m \u001b[39m    \"\"\"\u001b[39;00m\n\u001b[1;32m--> 122\u001b[0m     opts \u001b[39m=\u001b[39m fp\u001b[39m.\u001b[39mmerge(\u001b[104m_extract_data\u001b[104m(\u001b[104mtopic_model\u001b[104m,\u001b[104m \u001b[104mcorpus\u001b[104m,\u001b[104m \u001b[104mdictionary\u001b[104m,\u001b[104m \u001b[104mdoc_topic_dist\u001b[104m), kwargs)\n\u001b[0;32m    123\u001b[0m     \u001b[39mreturn\u001b[39;00m pyLDAvis\u001b[39m.\u001b[39mprepare(\u001b[39m*\u001b[39m\u001b[39m*\u001b[39mopts)\n",
      "File \u001b[1;32mc:\\Users\\DANNY\\Desktop\\deeper\\deep\\Lib\\site-packages\\pyLDAvis\\gensim_models.py:42\u001b[0m, in \u001b[0;36m_extract_data\u001b[1;34m(topic_model, corpus, dictionary, doc_topic_dists)\u001b[0m\n\u001b[0;32m     40\u001b[0m     num_topics \u001b[39m=\u001b[39m \u001b[39mlen\u001b[39m(topic_model\u001b[39m.\u001b[39mlda_alpha)\n\u001b[0;32m     41\u001b[0m \u001b[39melse\u001b[39;00m:\n\u001b[1;32m---> 42\u001b[0m     num_topics \u001b[39m=\u001b[39m \u001b[104mtopic_model\u001b[39m.\u001b[39;49m\u001b[104mnum_topics\n\u001b[0;32m     44\u001b[0m \u001b[39mif\u001b[39;00m doc_topic_dists \u001b[39mis\u001b[39;00m \u001b[39mNone\u001b[39;00m:\n\u001b[0;32m     45\u001b[0m     \u001b[39m# If its an HDP model.\u001b[39;00m\n\u001b[0;32m     46\u001b[0m     \u001b[39mif\u001b[39;00m \u001b[39mhasattr\u001b[39m(topic_model, \u001b[39m'\u001b[39m\u001b[39mlda_beta\u001b[39m\u001b[39m'\u001b[39m):\n",
      "\u001b[1;31mAttributeError\u001b[0m: 'EnsembleLda' object has no attribute 'num_topics'"
     ]
    }
   ],
   "source": [
    "pyLDAvis.enable_notebook()\n",
    "vis_data_six = gensimvis.prepare(\n",
    "    lda_model_six,bow_corpus,\n",
    "    id2word,sort_topics=False\n",
    ")\n",
    "pyLDAvis.save_html(vis_data_six,'topic_visuals_bigrams/ensembles/six_topics.html')\n",
    "pyLDAvis.display(vis_data_six)"
   ]
  },
  {
   "cell_type": "markdown",
   "metadata": {},
   "source": [
    "Raise an issue on GitHub concerning this functionality "
   ]
  }
 ],
 "metadata": {
  "kernelspec": {
   "display_name": "Python 3.11.4",
   "language": "python",
   "name": "python3"
  },
  "language_info": {
   "codemirror_mode": {
    "name": "ipython",
    "version": 3
   },
   "file_extension": ".py",
   "mimetype": "text/x-python",
   "name": "python",
   "nbconvert_exporter": "python",
   "pygments_lexer": "ipython3",
   "version": "3.11.4"
  },
  "orig_nbformat": 4,
  "vscode": {
   "interpreter": {
    "hash": "ac0102d0a19da1c8b26b42d48363cf190516c261e70572c95ad01c40031b103f"
   }
  }
 },
 "nbformat": 4,
 "nbformat_minor": 2
}
