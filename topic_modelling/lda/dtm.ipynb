{
 "cells": [
  {
   "cell_type": "code",
   "execution_count": 1,
   "metadata": {},
   "outputs": [],
   "source": [
    "import pandas as pd\n",
    "import numpy as np \n",
    "import matplotlib.pyplot as plt\n",
    "import plotly.express as px\n",
    "import plotly.graph_objects as go\n",
    "import plotly.figure_factory as ff\n",
    "import seaborn as sns\n",
    "from collections import Counter\n",
    "from wordcloud import WordCloud, STOPWORDS\n",
    "import string\n",
    "import re\n",
    "import spacy\n",
    "import gensim\n",
    "import warnings\n",
    "warnings.filterwarnings(\"ignore\")"
   ]
  },
  {
   "cell_type": "markdown",
   "metadata": {},
   "source": [
    "### **Phrase and Dictionary Construction**"
   ]
  },
  {
   "cell_type": "code",
   "execution_count": 2,
   "metadata": {},
   "outputs": [
    {
     "data": {
      "text/html": [
       "<div>\n",
       "<style scoped>\n",
       "    .dataframe tbody tr th:only-of-type {\n",
       "        vertical-align: middle;\n",
       "    }\n",
       "\n",
       "    .dataframe tbody tr th {\n",
       "        vertical-align: top;\n",
       "    }\n",
       "\n",
       "    .dataframe thead th {\n",
       "        text-align: right;\n",
       "    }\n",
       "</style>\n",
       "<table border=\"1\" class=\"dataframe\">\n",
       "  <thead>\n",
       "    <tr style=\"text-align: right;\">\n",
       "      <th></th>\n",
       "      <th>review</th>\n",
       "      <th>year</th>\n",
       "    </tr>\n",
       "  </thead>\n",
       "  <tbody>\n",
       "    <tr>\n",
       "      <th>0</th>\n",
       "      <td>As usual the flight is delayed. BA try to blam...</td>\n",
       "      <td>2023</td>\n",
       "    </tr>\n",
       "    <tr>\n",
       "      <th>1</th>\n",
       "      <td>I had the most fantastic BA Flight today. The ...</td>\n",
       "      <td>2023</td>\n",
       "    </tr>\n",
       "    <tr>\n",
       "      <th>2</th>\n",
       "      <td>Couldn’t book in online. Arrived at check in t...</td>\n",
       "      <td>2023</td>\n",
       "    </tr>\n",
       "    <tr>\n",
       "      <th>3</th>\n",
       "      <td>London Heathrow to Mumbai in a Boeing 787-8 in...</td>\n",
       "      <td>2023</td>\n",
       "    </tr>\n",
       "    <tr>\n",
       "      <th>4</th>\n",
       "      <td>Keflavík, Iceland to London Heathrow on an A32...</td>\n",
       "      <td>2023</td>\n",
       "    </tr>\n",
       "  </tbody>\n",
       "</table>\n",
       "</div>"
      ],
      "text/plain": [
       "                                              review  year\n",
       "0  As usual the flight is delayed. BA try to blam...  2023\n",
       "1  I had the most fantastic BA Flight today. The ...  2023\n",
       "2  Couldn’t book in online. Arrived at check in t...  2023\n",
       "3  London Heathrow to Mumbai in a Boeing 787-8 in...  2023\n",
       "4  Keflavík, Iceland to London Heathrow on an A32...  2023"
      ]
     },
     "execution_count": 2,
     "metadata": {},
     "output_type": "execute_result"
    }
   ],
   "source": [
    "df = pd.read_csv(\"../data/cleaned.csv\",usecols=['review','year'])\n",
    "df.head()"
   ]
  },
  {
   "cell_type": "code",
   "execution_count": 3,
   "metadata": {},
   "outputs": [],
   "source": [
    "texts = df.copy()"
   ]
  },
  {
   "cell_type": "code",
   "execution_count": 4,
   "metadata": {},
   "outputs": [
    {
     "data": {
      "text/html": [
       "<div>\n",
       "<style scoped>\n",
       "    .dataframe tbody tr th:only-of-type {\n",
       "        vertical-align: middle;\n",
       "    }\n",
       "\n",
       "    .dataframe tbody tr th {\n",
       "        vertical-align: top;\n",
       "    }\n",
       "\n",
       "    .dataframe thead th {\n",
       "        text-align: right;\n",
       "    }\n",
       "</style>\n",
       "<table border=\"1\" class=\"dataframe\">\n",
       "  <thead>\n",
       "    <tr style=\"text-align: right;\">\n",
       "      <th></th>\n",
       "      <th>year</th>\n",
       "    </tr>\n",
       "  </thead>\n",
       "  <tbody>\n",
       "    <tr>\n",
       "      <th>count</th>\n",
       "      <td>3604.000000</td>\n",
       "    </tr>\n",
       "    <tr>\n",
       "      <th>mean</th>\n",
       "      <td>2017.078246</td>\n",
       "    </tr>\n",
       "    <tr>\n",
       "      <th>std</th>\n",
       "      <td>2.557902</td>\n",
       "    </tr>\n",
       "    <tr>\n",
       "      <th>min</th>\n",
       "      <td>2011.000000</td>\n",
       "    </tr>\n",
       "    <tr>\n",
       "      <th>25%</th>\n",
       "      <td>2015.000000</td>\n",
       "    </tr>\n",
       "    <tr>\n",
       "      <th>50%</th>\n",
       "      <td>2017.000000</td>\n",
       "    </tr>\n",
       "    <tr>\n",
       "      <th>75%</th>\n",
       "      <td>2019.000000</td>\n",
       "    </tr>\n",
       "    <tr>\n",
       "      <th>max</th>\n",
       "      <td>2023.000000</td>\n",
       "    </tr>\n",
       "  </tbody>\n",
       "</table>\n",
       "</div>"
      ],
      "text/plain": [
       "              year\n",
       "count  3604.000000\n",
       "mean   2017.078246\n",
       "std       2.557902\n",
       "min    2011.000000\n",
       "25%    2015.000000\n",
       "50%    2017.000000\n",
       "75%    2019.000000\n",
       "max    2023.000000"
      ]
     },
     "execution_count": 4,
     "metadata": {},
     "output_type": "execute_result"
    }
   ],
   "source": [
    "texts.describe()"
   ]
  },
  {
   "cell_type": "code",
   "execution_count": 5,
   "metadata": {},
   "outputs": [
    {
     "name": "stdout",
     "output_type": "stream",
     "text": [
      "<class 'pandas.core.frame.DataFrame'>\n",
      "RangeIndex: 3604 entries, 0 to 3603\n",
      "Data columns (total 2 columns):\n",
      " #   Column  Non-Null Count  Dtype \n",
      "---  ------  --------------  ----- \n",
      " 0   review  3604 non-null   object\n",
      " 1   year    3604 non-null   int64 \n",
      "dtypes: int64(1), object(1)\n",
      "memory usage: 3.7 MB\n"
     ]
    }
   ],
   "source": [
    "texts.info(memory_usage='deep')"
   ]
  },
  {
   "cell_type": "code",
   "execution_count": 6,
   "metadata": {},
   "outputs": [
    {
     "name": "stdout",
     "output_type": "stream",
     "text": [
      "{'does', 'thereupon', 'between', 'toward', 'wherein', 'that', 'yours', 'towards', '’m', 'other', 'our', 'together', 'sixty', 'keep', 'another', 'across', 'became', 'out', 'nor', 'unless', 'serious', 'latterly', 'anyway', 'not', 'any', 'first', 'namely', 'all', 'third', 'everywhere', 'several', 'here', 'part', 'this', \"'s\", 'per', 'bottom', 'twenty', 'herein', '‘ll', 'forty', 'cannot', 'since', 'rather', 'doing', 'before', 'your', 'of', 'what', 'being', 'whole', 'many', 'is', 'quite', 'give', 'they', 'those', 'should', 'least', 'over', 'have', 'fifteen', 'nine', 'been', 'she', 'ours', 'side', 'someone', 'these', 'a', 'due', 'at', 'already', 'make', 'n‘t', 'herself', 'n’t', 'last', 'others', 'less', 'around', 'off', 'will', 'seems', 'can', 'might', 'just', 'could', 'same', 'further', 'latter', 'when', 'wherever', 'against', 'whereupon', 'mine', '‘m', 'while', 'whenever', 'still', 'four', 'with', 'become', 'whose', 'eight', 'whatever', 'ten', '’d', 'but', 'until', 'why', 'somewhere', 'everything', \"'ve\", 'my', 'ca', 'full', 'however', 'then', 'was', 'nobody', 'whereafter', 'themselves', 'whether', 'becomes', 'also', 'myself', 'noone', 'hereby', 'alone', 'top', 'to', 'once', 'five', 'under', 'move', 'too', '’ve', 'both', 'everyone', 'thus', 'twelve', 'name', 'put', '’s', 'used', 'anything', 'fifty', 'whom', 'via', 'through', 'call', 'eleven', 'had', 'along', 'now', '’ll', 'we', 'after', 'beforehand', 'although', 'yourselves', 'hers', 'whence', 'nowhere', 'each', 'somehow', 'above', 'very', 'anyone', 'thereafter', 'else', 'no', 'amount', 'indeed', 'thereby', 'own', 'regarding', 'every', 'up', 'say', 'always', 'afterwards', 'two', 'nothing', 'please', 'various', 'meanwhile', 'because', 'none', 'her', 'much', 'back', 'whoever', 'whereby', '‘ve', 'would', 'seeming', 'ever', '‘s', 'in', 'get', 'former', 'during', 'mostly', 'almost', 'am', 'its', 'seemed', \"'d\", \"'ll\", 'or', 'the', 'thru', 'becoming', 'only', 'me', 'often', 'how', 'if', 'sometime', 'one', 'him', 'ourselves', 'i', 'behind', 'made', 'without', 'most', 'yet', 'be', 'anywhere', 'whither', 'us', 'he', 'hereupon', \"n't\", 'besides', 'throughout', 'were', 'empty', 'into', 'for', 'six', 'otherwise', 'itself', 'neither', 'show', 'on', 'either', 'such', 'you', 'therefore', 'below', 'though', 'anyhow', 'except', 'see', 'sometimes', '‘re', 'again', '‘d', 'which', 'elsewhere', 'done', 'using', 're', 'who', 'from', 'really', 'as', 'there', 'do', 'so', 'front', 'amongst', 'are', 'three', 'must', 'never', 'onto', 'hence', 'by', 'did', 'has', 'nevertheless', 'more', 'thence', 'upon', 'and', 'hundred', \"'m\", 'formerly', 'about', 'where', 'beyond', 'well', 'yourself', 'their', 'than', 'therein', 'an', 'whereas', \"'re\", 'beside', 'perhaps', 'them', 'it', 'enough', 'moreover', 'may', 'among', 'go', '’re', 'even', 'his', 'next', 'hereafter', 'take', 'something', 'himself', 'some', 'seem', 'few', 'within', 'down'} \n",
      "\n",
      "{'does', 'thereupon', 'along', 'between', 'toward', 'now', 'wherein', '’ll', 'we', 'after', 'beforehand', 'that', 'yours', 'although', 'yourselves', 'hers', 'whence', 'nowhere', 'each', 'towards', '’m', 'other', 'somehow', 'our', 'together', 'above', 'very', 'anyone', 'sixty', 'thereafter', 'keep', 'else', 'amount', 'indeed', 'thereby', 'own', 'another', 'across', 'regarding', 'every', 'up', 'became', 'say', 'out', 'always', 'afterwards', 'unless', 'latterly', 'anyway', 'two', 'nothing', 'please', 'various', 'meanwhile', 'because', 'none', 'any', 'first', 'her', 'namely', 'all', 'much', 'back', 'third', 'whoever', 'everywhere', 'whereby', '‘ve', 'several', 'would', 'here', 'part', 'this', 'seeming', \"'s\", 'per', 'ever', '‘s', 'bottom', 'in', 'twenty', 'herein', 'get', 'former', 'during', '‘ll', 'mostly', 'forty', 'almost', 'since', 'rather', 'doing', 'am', 'its', 'before', 'your', 'of', \"'d\", 'what', \"'ll\", 'being', 'whole', 'the', 'thru', 'becoming', 'only', 'me', 'often', 'many', 'how', 'is', 'quite', 'give', 'they', 'those', 'should', 'if', 'sometime', 'least', 'one', 'have', 'him', 'ourselves', 'fifteen', 'nine', 'i', 'been', 'behind', 'she', 'made', 'ours', 'without', 'side', 'someone', 'most', 'these', 'a', 'yet', 'be', 'anywhere', 'due', 'whither', 'at', 'us', 'already', 'make', 'he', 'n‘t', 'hereupon', 'herself', 'n’t', \"n't\", 'besides', 'throughout', 'were', 'last', 'empty', 'into', 'others', 'less', 'for', 'around', 'off', 'six', 'itself', 'will', 'seems', 'show', 'on', 'either', 'such', 'can', 'you', 'therefore', 'might', 'just', 'below', 'though', 'anyhow', 'could', 'same', 'see', 'further', 'latter', 'when', 'sometimes', '‘re', 'again', '‘d', 'wherever', 'which', 'against', 'whereupon', 'mine', 'elsewhere', 'done', '‘m', 'using', 'while', 're', 'who', 'whenever', 'from', 'really', 'as', 'there', 'do', 'so', 'still', 'four', 'front', 'with', 'become', 'amongst', 'whose', 'are', 'three', 'must', 'never', 'onto', 'eight', 'whatever', 'ten', 'hence', '’d', 'but', 'by', 'until', 'why', 'somewhere', 'did', 'everything', \"'ve\", 'has', 'my', 'nevertheless', 'ca', 'full', 'more', 'however', 'thence', 'then', 'upon', 'and', 'hundred', \"'m\", 'was', 'formerly', 'about', 'nobody', 'whereafter', 'themselves', 'where', 'whether', 'beyond', 'becomes', 'eleven', 'also', 'well', 'yourself', 'their', 'than', 'therein', 'myself', 'noone', 'an', 'whereas', 'hereby', 'alone', 'top', 'to', \"'re\", 'once', 'beside', 'perhaps', 'them', 'five', 'it', 'enough', 'under', 'move', 'too', '’ve', 'moreover', 'both', 'may', 'among', 'everyone', 'go', '’re', 'even', 'his', 'thus', 'twelve', 'name', 'next', 'hereafter', 'take', 'something', 'himself', 'put', '’s', 'some', 'seem', 'few', 'used', 'anything', 'fifty', 'whom', 'within', 'down', 'via', 'through', 'call', 'had'}\n"
     ]
    }
   ],
   "source": [
    "from spacy.lang.en.stop_words import STOP_WORDS\n",
    "all_stopwords = STOP_WORDS\n",
    "# Run this only once\n",
    "\n",
    "# Before removing some stopwords\n",
    "print(all_stopwords,\"\\n\")\n",
    "\n",
    "# Removing some stopwords\n",
    "all_stopwords -= {\n",
    "   \"nor\",\"cannot\",\"serious\",\"over\",'or',\"seemed\",\n",
    "   \"not\",\"no\",\"neither\",\"otherwise\",\"except\"\n",
    "}\n",
    "\n",
    "# After removing some stopwords\n",
    "my_stop_words = set(all_stopwords) # My own stop words\n",
    "print(my_stop_words)"
   ]
  },
  {
   "cell_type": "code",
   "execution_count": 7,
   "metadata": {},
   "outputs": [],
   "source": [
    "def preprocess(sent):\n",
    "    '''Cleans text data up, leaving only 2 or\n",
    "        more char long non-stopwords composed of A-Z & a-z only\n",
    "        in lowercase'''\n",
    "    # lowercase\n",
    "    sentence = sent.lower()\n",
    "\n",
    "    # Remove RT\n",
    "    sentence = re.sub('RT @\\w+: ',\" \",sentence)\n",
    "\n",
    "    # Remove special characters\n",
    "    sentence = re.sub(\"(@[A-Za-z0-9]+)|([^0-9A-Za-z \\t])|(\\w+:\\/\\/\\S+)\",\" \", sentence)\n",
    "\n",
    "    # Removing digits\n",
    "    sentence = sentence.translate(str.maketrans('', '', string.digits))\n",
    "\n",
    "    # Removing puntuactions\n",
    "    # sentence = sentence.translate(str.maketrans('', '', string.punctuation))\n",
    "\n",
    "    # Single character removal\n",
    "    sentence = re.sub(r\"\\s+[a-zA-Z]\\s+\", ' ', sentence)\n",
    "\n",
    "    sentence = re.sub(r\"\\s+[a-zA-Z]\\s+\", ' ', sentence)  \n",
    "    # When we remove apostrophe from the word \"Mark's\", \n",
    "    # the apostrophe is replaced by an empty space. \n",
    "    # Hence, we are left with single character \"s\" that we are removing here.\n",
    "\n",
    "    # Remove multiple spaces\n",
    "    sentence = re.sub(r'\\s+', ' ', sentence)  \n",
    "    # Next, we remove all the single characters and replace it by a space \n",
    "    # which creates multiple spaces in our text. \n",
    "    # Finally, we remove the multiple spaces from our text as well.\n",
    "\n",
    "    return sentence"
   ]
  },
  {
   "cell_type": "code",
   "execution_count": 8,
   "metadata": {},
   "outputs": [],
   "source": [
    "texts['cleaned_reviews'] = texts['review'].apply(preprocess)"
   ]
  },
  {
   "cell_type": "code",
   "execution_count": 9,
   "metadata": {},
   "outputs": [],
   "source": [
    "nlp = spacy.load('en_core_web_sm')\n",
    "\n",
    "def spcay_tokeniser(sent):\n",
    "    sent = sent.strip().lower()\n",
    "    doc = nlp(sent)\n",
    "    mytokens = [token.lemma_ for token in doc if token.text not in my_stop_words]\n",
    "    return mytokens\n",
    "\n",
    "texts['tokens'] = texts['cleaned_reviews'].apply(spcay_tokeniser)"
   ]
  },
  {
   "cell_type": "code",
   "execution_count": 10,
   "metadata": {},
   "outputs": [
    {
     "data": {
      "text/html": [
       "<div>\n",
       "<style scoped>\n",
       "    .dataframe tbody tr th:only-of-type {\n",
       "        vertical-align: middle;\n",
       "    }\n",
       "\n",
       "    .dataframe tbody tr th {\n",
       "        vertical-align: top;\n",
       "    }\n",
       "\n",
       "    .dataframe thead th {\n",
       "        text-align: right;\n",
       "    }\n",
       "</style>\n",
       "<table border=\"1\" class=\"dataframe\">\n",
       "  <thead>\n",
       "    <tr style=\"text-align: right;\">\n",
       "      <th></th>\n",
       "      <th>review</th>\n",
       "      <th>year</th>\n",
       "      <th>cleaned_reviews</th>\n",
       "      <th>tokens</th>\n",
       "    </tr>\n",
       "  </thead>\n",
       "  <tbody>\n",
       "    <tr>\n",
       "      <th>0</th>\n",
       "      <td>As usual the flight is delayed. BA try to blam...</td>\n",
       "      <td>2023</td>\n",
       "      <td>as usual the flight is delayed ba try to blame...</td>\n",
       "      <td>[usual, flight, delay, ba, try, blame, inabili...</td>\n",
       "    </tr>\n",
       "    <tr>\n",
       "      <th>1</th>\n",
       "      <td>I had the most fantastic BA Flight today. The ...</td>\n",
       "      <td>2023</td>\n",
       "      <td>i had the most fantastic ba flight today the c...</td>\n",
       "      <td>[fantastic, ba, flight, today, cabin, crew, se...</td>\n",
       "    </tr>\n",
       "    <tr>\n",
       "      <th>2</th>\n",
       "      <td>Couldn’t book in online. Arrived at check in t...</td>\n",
       "      <td>2023</td>\n",
       "      <td>couldn book in online arrived at check in to f...</td>\n",
       "      <td>[couldn, book, online, arrive, check, find, bu...</td>\n",
       "    </tr>\n",
       "    <tr>\n",
       "      <th>3</th>\n",
       "      <td>London Heathrow to Mumbai in a Boeing 787-8 in...</td>\n",
       "      <td>2023</td>\n",
       "      <td>london heathrow to mumbai in boeing in busines...</td>\n",
       "      <td>[london, heathrow, mumbai, boeing, business, c...</td>\n",
       "    </tr>\n",
       "    <tr>\n",
       "      <th>4</th>\n",
       "      <td>Keflavík, Iceland to London Heathrow on an A32...</td>\n",
       "      <td>2023</td>\n",
       "      <td>keflav iceland to london heathrow on an in bus...</td>\n",
       "      <td>[keflav, iceland, london, heathrow, business, ...</td>\n",
       "    </tr>\n",
       "  </tbody>\n",
       "</table>\n",
       "</div>"
      ],
      "text/plain": [
       "                                              review  year  \\\n",
       "0  As usual the flight is delayed. BA try to blam...  2023   \n",
       "1  I had the most fantastic BA Flight today. The ...  2023   \n",
       "2  Couldn’t book in online. Arrived at check in t...  2023   \n",
       "3  London Heathrow to Mumbai in a Boeing 787-8 in...  2023   \n",
       "4  Keflavík, Iceland to London Heathrow on an A32...  2023   \n",
       "\n",
       "                                     cleaned_reviews  \\\n",
       "0  as usual the flight is delayed ba try to blame...   \n",
       "1  i had the most fantastic ba flight today the c...   \n",
       "2  couldn book in online arrived at check in to f...   \n",
       "3  london heathrow to mumbai in boeing in busines...   \n",
       "4  keflav iceland to london heathrow on an in bus...   \n",
       "\n",
       "                                              tokens  \n",
       "0  [usual, flight, delay, ba, try, blame, inabili...  \n",
       "1  [fantastic, ba, flight, today, cabin, crew, se...  \n",
       "2  [couldn, book, online, arrive, check, find, bu...  \n",
       "3  [london, heathrow, mumbai, boeing, business, c...  \n",
       "4  [keflav, iceland, london, heathrow, business, ...  "
      ]
     },
     "execution_count": 10,
     "metadata": {},
     "output_type": "execute_result"
    }
   ],
   "source": [
    "texts.head()"
   ]
  },
  {
   "cell_type": "code",
   "execution_count": 11,
   "metadata": {},
   "outputs": [
    {
     "name": "stdout",
     "output_type": "stream",
     "text": [
      "A simple story with an unfortunate outcome that really could happen to anyone. My partner and I recently started working after studying purchased two tickets to travel from London City Airport to Frankfurt. When we purchased the tickets, I mistakenly entered my name twice (e.g. Mr John Smith and Ms John Smith). Little did we know that our 1 simple mistake would cost us over 300 pounds. Upon arriving at the airport we were told there was no way to change the name (apparently they can only change 3 letters where there has been a typo?) and I had no other option to purchase the last remaining ticket if I wanted to board the flight - the price: almost seven times (!) higher than my original ticket. Zero empathy was shown. Zero alternative was offered. Trusting BA's staff and under the pretence that there was apparently no other way we could board the flight we bought this ticket. Immediately after I purchased the ticket I contacted BA's 'Commercial Change Booking Team' and informed them of our situation. The service representative apologised and told me they could have changed the name at the cost of a small fee. He offered to cancel my original ticket and issue me a partial refund then, advising me that I had a claim to the difference and I should contact Customer Support to do so. I told this person several times I wanted to claim the cost of the new ticket and even asked him explicitly if by accepting this offer, I would be denied from claiming the cost of the new ticket. He said no, I could claim the difference. Fair enough - we accepted this offer and lodged a ticket with Customer Support for the difference. Two days later, British Airways Customer Response informed us that we were unable to lodge a claim because we had 'voluntarily accepted the cancellation before the flight'. They've continued to send generic emails until this week, when they just stopped responding. So in short, British Airways misled and deceived my partner into accepting a lowball offer to waive our right to claim a refund. It keeps me up at night thinking how they can do this and get away with it so easily. \n",
      "\n",
      "a simple story with an unfortunate outcome that really could happen to anyone my partner and recently started working after studying purchased two tickets to travel from london city airport to frankfurt when we purchased the tickets mistakenly entered my name twice mr john smith and ms john smith little did we know that our simple mistake would cost us over pounds upon arriving at the airport we were told there was no way to change the name apparently they can only change letters where there has been typo and had no other option to purchase the last remaining ticket if wanted to board the flight the price almost seven times higher than my original ticket zero empathy was shown zero alternative was offered trusting ba staff and under the pretence that there was apparently no other way we could board the flight we bought this ticket immediately after purchased the ticket contacted ba commercial change booking team and informed them of our situation the service representative apologised and told me they could have changed the name at the cost of small fee he offered to cancel my original ticket and issue me partial refund then advising me that had claim to the difference and should contact customer support to do so told this person several times wanted to claim the cost of the new ticket and even asked him explicitly if by accepting this offer would be denied from claiming the cost of the new ticket he said no could claim the difference fair enough we accepted this offer and lodged ticket with customer support for the difference two days later british airways customer response informed us that we were unable to lodge claim because we had voluntarily accepted the cancellation before the flight they ve continued to send generic emails until this week when they just stopped responding so in short british airways misled and deceived my partner into accepting lowball offer to waive our right to claim refund it keeps me up at night thinking how they can do this and get away with it so easily  \n",
      "\n",
      "['simple', 'story', 'unfortunate', 'outcome', 'happen', 'partner', 'recently', 'start', 'work', 'study', 'purchase', 'ticket', 'travel', 'london', 'city', 'airport', 'frankfurt', 'purchase', 'ticket', 'mistakenly', 'enter', 'twice', 'mr', 'john', 'smith', 'ms', 'john', 'smith', 'little', 'know', 'simple', 'mistake', 'cost', 'over', 'pound', 'arrive', 'airport', 'tell', 'no', 'way', 'change', 'apparently', 'change', 'letter', 'typo', 'no', 'option', 'purchase', 'remain', 'ticket', 'want', 'board', 'flight', 'price', 'seven', 'time', 'high', 'original', 'ticket', 'zero', 'empathy', 'show', 'zero', 'alternative', 'offer', 'trust', 'ba', 'staff', 'pretence', 'apparently', 'no', 'way', 'board', 'flight', 'buy', 'ticket', 'immediately', 'purchase', 'ticket', 'contact', 'ba', 'commercial', 'change', 'book', 'team', 'inform', 'situation', 'service', 'representative', 'apologise', 'tell', 'change', 'cost', 'small', 'fee', 'offer', 'cancel', 'original', 'ticket', 'issue', 'partial', 'refund', 'advise', 'claim', 'difference', 'contact', 'customer', 'support', 'tell', 'person', 'time', 'want', 'claim', 'cost', 'new', 'ticket', 'ask', 'explicitly', 'accept', 'offer', 'deny', 'claim', 'cost', 'new', 'ticket', 'say', 'no', 'claim', 'difference', 'fair', 'accept', 'offer', 'lodge', 'ticket', 'customer', 'support', 'difference', 'day', 'later', 'british', 'airways', 'customer', 'response', 'inform', 'unable', 'lodge', 'claim', 'voluntarily', 'accept', 'cancellation', 'flight', 've', 'continue', 'send', 'generic', 'email', 'week', 'stop', 'respond', 'short', 'british', 'airways', 'mislead', 'deceive', 'partner', 'accept', 'lowball', 'offer', 'waive', 'right', 'claim', 'refund', 'keep', 'night', 'think', 'away', 'easily']\n"
     ]
    }
   ],
   "source": [
    "def inspector(index_value=0):\n",
    "    print(texts['review'][index_value],\"\\n\")\n",
    "    print(texts['cleaned_reviews'][index_value],\"\\n\")\n",
    "    print(texts['tokens'][index_value])\n",
    "inspector(10)"
   ]
  },
  {
   "cell_type": "code",
   "execution_count": 12,
   "metadata": {},
   "outputs": [],
   "source": [
    "# Compute bigrams\n",
    "from gensim.models import Phrases\n",
    "from gensim.models.phrases import Phraser,ENGLISH_CONNECTOR_WORDS"
   ]
  },
  {
   "cell_type": "code",
   "execution_count": 13,
   "metadata": {},
   "outputs": [],
   "source": [
    "docs = texts['tokens'].tolist()"
   ]
  },
  {
   "cell_type": "code",
   "execution_count": 14,
   "metadata": {},
   "outputs": [
    {
     "name": "stdout",
     "output_type": "stream",
     "text": [
      "['simple', 'story', 'unfortunate', 'outcome', 'happen', 'partner', 'recently', 'start', 'work', 'study', 'purchase', 'ticket', 'travel', 'london', 'city', 'airport', 'frankfurt', 'purchase', 'ticket', 'mistakenly', 'enter', 'twice', 'mr', 'john', 'smith', 'ms', 'john', 'smith', 'little', 'know', 'simple', 'mistake', 'cost', 'over', 'pound', 'arrive', 'airport', 'tell', 'no', 'way', 'change', 'apparently', 'change', 'letter', 'typo', 'no', 'option', 'purchase', 'remain', 'ticket', 'want', 'board', 'flight', 'price', 'seven', 'time', 'high', 'original', 'ticket', 'zero', 'empathy', 'show', 'zero', 'alternative', 'offer', 'trust', 'ba', 'staff', 'pretence', 'apparently', 'no', 'way', 'board', 'flight', 'buy', 'ticket', 'immediately', 'purchase', 'ticket', 'contact', 'ba', 'commercial', 'change', 'book', 'team', 'inform', 'situation', 'service', 'representative', 'apologise', 'tell', 'change', 'cost', 'small', 'fee', 'offer', 'cancel', 'original', 'ticket', 'issue', 'partial', 'refund', 'advise', 'claim', 'difference', 'contact', 'customer', 'support', 'tell', 'person', 'time', 'want', 'claim', 'cost', 'new', 'ticket', 'ask', 'explicitly', 'accept', 'offer', 'deny', 'claim', 'cost', 'new', 'ticket', 'say', 'no', 'claim', 'difference', 'fair', 'accept', 'offer', 'lodge', 'ticket', 'customer', 'support', 'difference', 'day', 'later', 'british', 'airways', 'customer', 'response', 'inform', 'unable', 'lodge', 'claim', 'voluntarily', 'accept', 'cancellation', 'flight', 've', 'continue', 'send', 'generic', 'email', 'week', 'stop', 'respond', 'short', 'british', 'airways', 'mislead', 'deceive', 'partner', 'accept', 'lowball', 'offer', 'waive', 'right', 'claim', 'refund', 'keep', 'night', 'think', 'away', 'easily']\n"
     ]
    }
   ],
   "source": [
    "def inspector_two(index_value=0):\n",
    "    print(docs[index_value])\n",
    "inspector_two(10)"
   ]
  },
  {
   "cell_type": "code",
   "execution_count": 15,
   "metadata": {},
   "outputs": [],
   "source": [
    "# https://stackoverflow.com/questions/56909294/how-to-set-time-slices-dynamic-topic-model\n",
    "# You must order from oldest date to newest date\n",
    "texts = texts.sort_values(by='year',ascending=True) "
   ]
  },
  {
   "cell_type": "code",
   "execution_count": 16,
   "metadata": {},
   "outputs": [],
   "source": [
    "texts= texts.reset_index()"
   ]
  },
  {
   "cell_type": "code",
   "execution_count": 17,
   "metadata": {},
   "outputs": [
    {
     "data": {
      "text/html": [
       "<div>\n",
       "<style scoped>\n",
       "    .dataframe tbody tr th:only-of-type {\n",
       "        vertical-align: middle;\n",
       "    }\n",
       "\n",
       "    .dataframe tbody tr th {\n",
       "        vertical-align: top;\n",
       "    }\n",
       "\n",
       "    .dataframe thead th {\n",
       "        text-align: right;\n",
       "    }\n",
       "</style>\n",
       "<table border=\"1\" class=\"dataframe\">\n",
       "  <thead>\n",
       "    <tr style=\"text-align: right;\">\n",
       "      <th></th>\n",
       "      <th>index</th>\n",
       "      <th>review</th>\n",
       "      <th>year</th>\n",
       "      <th>cleaned_reviews</th>\n",
       "      <th>tokens</th>\n",
       "    </tr>\n",
       "  </thead>\n",
       "  <tbody>\n",
       "    <tr>\n",
       "      <th>0</th>\n",
       "      <td>3603</td>\n",
       "      <td>SIN-LHR BA12 B747-436 First Class. Old aircraf...</td>\n",
       "      <td>2011</td>\n",
       "      <td>sin lhr ba first class old aircraft with seats...</td>\n",
       "      <td>[sin, lhr, ba, class, old, aircraft, seat, not...</td>\n",
       "    </tr>\n",
       "    <tr>\n",
       "      <th>1</th>\n",
       "      <td>3602</td>\n",
       "      <td>London City-New York JFK via Shannon on A318 b...</td>\n",
       "      <td>2011</td>\n",
       "      <td>london city new york jfk via shannon on but ha...</td>\n",
       "      <td>[london, city, new, york, jfk, shannon, nice, ...</td>\n",
       "    </tr>\n",
       "    <tr>\n",
       "      <th>2</th>\n",
       "      <td>3601</td>\n",
       "      <td>My son who had worked for British Airways urge...</td>\n",
       "      <td>2011</td>\n",
       "      <td>my son who had worked for british airways urge...</td>\n",
       "      <td>[son, work, british, airways, urge, fly, briti...</td>\n",
       "    </tr>\n",
       "    <tr>\n",
       "      <th>3</th>\n",
       "      <td>3589</td>\n",
       "      <td>Heathrow Marrakech. Had previously travelled o...</td>\n",
       "      <td>2012</td>\n",
       "      <td>heathrow marrakech had previously travelled on...</td>\n",
       "      <td>[heathrow, marrakech, previously, travel, brit...</td>\n",
       "    </tr>\n",
       "    <tr>\n",
       "      <th>4</th>\n",
       "      <td>3590</td>\n",
       "      <td>Flew return in CW from LHR to BKK in August 20...</td>\n",
       "      <td>2012</td>\n",
       "      <td>flew return in cw from lhr to bkk in august th...</td>\n",
       "      <td>[fly, return, cw, lhr, bkk, august, positive, ...</td>\n",
       "    </tr>\n",
       "  </tbody>\n",
       "</table>\n",
       "</div>"
      ],
      "text/plain": [
       "   index                                             review  year  \\\n",
       "0   3603  SIN-LHR BA12 B747-436 First Class. Old aircraf...  2011   \n",
       "1   3602  London City-New York JFK via Shannon on A318 b...  2011   \n",
       "2   3601  My son who had worked for British Airways urge...  2011   \n",
       "3   3589  Heathrow Marrakech. Had previously travelled o...  2012   \n",
       "4   3590  Flew return in CW from LHR to BKK in August 20...  2012   \n",
       "\n",
       "                                     cleaned_reviews  \\\n",
       "0  sin lhr ba first class old aircraft with seats...   \n",
       "1  london city new york jfk via shannon on but ha...   \n",
       "2  my son who had worked for british airways urge...   \n",
       "3  heathrow marrakech had previously travelled on...   \n",
       "4  flew return in cw from lhr to bkk in august th...   \n",
       "\n",
       "                                              tokens  \n",
       "0  [sin, lhr, ba, class, old, aircraft, seat, not...  \n",
       "1  [london, city, new, york, jfk, shannon, nice, ...  \n",
       "2  [son, work, british, airways, urge, fly, briti...  \n",
       "3  [heathrow, marrakech, previously, travel, brit...  \n",
       "4  [fly, return, cw, lhr, bkk, august, positive, ...  "
      ]
     },
     "execution_count": 17,
     "metadata": {},
     "output_type": "execute_result"
    }
   ],
   "source": [
    "texts.head()"
   ]
  },
  {
   "cell_type": "code",
   "execution_count": 18,
   "metadata": {},
   "outputs": [],
   "source": [
    "texts.drop('index',axis=1,inplace=True)"
   ]
  },
  {
   "cell_type": "code",
   "execution_count": 19,
   "metadata": {},
   "outputs": [
    {
     "data": {
      "text/html": [
       "<div>\n",
       "<style scoped>\n",
       "    .dataframe tbody tr th:only-of-type {\n",
       "        vertical-align: middle;\n",
       "    }\n",
       "\n",
       "    .dataframe tbody tr th {\n",
       "        vertical-align: top;\n",
       "    }\n",
       "\n",
       "    .dataframe thead th {\n",
       "        text-align: right;\n",
       "    }\n",
       "</style>\n",
       "<table border=\"1\" class=\"dataframe\">\n",
       "  <thead>\n",
       "    <tr style=\"text-align: right;\">\n",
       "      <th></th>\n",
       "      <th>review</th>\n",
       "      <th>year</th>\n",
       "      <th>cleaned_reviews</th>\n",
       "      <th>tokens</th>\n",
       "    </tr>\n",
       "  </thead>\n",
       "  <tbody>\n",
       "    <tr>\n",
       "      <th>0</th>\n",
       "      <td>SIN-LHR BA12 B747-436 First Class. Old aircraf...</td>\n",
       "      <td>2011</td>\n",
       "      <td>sin lhr ba first class old aircraft with seats...</td>\n",
       "      <td>[sin, lhr, ba, class, old, aircraft, seat, not...</td>\n",
       "    </tr>\n",
       "    <tr>\n",
       "      <th>1</th>\n",
       "      <td>London City-New York JFK via Shannon on A318 b...</td>\n",
       "      <td>2011</td>\n",
       "      <td>london city new york jfk via shannon on but ha...</td>\n",
       "      <td>[london, city, new, york, jfk, shannon, nice, ...</td>\n",
       "    </tr>\n",
       "    <tr>\n",
       "      <th>2</th>\n",
       "      <td>My son who had worked for British Airways urge...</td>\n",
       "      <td>2011</td>\n",
       "      <td>my son who had worked for british airways urge...</td>\n",
       "      <td>[son, work, british, airways, urge, fly, briti...</td>\n",
       "    </tr>\n",
       "    <tr>\n",
       "      <th>3</th>\n",
       "      <td>Heathrow Marrakech. Had previously travelled o...</td>\n",
       "      <td>2012</td>\n",
       "      <td>heathrow marrakech had previously travelled on...</td>\n",
       "      <td>[heathrow, marrakech, previously, travel, brit...</td>\n",
       "    </tr>\n",
       "    <tr>\n",
       "      <th>4</th>\n",
       "      <td>Flew return in CW from LHR to BKK in August 20...</td>\n",
       "      <td>2012</td>\n",
       "      <td>flew return in cw from lhr to bkk in august th...</td>\n",
       "      <td>[fly, return, cw, lhr, bkk, august, positive, ...</td>\n",
       "    </tr>\n",
       "  </tbody>\n",
       "</table>\n",
       "</div>"
      ],
      "text/plain": [
       "                                              review  year  \\\n",
       "0  SIN-LHR BA12 B747-436 First Class. Old aircraf...  2011   \n",
       "1  London City-New York JFK via Shannon on A318 b...  2011   \n",
       "2  My son who had worked for British Airways urge...  2011   \n",
       "3  Heathrow Marrakech. Had previously travelled o...  2012   \n",
       "4  Flew return in CW from LHR to BKK in August 20...  2012   \n",
       "\n",
       "                                     cleaned_reviews  \\\n",
       "0  sin lhr ba first class old aircraft with seats...   \n",
       "1  london city new york jfk via shannon on but ha...   \n",
       "2  my son who had worked for british airways urge...   \n",
       "3  heathrow marrakech had previously travelled on...   \n",
       "4  flew return in cw from lhr to bkk in august th...   \n",
       "\n",
       "                                              tokens  \n",
       "0  [sin, lhr, ba, class, old, aircraft, seat, not...  \n",
       "1  [london, city, new, york, jfk, shannon, nice, ...  \n",
       "2  [son, work, british, airways, urge, fly, briti...  \n",
       "3  [heathrow, marrakech, previously, travel, brit...  \n",
       "4  [fly, return, cw, lhr, bkk, august, positive, ...  "
      ]
     },
     "execution_count": 19,
     "metadata": {},
     "output_type": "execute_result"
    }
   ],
   "source": [
    "texts.head()"
   ]
  },
  {
   "cell_type": "code",
   "execution_count": 20,
   "metadata": {},
   "outputs": [],
   "source": [
    "# Add bigrams to docs (only ones that appear 20 times or more)\n",
    "bigram_phrases = Phrases(docs, min_count=20,connector_words=ENGLISH_CONNECTOR_WORDS)\n",
    "bigram = Phraser(bigram_phrases)"
   ]
  },
  {
   "cell_type": "code",
   "execution_count": 21,
   "metadata": {},
   "outputs": [],
   "source": [
    "def make_bigram(texts):\n",
    "    return([bigram[doc] for doc in texts])\n",
    "\n",
    "bigram_docs = make_bigram(docs)"
   ]
  },
  {
   "cell_type": "code",
   "execution_count": 22,
   "metadata": {},
   "outputs": [
    {
     "name": "stdout",
     "output_type": "stream",
     "text": [
      "Flight 103 on October 14. We flew from London to Calgary Alberta - a long cramped ride. It was on the new Dreamliner with very tight seats the people in front had to raise their seats when lunch was served as the trays hit our stomachs! Service almost non-existent even on a 9 hour trip! Beverages served once and then at dinner the cart with wine got two rows before us (row35) and they quickly returned it to the back as they felt they were late with the coffee didn't even ask us whether we would like anything. When the coffee did come it was lukewarm. There was not one good thing about our flight. We will never travel British Airways again. \n",
      "\n",
      "flight on october we flew from london to calgary alberta long cramped ride it was on the new dreamliner with very tight seats the people in front had to raise their seats when lunch was served as the trays hit our stomachs service almost non existent even on hour trip beverages served once and then at dinner the cart with wine got two rows before us row and they quickly returned it to the back as they felt they were late with the coffee didn even ask us whether we would like anything when the coffee did come it was lukewarm there was not one good thing about our flight we will never travel british airways again  \n",
      "\n",
      "['flight', 'october', 'fly', 'london', 'calgary', 'alberta', 'long', 'cramp', 'ride', 'new', 'dreamliner', 'tight', 'seat', 'people', 'raise', 'seat', 'lunch', 'serve', 'tray', 'hit', 'stomach', 'service', 'non', 'existent', 'hour', 'trip', 'beverage', 'serve', 'dinner', 'cart', 'wine', 'get', 'row', 'row', 'quickly', 'return', 'feel', 'late', 'coffee', 'didn', 'ask', 'like', 'coffee', 'come', 'lukewarm', 'not', 'good', 'thing', 'flight', 'travel', 'british', 'airway']\n",
      "\n",
      "['book', 'country', 'trip', 'husband', 'surprise', 'trip', 'monaco', 'give', 'over_hour', 'connect_flight', 'home', 'heathrow', 'flight', 'leave', 'seattle', 'hour', 'late', 'cause', 'miss_connect', 'flight', 'reschedule', 'land', 'book', 'flight', 'hour_later', 'offer', 'no', 'food', 'ticket', 'or', 'type', 'reimbursement', 'additionally', 'sit', 'customer_service', 'line', 'hour', 'half', 'rebook', 'early', 'flight', 'watch', 'continually', 'assist', 'customer', 'walk', 'outside', 'queue', 'no', 'early', 'flight', 'available', 'arrive', 'nice', 'france', 'airport', 'close', 'include', 'rental', 'car', 'desk', 'not', 'offer', 'assistance', 'airline', 'room', 'or', 'accommodation', 'night', 'find', 'cab', 'cost', 'euro', 'hotel', 'think', 'no', 'way', 'like', 'happen', 'way', 'home', 'wrong', 'flight', 'nice', 'heathrow', 'minute_late', 'hour', 'layover', 'think', 'flight', 'unfortunately', 'long', 'security', 'line', 'cause', 'over', 'hr', 'delay', 'arrive', 'ba', 'close', 'door', 'say', 'not', 'hold', 'plane', 'long', 'despite', 'arrive', 'min', 'departure', 'run', 'heathrow', 'airport', 'go', 'security', 'send', 'customer_service', 'queue', 'statement', 'tomorrow', 'beg', 'find', 'flight', 'airline', 'time', 'tell', 'bag', 'transfer', 'flight', 'delta', 'give', 'pound', 'snack', 'airport', 'additional', 'hour', 'delay', 'total', 'trip', 'home', 'spend', 'hour', 'heathrow', 'airport', 'original', 'total', 'layover', 'hour', 'offer', 'pound', 'unfortunately', 'drama', 'continue', 'bag', 'say', 'delta', 'flight', 'shockingly', 'not', 'tell', 'file', 'claim', 'delta', 'flight', 'home', 'day', 'airline', 'point', 'finger', 'say', 'today', 'don_care', 'bag', 'figure', 'send', 'luggage', 'don', 'want', 'reimbursement', 'bag', 'doesn', 'come', 'close', 'memory', 'stuff', 'fly', 'british_airways', 'delta', 'baggage', 'people', 'not', 'great']\n"
     ]
    }
   ],
   "source": [
    "def phrase_inspector(index_value=0):\n",
    "    print(bigram_docs[index_value])\n",
    "inspector(50)\n",
    "print()\n",
    "phrase_inspector(50)"
   ]
  },
  {
   "cell_type": "code",
   "execution_count": 23,
   "metadata": {},
   "outputs": [],
   "source": [
    "# Remove rare adn common tokens\n",
    "from gensim.corpora import Dictionary\n",
    "\n",
    "# Create a dictionary representation of the documents\n",
    "id2word = Dictionary(bigram_docs)\n",
    "# or \n",
    "# dictionary = Dictionary(docs)\n",
    "\n",
    "# Filter out words that occur in less than 20 documents, or \n",
    "# more than 50% of the documents\n",
    "# https://radimrehurek.com/gensim/corpora/dictionary.html#gensim.corpora.dictionary.Dictionary.filter_extremes\n",
    "id2word.filter_extremes(no_below=20,no_above=0.6)"
   ]
  },
  {
   "cell_type": "code",
   "execution_count": 24,
   "metadata": {},
   "outputs": [
    {
     "data": {
      "text/plain": [
       "[('seat', 4111),\n",
       " ('no', 2770),\n",
       " ('service', 2468),\n",
       " ('fly', 2382),\n",
       " ('good', 2374),\n",
       " ('time', 2372),\n",
       " ('food', 2078),\n",
       " ('british_airways', 1606),\n",
       " ('hour', 1578),\n",
       " ('or', 1532),\n",
       " ('airline', 1478),\n",
       " ('check', 1463),\n",
       " ('staff', 1423),\n",
       " ('london', 1354),\n",
       " ('passenger', 1271)]"
      ]
     },
     "execution_count": 24,
     "metadata": {},
     "output_type": "execute_result"
    }
   ],
   "source": [
    "id2word.most_common(15) # most common words"
   ]
  },
  {
   "cell_type": "code",
   "execution_count": 25,
   "metadata": {},
   "outputs": [],
   "source": [
    "# Bag-of-words representation of the documents.\n",
    "# Term document frequency \n",
    "bow_corpus = [id2word.doc2bow(doc) for doc in bigram_docs]\n",
    "\n",
    "# Create corpus\n",
    "text_corpus = bigram_docs"
   ]
  },
  {
   "cell_type": "code",
   "execution_count": 26,
   "metadata": {},
   "outputs": [
    {
     "name": "stdout",
     "output_type": "stream",
     "text": [
      "Number of unique tokens: 1594\n",
      "Number of documents: 3604\n"
     ]
    }
   ],
   "source": [
    "print(f\"Number of unique tokens: {len(id2word)}\")\n",
    "print(f\"Number of documents: {len(bow_corpus)}\")"
   ]
  },
  {
   "cell_type": "code",
   "execution_count": 27,
   "metadata": {},
   "outputs": [
    {
     "name": "stdout",
     "output_type": "stream",
     "text": [
      "Original text and tokens\n",
      "Just got back from Bridgetown Barbados flying with British Airways and frankly couldn't wait to get off. I was so disappointed. I have travelled regularly with BA but the flights going over and coming back left a lot to be desired. The plane was in need of repair. I had water dripping from the ceiling where I was sitting and when I told the stewardess was told that was usual due to condensation and proceeded to stuff a tissue to stop the dripping. The toilets were so old that bits of the cladding were coming away. The food was awful and inedible. The staff were unapproachable and looked fed up. BA get your act together or you'll be losing flyers by the hundreds. \n",
      "\n",
      "just got back from bridgetown barbados flying with british airways and frankly couldn wait to get off was so disappointed have travelled regularly with ba but the flights going over and coming back left lot to be desired the plane was in need of repair had water dripping from the ceiling where was sitting and when told the stewardess was told that was usual due to condensation and proceeded to stuff tissue to stop the dripping the toilets were so old that bits of the cladding were coming away the food was awful and inedible the staff were unapproachable and looked fed up ba get your act together or you ll be losing flyers by the hundreds  \n",
      "\n",
      "['get', 'bridgetown', 'barbado', 'fly', 'british', 'airways', 'frankly', 'couldn', 'wait', 'disappointed', 'travel', 'regularly', 'ba', 'flight', 'go', 'over', 'come', 'leave', 'lot', 'desire', 'plane', 'need', 'repair', 'water', 'dripping', 'ceiling', 'sit', 'tell', 'stewardess', 'tell', 'usual', 'condensation', 'proceed', 'stuff', 'tissue', 'stop', 'drip', 'toilet', 'old', 'bit', 'cladding', 'come', 'away', 'food', 'awful', 'inedible', 'staff', 'unapproachable', 'look', 'feed', 'ba', 'act', 'or', 'll', 'lose', 'flyer', 'hundred']\n",
      "\n",
      "Phrases\n",
      "['simple', 'story', 'unfortunate', 'outcome', 'happen', 'partner', 'recently', 'start', 'work', 'study', 'purchase', 'ticket', 'travel', 'london_city', 'airport', 'frankfurt', 'purchase', 'ticket', 'mistakenly', 'enter', 'twice', 'mr', 'john', 'smith', 'ms', 'john', 'smith', 'little', 'know', 'simple', 'mistake', 'cost', 'over', 'pound', 'arrive', 'airport', 'tell', 'no', 'way', 'change', 'apparently', 'change', 'letter', 'typo', 'no', 'option', 'purchase', 'remain', 'ticket', 'want', 'board', 'flight', 'price', 'seven', 'time', 'high', 'original', 'ticket', 'zero', 'empathy', 'show', 'zero', 'alternative', 'offer', 'trust', 'ba', 'staff', 'pretence', 'apparently', 'no', 'way', 'board', 'flight', 'buy', 'ticket', 'immediately', 'purchase', 'ticket', 'contact', 'ba', 'commercial', 'change', 'book', 'team', 'inform', 'situation', 'service', 'representative', 'apologise', 'tell', 'change', 'cost', 'small', 'fee', 'offer', 'cancel', 'original', 'ticket', 'issue', 'partial', 'refund', 'advise', 'claim', 'difference', 'contact', 'customer', 'support', 'tell', 'person', 'time', 'want', 'claim', 'cost', 'new', 'ticket', 'ask', 'explicitly', 'accept', 'offer', 'deny', 'claim', 'cost', 'new', 'ticket', 'say', 'no', 'claim', 'difference', 'fair', 'accept', 'offer', 'lodge', 'ticket', 'customer', 'support', 'difference', 'day_later', 'british_airways', 'customer', 'response', 'inform', 'unable', 'lodge', 'claim', 'voluntarily', 'accept', 'cancellation', 'flight', 've', 'continue', 'send', 'generic', 'email', 'week', 'stop', 'respond', 'short', 'british_airways', 'mislead', 'deceive', 'partner', 'accept', 'lowball', 'offer', 'waive', 'right', 'claim', 'refund', 'keep', 'night', 'think', 'away', 'easily']\n",
      "\n",
      "BoW representation: [(6, 1), (44, 2), (46, 1), (66, 1), (67, 2), (70, 2), (73, 1), (75, 2), (76, 1), (88, 4), (90, 2), (92, 1), (93, 1), (97, 2), (121, 1), (122, 1), (143, 5), (144, 1), (151, 1), (154, 2), (155, 1), (156, 2), (158, 1), (163, 1), (172, 4), (176, 3), (186, 1), (204, 1), (208, 1), (213, 1), (216, 1), (229, 2), (231, 1), (237, 1), (240, 1), (245, 1), (249, 1), (252, 2), (257, 1), (289, 4), (294, 3), (298, 4), (301, 4), (322, 1), (323, 1), (324, 1), (325, 1), (326, 6), (327, 2), (328, 1), (329, 1), (330, 3), (331, 1), (332, 1), (333, 1), (334, 1), (335, 1), (336, 1), (337, 1), (338, 2), (339, 1), (340, 1), (341, 1), (342, 1), (343, 2), (344, 1), (345, 1), (346, 1), (347, 1), (348, 1), (349, 1), (350, 1), (351, 1), (352, 1), (353, 1), (354, 2), (355, 1), (356, 1), (357, 1), (358, 2), (359, 1), (360, 10), (361, 1), (362, 1), (363, 2)]\n",
      "Word 6, staff, appears 1\n",
      "Word 44, new, appears 2\n",
      "Word 46, night, appears 1\n",
      "Word 66, think, appears 1\n",
      "Word 67, time, appears 2\n",
      "Word 70, way, appears 2\n",
      "Word 73, arrive, appears 1\n",
      "Word 75, board, appears 2\n",
      "Word 76, book, appears 1\n",
      "Word 88, no, appears 4\n",
      "Word 90, original, appears 2\n",
      "Word 92, stop, appears 1\n",
      "Word 93, twice, appears 1\n",
      "Word 97, british_airways, appears 2\n",
      "Word 121, right, appears 1\n",
      "Word 122, service, appears 1\n",
      "Word 143, offer, appears 5\n",
      "Word 144, over, appears 1\n",
      "Word 151, advise, appears 1\n",
      "Word 154, airport, appears 2\n",
      "Word 155, alternative, appears 1\n",
      "Word 156, apparently, appears 2\n",
      "Word 158, ask, appears 1\n",
      "Word 163, cancel, appears 1\n",
      "Word 172, cost, appears 4\n",
      "Word 176, customer, appears 3\n",
      "Word 186, email, appears 1\n",
      "Word 204, happen, appears 1\n",
      "Word 208, know, appears 1\n",
      "Word 213, mistake, appears 1\n",
      "Word 216, option, appears 1\n",
      "Word 229, refund, appears 2\n",
      "Word 231, remain, appears 1\n",
      "Word 237, say, appears 1\n",
      "Word 240, situation, appears 1\n",
      "Word 245, travel, appears 1\n",
      "Word 249, ve, appears 1\n",
      "Word 252, want, appears 2\n",
      "Word 257, work, appears 1\n",
      "Word 289, purchase, appears 4\n",
      "Word 294, tell, appears 3\n",
      "Word 298, accept, appears 4\n",
      "Word 301, change, appears 4\n",
      "Word 322, apologise, appears 1\n",
      "Word 323, away, appears 1\n",
      "Word 324, buy, appears 1\n",
      "Word 325, cancellation, appears 1\n",
      "Word 326, claim, appears 6\n",
      "Word 327, contact, appears 2\n",
      "Word 328, continue, appears 1\n",
      "Word 329, day_later, appears 1\n",
      "Word 330, difference, appears 3\n",
      "Word 331, easily, appears 1\n",
      "Word 332, enter, appears 1\n",
      "Word 333, fair, appears 1\n",
      "Word 334, fee, appears 1\n",
      "Word 335, frankfurt, appears 1\n",
      "Word 336, high, appears 1\n",
      "Word 337, immediately, appears 1\n",
      "Word 338, inform, appears 2\n",
      "Word 339, issue, appears 1\n",
      "Word 340, keep, appears 1\n",
      "Word 341, little, appears 1\n",
      "Word 342, london_city, appears 1\n",
      "Word 343, partner, appears 2\n",
      "Word 344, person, appears 1\n",
      "Word 345, pound, appears 1\n",
      "Word 346, price, appears 1\n",
      "Word 347, recently, appears 1\n",
      "Word 348, representative, appears 1\n",
      "Word 349, respond, appears 1\n",
      "Word 350, response, appears 1\n",
      "Word 351, send, appears 1\n",
      "Word 352, short, appears 1\n",
      "Word 353, show, appears 1\n",
      "Word 354, simple, appears 2\n",
      "Word 355, small, appears 1\n",
      "Word 356, start, appears 1\n",
      "Word 357, story, appears 1\n",
      "Word 358, support, appears 2\n",
      "Word 359, team, appears 1\n",
      "Word 360, ticket, appears 10\n",
      "Word 361, unable, appears 1\n",
      "Word 362, week, appears 1\n",
      "Word 363, zero, appears 2\n"
     ]
    }
   ],
   "source": [
    "# Verifyting BOW is set correctly\n",
    "def bow_verifier(index_value=0):\n",
    "    print(\"Original text and tokens\")\n",
    "    inspector(index_value)\n",
    "    print(\"\\nPhrases\")\n",
    "    phrase_inspector(index_value)\n",
    "    print()\n",
    "    print(f\"BoW representation: {bow_corpus[index_value]}\")\n",
    "\n",
    "    doc = f\"document_{index_value}\"\n",
    "    doc = bow_corpus[index_value]\n",
    "    for i in range(len(doc)):\n",
    "        print(f\"Word {doc[i][0]}, {id2word[doc[i][0]]}, appears {doc[i][1]}\")\n",
    "\n",
    "bow_verifier(10)"
   ]
  },
  {
   "cell_type": "code",
   "execution_count": 28,
   "metadata": {},
   "outputs": [
    {
     "data": {
      "text/plain": [
       "array([2011, 2012, 2014, 2015, 2016, 2017, 2018, 2019, 2020, 2021, 2022,\n",
       "       2023], dtype=int64)"
      ]
     },
     "execution_count": 28,
     "metadata": {},
     "output_type": "execute_result"
    }
   ],
   "source": [
    "texts.year.sort_values().unique()"
   ]
  },
  {
   "cell_type": "code",
   "execution_count": 29,
   "metadata": {},
   "outputs": [
    {
     "data": {
      "text/plain": [
       "year\n",
       "2011      3\n",
       "2012     12\n",
       "2021     87\n",
       "2020    104\n",
       "2023    170\n",
       "2022    213\n",
       "2018    324\n",
       "2019    356\n",
       "2014    465\n",
       "2016    570\n",
       "2017    572\n",
       "2015    728\n",
       "Name: count, dtype: int64"
      ]
     },
     "execution_count": 29,
     "metadata": {},
     "output_type": "execute_result"
    }
   ],
   "source": [
    "texts.year.value_counts().sort_values()"
   ]
  },
  {
   "cell_type": "markdown",
   "metadata": {},
   "source": [
    "|year|document count|\n",
    "|---|---|\n",
    "|2011    |  3|\n",
    "|2012    | 12|\n",
    "|2021    | 87|\n",
    "|2020    |104|\n",
    "|2023    |170|\n",
    "|2022    |213|\n",
    "|2018    |324|\n",
    "|2019    |356|\n",
    "|2014    |465|\n",
    "|2016    |570|\n",
    "|2017    |572|\n",
    "|2015    |728|"
   ]
  },
  {
   "cell_type": "code",
   "execution_count": 30,
   "metadata": {},
   "outputs": [],
   "source": [
    "years = [2011, 2012, 2014, 2015, 2016, 2017, 2018, \n",
    "2019, 2020, 2021, 2022,2023]\n",
    "\n",
    "time_slice_years = [3, 12, 87, 104, 170, 213, 324,  \n",
    "356, 465, 570, 572,728]"
   ]
  },
  {
   "cell_type": "code",
   "execution_count": 31,
   "metadata": {},
   "outputs": [],
   "source": [
    "from gensim import models\n",
    "from gensim.matutils import hellinger\n",
    "from gensim.models.coherencemodel import CoherenceModel\n",
    "import pyLDAvis.gensim_models as gensimvis\n",
    "import pyLDAvis"
   ]
  },
  {
   "cell_type": "code",
   "execution_count": 32,
   "metadata": {},
   "outputs": [],
   "source": [
    "ldaseq = models.ldaseqmodel.LdaSeqModel(\n",
    "    corpus=bow_corpus,\n",
    "    id2word=id2word,\n",
    "    time_slice=time_slice_years,\n",
    "    num_topics=4,\n",
    "    random_state=42,\n",
    "    passes=300,\n",
    "    chunksize=100\n",
    ")"
   ]
  },
  {
   "cell_type": "markdown",
   "metadata": {},
   "source": [
    "### **Topics Per Time** "
   ]
  },
  {
   "cell_type": "markdown",
   "metadata": {},
   "source": [
    "For each year there 4 topics"
   ]
  },
  {
   "cell_type": "code",
   "execution_count": 38,
   "metadata": {},
   "outputs": [],
   "source": [
    "def print_topics_per_time(time:int,model):\n",
    "    try:\n",
    "        print(model.print_topics(time=time),\"\\n\")\n",
    "    except:\n",
    "        print(\"Please choose a time slice from 0-11 and must be a integer\")"
   ]
  },
  {
   "cell_type": "code",
   "execution_count": 39,
   "metadata": {},
   "outputs": [
    {
     "name": "stdout",
     "output_type": "stream",
     "text": [
      "2011\n",
      "[[('seat', 0.037770465193787545), ('no', 0.02066108119583653), ('service', 0.01554384072833168), ('fly', 0.014640918697196689), ('business_class', 0.014054585367620703), ('food', 0.01364037006093668), ('airline', 0.012360168117097255), ('or', 0.010289852704322887), ('economy', 0.009866513872450204), ('meal', 0.008950181555379641), ('offer', 0.0084928896916951), ('pay', 0.008183971933556335), ('passenger', 0.007288862809173547), ('hour', 0.006754035987738513), ('bad', 0.006685853113956454), ('time', 0.006559928814566636), ('cabin', 0.006553378767815983), ('staff', 0.005950992721772907), ('plane', 0.005814869357256031), ('british_airways', 0.0054697605547509975)], [('time', 0.018827096401337604), ('check', 0.017898390190656987), ('no', 0.017465522126246275), ('service', 0.015630728916312703), ('lounge', 0.015220701107767092), ('boarding', 0.014018452059129381), ('passenger', 0.011414465341432575), ('gate', 0.01073454640885411), ('good', 0.010438950178750085), ('delay', 0.009454419584804728), ('board', 0.00943138359785624), ('crew', 0.00940117437714531), ('minute', 0.009223476462569264), ('drink', 0.008934529921999135), ('staff', 0.008211747038759931), ('seat', 0.007774178128877628), ('food', 0.007414483133031715), ('plane', 0.0070063083925352), ('arrive', 0.006624779299929463), ('bag', 0.006610024215107859)], [('no', 0.015197273869374202), ('tell', 0.01298007702596063), ('hour', 0.012781950711361383), ('book', 0.011511185754066063), ('cancel', 0.011395354552970634), ('time', 0.009979878871945442), ('check', 0.009662867076525724), ('british_airways', 0.009431223441607588), ('day', 0.009385339434768375), ('airline', 0.009254634459894736), ('customer_service', 0.008780264749608309), ('airport', 0.008673011877312129), ('delay', 0.008625954528324044), ('fly', 0.008609513202830241), ('london', 0.00857237033834091), ('travel', 0.007697311066518446), ('or', 0.007521236112129172), ('refund', 0.007299151753616987), ('ticket', 0.007125124489708119), ('say', 0.007106319912740991)], [('good', 0.03860842127415124), ('seat', 0.01915158189044067), ('food', 0.017982066305918764), ('service', 0.015428147126023733), ('crew', 0.013676806088169784), ('time', 0.012987486635121026), ('fly', 0.011616680305235558), ('great', 0.011256222498163894), ('comfortable', 0.010928434282298082), ('experience', 0.010261965419511689), ('excellent', 0.00893920236820831), ('london', 0.00854665995477961), ('new', 0.00810826736169898), ('cabin', 0.007429932697709782), ('cabin_crew', 0.007068277662758396), ('lhr', 0.00672299224722888), ('club_world', 0.006700217062394445), ('aircraft', 0.006528762491621524), ('nice', 0.0063912730601377084), ('friendly', 0.00619830693478875)]] \n",
      "\n",
      "2012\n",
      "[[('seat', 0.03789200770564521), ('no', 0.020711420562084807), ('service', 0.015578284292705878), ('fly', 0.014676093605785787), ('business_class', 0.014084762057600253), ('food', 0.013668925662207749), ('airline', 0.012386688720739478), ('or', 0.01030808030501611), ('economy', 0.009884395900601339), ('meal', 0.00896362934558935), ('offer', 0.008505731628600632), ('pay', 0.00819738448470181), ('passenger', 0.007298964251672331), ('hour', 0.00676399951106768), ('bad', 0.006694652573464308), ('time', 0.006568773502880234), ('cabin', 0.0065618051320619234), ('staff', 0.005958765152769154), ('plane', 0.005821878949669816), ('british_airways', 0.005480081340736966)], [('time', 0.01887596145664147), ('check', 0.017967675343360922), ('no', 0.017531817397776886), ('service', 0.015650206112513363), ('lounge', 0.015232906367125522), ('boarding', 0.014018764236164043), ('passenger', 0.011447019172938866), ('gate', 0.010716367924230764), ('good', 0.010462013055746613), ('board', 0.009454533207928868), ('crew', 0.009422580568525263), ('delay', 0.009411334819440448), ('minute', 0.009246242928866985), ('drink', 0.008955825489199222), ('staff', 0.00820142171109314), ('seat', 0.007786252113780743), ('food', 0.0074295462365147665), ('plane', 0.007019926760153354), ('bag', 0.006621884368308662), ('arrive', 0.006617069596189081)], [('no', 0.015189879786198533), ('tell', 0.013032155804894849), ('hour', 0.012832707944423307), ('book', 0.011496452535063534), ('cancel', 0.011437669442457504), ('time', 0.010012572038246542), ('check', 0.009646196995247434), ('british_airways', 0.009460433415523562), ('day', 0.009414731468216878), ('airline', 0.009236968492915556), ('customer_service', 0.008805724175402898), ('airport', 0.008699156057038552), ('delay', 0.008637512725588914), ('fly', 0.00863438023855554), ('london', 0.008597306378057345), ('travel', 0.007718803357291992), ('or', 0.007541197504593113), ('refund', 0.007318441692687124), ('ticket', 0.007142194248039486), ('say', 0.007124229507248769)], [('good', 0.038973405322523955), ('seat', 0.01921426650112338), ('food', 0.018013309602939644), ('service', 0.015466416924886789), ('crew', 0.01373811364992662), ('time', 0.0129918755548122), ('fly', 0.01165052457727193), ('great', 0.01123171780909988), ('comfortable', 0.010799172950315478), ('experience', 0.010283790633903663), ('excellent', 0.008995248838988184), ('london', 0.008512191566015051), ('new', 0.008078388430111905), ('cabin', 0.0074687319784696405), ('cabin_crew', 0.007067671849128706), ('lhr', 0.00675516683712737), ('club_world', 0.00669809728739685), ('aircraft', 0.0065325779917823155), ('nice', 0.006388163488168244), ('friendly', 0.006194421127346719)]] \n",
      "\n",
      "2014\n",
      "[[('seat', 0.03810942716236101), ('no', 0.02079443214958505), ('service', 0.015539028063267572), ('fly', 0.01477977833892051), ('business_class', 0.013903191996370103), ('food', 0.01369084686343555), ('airline', 0.012388790788963055), ('or', 0.010358731887788197), ('economy', 0.00982631480637133), ('meal', 0.009008227665758236), ('offer', 0.008516916111309215), ('pay', 0.008228217759433184), ('passenger', 0.007304899116544001), ('hour', 0.006787928455517812), ('bad', 0.006716965618648332), ('time', 0.006584883617870972), ('cabin', 0.006581865083700366), ('staff', 0.00596740978075019), ('plane', 0.005839707099366514), ('british_airways', 0.005476285915187975)], [('time', 0.019009616589220017), ('check', 0.018090566358885216), ('no', 0.017612262111981802), ('service', 0.01552940075282109), ('lounge', 0.01520568691537493), ('boarding', 0.014107772786891896), ('passenger', 0.01149735076047805), ('gate', 0.010736531826789644), ('good', 0.01050355572188891), ('board', 0.009417885826285314), ('crew', 0.0093873210066303), ('minute', 0.009305991994269257), ('delay', 0.009252133722693779), ('drink', 0.008997990774075757), ('staff', 0.008154012213023505), ('seat', 0.007778285691901489), ('food', 0.007424327520140779), ('plane', 0.007045243262774019), ('bag', 0.006665618701571395), ('arrive', 0.0066193275019421)], [('no', 0.015082581902498055), ('tell', 0.012888081087199967), ('hour', 0.012674455240452203), ('cancel', 0.01148354377355571), ('book', 0.011427977169531013), ('time', 0.010053238610506917), ('day', 0.009624125912770717), ('check', 0.00958761356708529), ('british_airways', 0.009532706066016106), ('airline', 0.009367370413695869), ('customer_service', 0.00893784000039043), ('fly', 0.008846499334346693), ('london', 0.008720974533051392), ('delay', 0.008658353060214969), ('airport', 0.008491696915431494), ('or', 0.007626780697249279), ('travel', 0.00757758484747105), ('refund', 0.007210445800231922), ('bag', 0.007202891180463681), ('try', 0.007123126536724428)], [('good', 0.0395092100693423), ('seat', 0.019374887538614168), ('food', 0.01794904175506354), ('service', 0.015517785320399519), ('crew', 0.01377011643718199), ('time', 0.013046298378139037), ('fly', 0.011722325506590565), ('great', 0.011202884059765425), ('comfortable', 0.010664484810720425), ('experience', 0.010170831785230405), ('excellent', 0.009074744099016162), ('london', 0.008498405925525223), ('new', 0.008057465611366417), ('cabin', 0.007524452588123294), ('cabin_crew', 0.007050020580508451), ('lhr', 0.006712423804541988), ('club_world', 0.006676560767845861), ('aircraft', 0.006548588736183076), ('nice', 0.006396275024696), ('meal', 0.006173320505829956)]] \n",
      "\n",
      "2015\n",
      "[[('seat', 0.035996735938184254), ('no', 0.020804315930865076), ('service', 0.015193671739711137), ('fly', 0.014601969315211598), ('food', 0.01392734342257486), ('business_class', 0.013626922110493267), ('airline', 0.012326290897009987), ('or', 0.010658623638839303), ('economy', 0.009506138357346048), ('meal', 0.009333206952852526), ('offer', 0.008627931541750199), ('pay', 0.008068359629802957), ('passenger', 0.007223937586867423), ('hour', 0.006747002109612828), ('cabin', 0.006691110856714886), ('bad', 0.006639538995602072), ('time', 0.006472223793336425), ('staff', 0.00592754777408255), ('plane', 0.005826885817243098), ('british_airways', 0.005533172875423939)], [('time', 0.01922978417926765), ('check', 0.017883482170083287), ('no', 0.017329911526922842), ('service', 0.015459007940475304), ('lounge', 0.015124912375023405), ('boarding', 0.013901861770020958), ('passenger', 0.011605574468599791), ('good', 0.010531549839412863), ('gate', 0.010365732871622057), ('board', 0.009456596835053363), ('minute', 0.0094255782988642), ('crew', 0.00937506412423846), ('delay', 0.009227598398411526), ('drink', 0.00915277151960965), ('staff', 0.008062481871263617), ('seat', 0.007831495277903907), ('food', 0.007381668121155121), ('plane', 0.007124045946473322), ('bag', 0.0067256288979306335), ('arrive', 0.006631940544567103)], [('no', 0.014960460804138013), ('tell', 0.013278172914228763), ('hour', 0.012834152781507726), ('cancel', 0.012114936116492177), ('book', 0.01166640729154425), ('time', 0.010259320133591677), ('day', 0.010070295322183096), ('check', 0.00971763098453457), ('british_airways', 0.009332736583888028), ('london', 0.009021079214637958), ('fly', 0.008996381729302956), ('airline', 0.008898643213357324), ('customer_service', 0.008538084686467544), ('delay', 0.008506593876559354), ('airport', 0.008260590755453448), ('or', 0.007521275067721042), ('travel', 0.007421244803812078), ('bag', 0.007172284591189202), ('refund', 0.00714676860960638), ('try', 0.007112788449878044)], [('good', 0.03997007003873245), ('seat', 0.0195965269028206), ('food', 0.017835848272231943), ('service', 0.01572844441694756), ('crew', 0.013539880029505557), ('time', 0.012958939758620653), ('fly', 0.011793094812933221), ('great', 0.011006565987138475), ('comfortable', 0.01055489346615269), ('experience', 0.0099525262348178), ('excellent', 0.009058055764254946), ('london', 0.008591468204851302), ('new', 0.007973184385372969), ('cabin', 0.007629570215630995), ('cabin_crew', 0.007069287192478881), ('lhr', 0.006693156025430968), ('club_world', 0.006623826177428337), ('aircraft', 0.006567443068446792), ('nice', 0.006387031558864263), ('meal', 0.006165952616461922)]] \n",
      "\n",
      "2016\n",
      "[[('seat', 0.034943376646720065), ('no', 0.020433531770744934), ('service', 0.014509831207759736), ('food', 0.013869434416354336), ('fly', 0.013780936278056634), ('business_class', 0.013497223366956922), ('airline', 0.012554629631122156), ('or', 0.010927907406236738), ('economy', 0.009287757866343303), ('meal', 0.009143086037467475), ('offer', 0.008678882447781906), ('pay', 0.00785220167360457), ('passenger', 0.007130693381242205), ('cabin', 0.006907473511593895), ('bad', 0.006667334659417431), ('hour', 0.0066635296466026886), ('time', 0.0063593721438440585), ('staff', 0.005850390761034186), ('london', 0.005842429951877829), ('british_airways', 0.00577189683575593)], [('time', 0.019205661220567105), ('check', 0.018269823632509306), ('no', 0.016682696364373098), ('lounge', 0.015185623353371612), ('service', 0.015138468939170003), ('boarding', 0.013212733102201191), ('passenger', 0.011943716674542741), ('good', 0.0106814722284297), ('gate', 0.010133767627351652), ('board', 0.009570766074200673), ('minute', 0.009439290617111075), ('drink', 0.009297544856169978), ('crew', 0.009281129316173226), ('delay', 0.009250678652444964), ('staff', 0.008036483860136433), ('seat', 0.007813608796884492), ('food', 0.007375491381526127), ('plane', 0.00716236455383217), ('bag', 0.006800205125664727), ('arrive', 0.006777499223556757)], [('no', 0.014719404901416903), ('tell', 0.013419105226340995), ('hour', 0.013090149115975117), ('book', 0.01191013743550816), ('cancel', 0.011545163174082988), ('time', 0.010352732654511964), ('day', 0.010268025530530876), ('london', 0.009830140967254096), ('check', 0.009692603932745673), ('british_airways', 0.009345081637782733), ('fly', 0.009236510841719623), ('airline', 0.008743320182069674), ('customer_service', 0.008487268775591044), ('delay', 0.008224576341582185), ('airport', 0.007989696405819773), ('travel', 0.007554041114984682), ('or', 0.00748308836266222), ('refund', 0.007305355537155722), ('bag', 0.007173525123961359), ('say', 0.007106503593685861)], [('good', 0.03841739073484765), ('seat', 0.020144452098871977), ('food', 0.01764125984430008), ('service', 0.0158178687117986), ('crew', 0.013211531249477597), ('time', 0.012896798849065232), ('fly', 0.011932872289796555), ('great', 0.010581752430925151), ('comfortable', 0.010506629850453817), ('experience', 0.009901833835223332), ('london', 0.00893812344044267), ('excellent', 0.00888605443144892), ('new', 0.00794935698527965), ('cabin', 0.00783810630613206), ('cabin_crew', 0.0071963511552457235), ('lhr', 0.006655714630598293), ('aircraft', 0.0066171801817147494), ('club_world', 0.006549347242607041), ('nice', 0.006383427579770625), ('friendly', 0.006141727864718538)]] \n",
      "\n",
      "2017\n",
      "[[('seat', 0.03516504818637122), ('no', 0.019586963325540066), ('service', 0.014135353762548855), ('food', 0.013284824470857338), ('fly', 0.013273501668729058), ('business_class', 0.012641591618053135), ('airline', 0.01261312615222236), ('or', 0.01092541128949537), ('economy', 0.008926565088962602), ('meal', 0.008820413608387655), ('offer', 0.008471433114207052), ('pay', 0.007704819036753882), ('cabin', 0.007035448484635097), ('passenger', 0.006957190645102568), ('bad', 0.006701519709172287), ('hour', 0.006420704893093502), ('london', 0.006321847814429479), ('time', 0.0062440864300778234), ('british_airways', 0.006120560274905883), ('class', 0.00595947403465186)], [('check', 0.01882907318746199), ('time', 0.018466781718968022), ('no', 0.016027997378479326), ('lounge', 0.015533067573580667), ('service', 0.01502698740339979), ('boarding', 0.012903829505572258), ('passenger', 0.012064290060175712), ('good', 0.01080091935021756), ('board', 0.009681312049702365), ('minute', 0.009616629219933486), ('gate', 0.009505799500162185), ('crew', 0.00933683459416981), ('drink', 0.009335050519742942), ('delay', 0.008979147858093084), ('seat', 0.007885715356773555), ('staff', 0.007714290965827651), ('food', 0.007348085463384277), ('plane', 0.0073078096274533265), ('bag', 0.006869406821761443), ('arrive', 0.006781327801428575)], [('no', 0.014615834058273686), ('tell', 0.013035300810087322), ('hour', 0.01255578821228193), ('book', 0.011795521023834788), ('london', 0.011031882991149669), ('cancel', 0.01069027257694208), ('day', 0.010313558285472682), ('time', 0.010243611001218511), ('fly', 0.009761856252868475), ('british_airways', 0.009664340447203781), ('check', 0.009385600119401937), ('airline', 0.008499352766395513), ('delay', 0.008231860095671043), ('customer_service', 0.008114888748677645), ('airport', 0.007812362607753667), ('travel', 0.0076996186651783725), ('or', 0.007421226950316574), ('bag', 0.007363841316845755), ('staff', 0.007296763351318626), ('say', 0.007167137086987923)], [('good', 0.03634490169946547), ('seat', 0.020881464790817206), ('food', 0.017307327470887243), ('service', 0.01585843612928382), ('crew', 0.013401018729924098), ('time', 0.012462483914524118), ('fly', 0.012075903867670218), ('comfortable', 0.01055382710757605), ('great', 0.010219595865884794), ('experience', 0.009705129194335216), ('london', 0.009632017151609527), ('excellent', 0.008566433552091166), ('cabin', 0.008160545946597968), ('new', 0.007618987077874015), ('cabin_crew', 0.007148790678445654), ('aircraft', 0.006714841884563912), ('lhr', 0.006573309764855582), ('club_world', 0.006431000029794718), ('nice', 0.006411923618850877), ('friendly', 0.006130767388811779)]] \n",
      "\n",
      "2018\n",
      "[[('seat', 0.033655939087958706), ('no', 0.01884103731152107), ('service', 0.013799449678515291), ('fly', 0.013106173532764515), ('food', 0.012908350169491387), ('airline', 0.012438608503617143), ('business_class', 0.011320128393789817), ('or', 0.010879377307627553), ('meal', 0.008830083957685106), ('economy', 0.008624904369957607), ('offer', 0.008326748151647302), ('pay', 0.007548746316793486), ('cabin', 0.007129479524755433), ('bad', 0.006730401123771157), ('london', 0.006715581532743029), ('passenger', 0.006675317667388014), ('british_airways', 0.006607924388488786), ('hour', 0.006318293891748599), ('time', 0.006095512886657645), ('class', 0.006073746192098329)], [('check', 0.01816797168265485), ('time', 0.017728413119248235), ('lounge', 0.01531069227482917), ('no', 0.0152231727262906), ('service', 0.015019812044414129), ('boarding', 0.012926774785759267), ('passenger', 0.011662008471669831), ('good', 0.010880055031050453), ('minute', 0.00994373363638314), ('board', 0.009902539501494148), ('drink', 0.009568685240149089), ('crew', 0.009368398157544937), ('delay', 0.009044595746304769), ('gate', 0.008995585679448385), ('seat', 0.008036731674006566), ('plane', 0.007472641612442053), ('staff', 0.007284814661939481), ('food', 0.007260804389594313), ('bag', 0.007211273105760237), ('arrive', 0.006911715025380588)], [('no', 0.014875579737646924), ('tell', 0.013484462036497143), ('hour', 0.013113606155871664), ('london', 0.012380884149049842), ('book', 0.01087652580374536), ('day', 0.010600414277144914), ('british_airways', 0.010219603430036549), ('fly', 0.010150528261013536), ('time', 0.010136205401386943), ('check', 0.00997701524560383), ('delay', 0.009205561589818194), ('cancel', 0.00884957530264633), ('bag', 0.008226031415771343), ('airport', 0.008188288678464571), ('customer_service', 0.008110483349282133), ('airline', 0.008092905098490212), ('staff', 0.007762632042599003), ('or', 0.00711125825388846), ('travel', 0.007081602425397834), ('say', 0.0070164513997341355)], [('good', 0.03379082466564733), ('seat', 0.02184808019431248), ('food', 0.01711937804849847), ('service', 0.01602435672309539), ('crew', 0.013319707238011288), ('time', 0.012143057055869773), ('fly', 0.01202246066862751), ('comfortable', 0.010576914998766862), ('london', 0.010206458422196581), ('great', 0.009822638190630709), ('experience', 0.009431669102035663), ('excellent', 0.008349031277118602), ('cabin', 0.008323940155579794), ('new', 0.007243715491118652), ('cabin_crew', 0.007115279555033788), ('aircraft', 0.006666372873974445), ('lhr', 0.006639181268858859), ('nice', 0.00629750570472569), ('club_world', 0.0062693111411214475), ('staff', 0.0061031743516188584)]] \n",
      "\n",
      "2019\n",
      "[[('seat', 0.030695983345703497), ('no', 0.018051365594139158), ('fly', 0.013687582399310212), ('service', 0.013561568077332671), ('airline', 0.01273121983699811), ('food', 0.012571721731420194), ('or', 0.011058984009760894), ('business_class', 0.009981596514494788), ('meal', 0.008789137366742469), ('economy', 0.008672533259289726), ('offer', 0.008141211654313087), ('pay', 0.007379861756787729), ('british_airways', 0.007312095057606701), ('cabin', 0.007099533462996453), ('passenger', 0.006682487409774382), ('london', 0.006509986553937693), ('bad', 0.0063736464207609245), ('serve', 0.006329684927612456), ('time', 0.006313536046122342), ('class', 0.006159387995855281)], [('check', 0.01785663103442606), ('time', 0.017324523084849018), ('lounge', 0.015943175583637056), ('service', 0.015028770149733105), ('no', 0.014915679693658332), ('boarding', 0.012727118642005047), ('passenger', 0.01115613618942422), ('good', 0.01105000417081086), ('board', 0.010081635862145654), ('drink', 0.009862789615907624), ('minute', 0.009633966290297198), ('crew', 0.009549583053616676), ('delay', 0.008863308674579833), ('gate', 0.00850388202387101), ('seat', 0.008098025938838755), ('bag', 0.007575286580978716), ('plane', 0.0075149831261643), ('food', 0.007250309650008678), ('arrive', 0.007027882793012149), ('staff', 0.006805596641584644)], [('no', 0.01523407981798648), ('tell', 0.01385502142294177), ('hour', 0.013275926017968785), ('london', 0.012013434261226181), ('check', 0.010939269508298016), ('book', 0.010815847105712461), ('british_airways', 0.010535638075103883), ('day', 0.01048119886212418), ('fly', 0.010476517945968272), ('time', 0.010134073983022083), ('delay', 0.009653189291871466), ('bag', 0.008173004212054472), ('airport', 0.00815374888658264), ('staff', 0.008128520840977349), ('airline', 0.007914070458967455), ('customer_service', 0.007855022725716953), ('cancel', 0.007744161646483156), ('say', 0.007229437340728397), ('pay', 0.007011568690743098), ('or', 0.006985845930136095)], [('good', 0.031037071631288184), ('seat', 0.022500018272741912), ('food', 0.01706272025098723), ('service', 0.01554588116918798), ('crew', 0.013334701173756484), ('fly', 0.012145679201704385), ('time', 0.011647776519663824), ('comfortable', 0.010245906944030232), ('london', 0.009638883941717474), ('great', 0.009337333029020867), ('experience', 0.009045695976607796), ('cabin', 0.008447320368395359), ('excellent', 0.008227935075028675), ('lhr', 0.007299542431212205), ('new', 0.00708197131224051), ('cabin_crew', 0.007047021364948766), ('aircraft', 0.0067308749753199094), ('club_world', 0.00620765666549319), ('nice', 0.006207072585990709), ('staff', 0.006149169040245523)]] \n",
      "\n",
      "2020\n",
      "[[('seat', 0.025360110688228823), ('no', 0.016800243647739594), ('fly', 0.014594114578395736), ('service', 0.01348454385766206), ('airline', 0.013393805436145266), ('food', 0.012425587991695523), ('or', 0.01104806061698058), ('business_class', 0.009361165901173288), ('economy', 0.008971370098767912), ('british_airways', 0.00886170746147185), ('meal', 0.008491611142259943), ('offer', 0.007715143946922596), ('pay', 0.007262625944654743), ('cabin', 0.007144552616639735), ('passenger', 0.0070600791066323335), ('time', 0.006318492034870481), ('serve', 0.006311905075412829), ('class', 0.006177689185984518), ('bad', 0.006044494968224971), ('hour', 0.005932583333785712)], [('time', 0.017738723207535445), ('lounge', 0.017214511221094932), ('check', 0.016874881972385628), ('service', 0.014420541737377019), ('no', 0.014079796570055909), ('boarding', 0.01213441274599388), ('good', 0.011530624690708275), ('passenger', 0.010857922906837856), ('drink', 0.010146310058772607), ('board', 0.009650018440656985), ('crew', 0.009636258815083336), ('minute', 0.009080391938971085), ('delay', 0.008462883694931232), ('seat', 0.00839509957259704), ('bag', 0.008002307892549708), ('gate', 0.007928180425166536), ('plane', 0.007456286556870859), ('arrive', 0.007080852864835388), ('food', 0.0069600240071658725), ('terminal', 0.0064910800554037335)], [('no', 0.016096920313940687), ('tell', 0.01483349808403859), ('hour', 0.013426671831209231), ('check', 0.011969044135700924), ('british_airways', 0.0112681449051562), ('book', 0.010808156101536882), ('fly', 0.010704166250696095), ('time', 0.010555897241328282), ('london', 0.010419421643786507), ('delay', 0.009975393844815954), ('day', 0.009935927685934928), ('staff', 0.008513062869615078), ('airport', 0.008019343748552907), ('bag', 0.007952289525827343), ('airline', 0.007736938639620076), ('customer_service', 0.0074822610411891055), ('pay', 0.007057750618757612), ('say', 0.006944385203576167), ('cancel', 0.0068477807809386405), ('ask', 0.006843062224388823)], [('good', 0.030647751953522494), ('seat', 0.02361741424253412), ('food', 0.017036199993909987), ('service', 0.015244843533529876), ('crew', 0.012431064393955282), ('fly', 0.012404181552514132), ('time', 0.011503643353601357), ('comfortable', 0.010210979268612405), ('great', 0.0091341927601074), ('experience', 0.00865407123230921), ('excellent', 0.008624537268993366), ('london', 0.008571763988061754), ('cabin', 0.008533802462785959), ('lhr', 0.008389659637893494), ('new', 0.007153761031234374), ('cabin_crew', 0.007102255696454578), ('aircraft', 0.006652305073978763), ('staff', 0.006364489798587662), ('nice', 0.006221867957299881), ('ife', 0.0060875939745585255)]] \n",
      "\n",
      "2021\n",
      "[[('seat', 0.02775765807248061), ('no', 0.015790317859230473), ('fly', 0.015426578893454394), ('airline', 0.012699979291519056), ('service', 0.012203594725691564), ('food', 0.012080514301390398), ('or', 0.011228862198748671), ('british_airways', 0.01103920020146261), ('business_class', 0.009270623703218841), ('economy', 0.009130543615180757), ('meal', 0.00867361858107121), ('cabin', 0.007387583838531582), ('offer', 0.007087618325246384), ('passenger', 0.0070819236651824035), ('pay', 0.0067901733128237765), ('time', 0.006680371323108145), ('serve', 0.006440090066587869), ('class', 0.006213737977865527), ('hour', 0.006183130691696117), ('bad', 0.005605121680823001)], [('time', 0.0188248963794102), ('lounge', 0.018078385594418874), ('check', 0.017223590348716126), ('service', 0.014270267739512642), ('no', 0.013821980763625293), ('boarding', 0.012075165994705133), ('good', 0.011811357950818169), ('drink', 0.010862424296192823), ('passenger', 0.010209228917189528), ('crew', 0.00986319869803515), ('board', 0.009113731488356463), ('seat', 0.009018453818751283), ('minute', 0.008952641321631129), ('delay', 0.008514552718998094), ('bag', 0.007925610771835448), ('gate', 0.0073833005634865835), ('arrive', 0.007253680238335917), ('plane', 0.007166129482187315), ('food', 0.006845637440440766), ('serve', 0.006731880520891583)], [('no', 0.01686239663684433), ('tell', 0.014699962829582096), ('hour', 0.013953159719972514), ('british_airways', 0.012750879291288627), ('check', 0.012442430607392013), ('book', 0.011182833784532158), ('fly', 0.010932683828536734), ('delay', 0.01068866023457997), ('time', 0.010656928380767984), ('day', 0.009190024957416148), ('london', 0.009132625217183188), ('staff', 0.00886203220619011), ('airport', 0.007578013573466842), ('bag', 0.007464127452407619), ('airline', 0.0071821668303859105), ('customer_service', 0.00704707300437355), ('seat', 0.007008459406292076), ('ask', 0.006869508781396607), ('travel', 0.006868315412505378), ('wait', 0.006858738849277046)], [('good', 0.03064998911207092), ('seat', 0.025487377250255773), ('food', 0.016914986191902532), ('service', 0.015510948417151019), ('fly', 0.013306969318043744), ('crew', 0.011492825626876353), ('time', 0.01143950049612193), ('comfortable', 0.010634410575515478), ('lhr', 0.010423995706157855), ('excellent', 0.00931544741945457), ('great', 0.008872669694934568), ('cabin', 0.00876660711062161), ('experience', 0.008034342303769424), ('london', 0.00748344168869484), ('cabin_crew', 0.007231553485142687), ('new', 0.0070954031678262365), ('aircraft', 0.006762178590861178), ('staff', 0.0064276415396282574), ('british_airways', 0.006326173220839962), ('nice', 0.00621367234121099)]] \n",
      "\n",
      "2022\n",
      "[[('seat', 0.03115658841953727), ('fly', 0.015172370956945552), ('no', 0.014907967855651735), ('food', 0.012338228683492755), ('service', 0.011565997732390492), ('airline', 0.011276226383840637), ('or', 0.011005747733475242), ('british_airways', 0.010948992388751973), ('economy', 0.00912096049881865), ('business_class', 0.00909812832451798), ('meal', 0.008100351750936888), ('cabin', 0.0078096551880287735), ('passenger', 0.007533388197362239), ('time', 0.006895434938493467), ('offer', 0.00666684444541012), ('serve', 0.006519566017316143), ('pay', 0.006403842332528311), ('class', 0.006306212047451117), ('hour', 0.005911945785465629), ('plane', 0.0058565228069641494)], [('time', 0.018885092451678544), ('lounge', 0.01768792685393111), ('check', 0.01728847072979367), ('no', 0.013935228331351902), ('service', 0.013709180414357761), ('good', 0.01254507838628181), ('boarding', 0.01152628174597653), ('drink', 0.011408570810371632), ('crew', 0.010339615729635713), ('passenger', 0.009897575866513731), ('minute', 0.009069414477574788), ('seat', 0.009051403587901706), ('board', 0.00901404072089108), ('delay', 0.008491686342875497), ('bag', 0.00791027653004688), ('lhr', 0.007391602777608062), ('plane', 0.00717391124090572), ('arrive', 0.007171612005811228), ('serve', 0.00685022244766349), ('gate', 0.0067464339367070926)], [('no', 0.01751739361405717), ('tell', 0.014419918950917614), ('hour', 0.01432107441603366), ('british_airways', 0.01329885532210571), ('check', 0.012689528472028259), ('book', 0.011351414548328047), ('delay', 0.011041793538423642), ('fly', 0.01100278615960079), ('time', 0.010750048551941317), ('staff', 0.009445036925838006), ('day', 0.009278489619077603), ('london', 0.008190369654484993), ('travel', 0.007357881005106236), ('bag', 0.007275069666603427), ('airport', 0.007128153536011687), ('airline', 0.006931466958763867), ('seat', 0.006875305855707137), ('customer_service', 0.006871109177647935), ('or', 0.006848475020002976), ('wait', 0.006834315820428834)], [('good', 0.030783444547863366), ('seat', 0.028355091541114142), ('food', 0.017345080401999523), ('service', 0.01491256697797365), ('lhr', 0.01416441022639309), ('fly', 0.013623603454360091), ('comfortable', 0.011780448596046104), ('crew', 0.010756161092195843), ('excellent', 0.010665993887061338), ('time', 0.010450471997169183), ('cabin', 0.009009302050110505), ('great', 0.008998893980523568), ('experience', 0.007365732986435269), ('new', 0.007346597904688468), ('cabin_crew', 0.006995925428813884), ('staff', 0.00676745601610122), ('return', 0.006710684083312844), ('club_world', 0.00655918056765358), ('aircraft', 0.006529374957748834), ('london', 0.00632122067369289)]] \n",
      "\n",
      "2023\n",
      "[[('seat', 0.032435706186871374), ('fly', 0.01574525833373162), ('no', 0.015298266011960883), ('food', 0.01291035622217413), ('or', 0.011313149041564358), ('service', 0.011146634766955122), ('airline', 0.010813520145952658), ('economy', 0.008835714624699237), ('business_class', 0.00882869384089152), ('meal', 0.007992423696440959), ('cabin', 0.007924939172239178), ('passenger', 0.007778657305945274), ('british_airways', 0.00772650242451245), ('time', 0.00698854619792994), ('offer', 0.006505210411987287), ('serve', 0.006445156528058627), ('pay', 0.0062740587112733), ('class', 0.006186454630319115), ('plane', 0.006125054160715554), ('hour', 0.005886428435572043)], [('time', 0.01975703099620082), ('lounge', 0.01784448260945025), ('check', 0.016844717504780598), ('service', 0.013853127960133079), ('good', 0.01339769068652708), ('no', 0.013254313759939046), ('drink', 0.011779401453756487), ('boarding', 0.011263329581612825), ('crew', 0.010929132243753435), ('passenger', 0.009409217909143886), ('lhr', 0.009179149147014879), ('board', 0.008845953410264897), ('minute', 0.008684949507708015), ('seat', 0.008680270397507168), ('delay', 0.00829253407271708), ('bag', 0.008087315278447955), ('arrive', 0.0073732800125111695), ('plane', 0.007004207161602226), ('food', 0.006937564693909295), ('serve', 0.0068111701316791095)], [('no', 0.018013705675730657), ('hour', 0.01490487865644631), ('tell', 0.014753867875639181), ('check', 0.01260239757652619), ('british_airways', 0.011548209322521381), ('delay', 0.011427053488569821), ('fly', 0.011412421204162948), ('book', 0.011336158612875194), ('time', 0.010654572613386811), ('staff', 0.009635919400472698), ('day', 0.009027881304256885), ('travel', 0.00760926970149018), ('london', 0.007535127982454395), ('airport', 0.00707517597095957), ('wait', 0.0068654110998417105), ('bag', 0.006851967885885686), ('airline', 0.006826564186968413), ('seat', 0.0068042112765809865), ('go', 0.0067228309995981846), ('or', 0.006716281120901529)], [('good', 0.029734609854065883), ('seat', 0.027915119794326343), ('lhr', 0.02255734128129935), ('food', 0.017273567005980275), ('service', 0.014665605681356737), ('fly', 0.014642660704874506), ('excellent', 0.012171163301520845), ('comfortable', 0.01136560828506689), ('crew', 0.010297446925630263), ('time', 0.009856369635613354), ('great', 0.009118029261734124), ('cabin', 0.008887733847431328), ('new', 0.007722771795164007), ('return', 0.007291865936447929), ('staff', 0.007175365472923397), ('experience', 0.007117637272595092), ('club_world', 0.007058006950984242), ('cabin_crew', 0.00676719670395946), ('aircraft', 0.006278502696973988), ('nice', 0.0061462919401592845)]] \n",
      "\n"
     ]
    }
   ],
   "source": [
    "for year_index in range(len(years)):\n",
    "    print(f\"{years[year_index]}\")\n",
    "    print_topics_per_time(year_index,ldaseq)"
   ]
  },
  {
   "cell_type": "markdown",
   "metadata": {},
   "source": [
    "**Oberservations**\n",
    "\n",
    "All years had four topics in each of them\n",
    "\n",
    "Let's take topic 0 as our case study and see the position of the **word 'service' and its word probability: ('service', 0.01554384072833168)at the third index**, as the topics per time seems to be the same.\n",
    "\n",
    "Over the years, service lost its significance, as the probability reduced over time.\n",
    "Service lost its position in years 2019 - 2023"
   ]
  },
  {
   "cell_type": "code",
   "execution_count": 73,
   "metadata": {},
   "outputs": [
    {
     "data": {
      "text/plain": [
       "[2011, 2012, 2014, 2015, 2016, 2017, 2018, 2019, 2020, 2021, 2022, 2023]"
      ]
     },
     "execution_count": 73,
     "metadata": {},
     "output_type": "execute_result"
    }
   ],
   "source": [
    "years"
   ]
  },
  {
   "cell_type": "markdown",
   "metadata": {},
   "source": [
    "### **Topics Over Time** "
   ]
  },
  {
   "cell_type": "code",
   "execution_count": 40,
   "metadata": {},
   "outputs": [],
   "source": [
    "# 6 topics: [0,1,2,3,4,5]\n",
    "def print_topics_over_time(topic:int,model):\n",
    "        try:\n",
    "            print(model.print_topic_times(topic=topic),\"\\n\")\n",
    "        except IndexError:\n",
    "            print(\"Please choose a topic number from 0 - 4 and must be an integer\")"
   ]
  },
  {
   "cell_type": "code",
   "execution_count": 42,
   "metadata": {},
   "outputs": [
    {
     "name": "stdout",
     "output_type": "stream",
     "text": [
      "Topic 0 evolution over time\n",
      "[[('seat', 0.037770465193787545), ('no', 0.02066108119583653), ('service', 0.01554384072833168), ('fly', 0.014640918697196689), ('business_class', 0.014054585367620703), ('food', 0.01364037006093668), ('airline', 0.012360168117097255), ('or', 0.010289852704322887), ('economy', 0.009866513872450204), ('meal', 0.008950181555379641), ('offer', 0.0084928896916951), ('pay', 0.008183971933556335), ('passenger', 0.007288862809173547), ('hour', 0.006754035987738513), ('bad', 0.006685853113956454), ('time', 0.006559928814566636), ('cabin', 0.006553378767815983), ('staff', 0.005950992721772907), ('plane', 0.005814869357256031), ('british_airways', 0.0054697605547509975)], [('seat', 0.03789200770564521), ('no', 0.020711420562084807), ('service', 0.015578284292705878), ('fly', 0.014676093605785787), ('business_class', 0.014084762057600253), ('food', 0.013668925662207749), ('airline', 0.012386688720739478), ('or', 0.01030808030501611), ('economy', 0.009884395900601339), ('meal', 0.00896362934558935), ('offer', 0.008505731628600632), ('pay', 0.00819738448470181), ('passenger', 0.007298964251672331), ('hour', 0.00676399951106768), ('bad', 0.006694652573464308), ('time', 0.006568773502880234), ('cabin', 0.0065618051320619234), ('staff', 0.005958765152769154), ('plane', 0.005821878949669816), ('british_airways', 0.005480081340736966)], [('seat', 0.03810942716236101), ('no', 0.02079443214958505), ('service', 0.015539028063267572), ('fly', 0.01477977833892051), ('business_class', 0.013903191996370103), ('food', 0.01369084686343555), ('airline', 0.012388790788963055), ('or', 0.010358731887788197), ('economy', 0.00982631480637133), ('meal', 0.009008227665758236), ('offer', 0.008516916111309215), ('pay', 0.008228217759433184), ('passenger', 0.007304899116544001), ('hour', 0.006787928455517812), ('bad', 0.006716965618648332), ('time', 0.006584883617870972), ('cabin', 0.006581865083700366), ('staff', 0.00596740978075019), ('plane', 0.005839707099366514), ('british_airways', 0.005476285915187975)], [('seat', 0.035996735938184254), ('no', 0.020804315930865076), ('service', 0.015193671739711137), ('fly', 0.014601969315211598), ('food', 0.01392734342257486), ('business_class', 0.013626922110493267), ('airline', 0.012326290897009987), ('or', 0.010658623638839303), ('economy', 0.009506138357346048), ('meal', 0.009333206952852526), ('offer', 0.008627931541750199), ('pay', 0.008068359629802957), ('passenger', 0.007223937586867423), ('hour', 0.006747002109612828), ('cabin', 0.006691110856714886), ('bad', 0.006639538995602072), ('time', 0.006472223793336425), ('staff', 0.00592754777408255), ('plane', 0.005826885817243098), ('british_airways', 0.005533172875423939)], [('seat', 0.034943376646720065), ('no', 0.020433531770744934), ('service', 0.014509831207759736), ('food', 0.013869434416354336), ('fly', 0.013780936278056634), ('business_class', 0.013497223366956922), ('airline', 0.012554629631122156), ('or', 0.010927907406236738), ('economy', 0.009287757866343303), ('meal', 0.009143086037467475), ('offer', 0.008678882447781906), ('pay', 0.00785220167360457), ('passenger', 0.007130693381242205), ('cabin', 0.006907473511593895), ('bad', 0.006667334659417431), ('hour', 0.0066635296466026886), ('time', 0.0063593721438440585), ('staff', 0.005850390761034186), ('london', 0.005842429951877829), ('british_airways', 0.00577189683575593)], [('seat', 0.03516504818637122), ('no', 0.019586963325540066), ('service', 0.014135353762548855), ('food', 0.013284824470857338), ('fly', 0.013273501668729058), ('business_class', 0.012641591618053135), ('airline', 0.01261312615222236), ('or', 0.01092541128949537), ('economy', 0.008926565088962602), ('meal', 0.008820413608387655), ('offer', 0.008471433114207052), ('pay', 0.007704819036753882), ('cabin', 0.007035448484635097), ('passenger', 0.006957190645102568), ('bad', 0.006701519709172287), ('hour', 0.006420704893093502), ('london', 0.006321847814429479), ('time', 0.0062440864300778234), ('british_airways', 0.006120560274905883), ('class', 0.00595947403465186)], [('seat', 0.033655939087958706), ('no', 0.01884103731152107), ('service', 0.013799449678515291), ('fly', 0.013106173532764515), ('food', 0.012908350169491387), ('airline', 0.012438608503617143), ('business_class', 0.011320128393789817), ('or', 0.010879377307627553), ('meal', 0.008830083957685106), ('economy', 0.008624904369957607), ('offer', 0.008326748151647302), ('pay', 0.007548746316793486), ('cabin', 0.007129479524755433), ('bad', 0.006730401123771157), ('london', 0.006715581532743029), ('passenger', 0.006675317667388014), ('british_airways', 0.006607924388488786), ('hour', 0.006318293891748599), ('time', 0.006095512886657645), ('class', 0.006073746192098329)], [('seat', 0.030695983345703497), ('no', 0.018051365594139158), ('fly', 0.013687582399310212), ('service', 0.013561568077332671), ('airline', 0.01273121983699811), ('food', 0.012571721731420194), ('or', 0.011058984009760894), ('business_class', 0.009981596514494788), ('meal', 0.008789137366742469), ('economy', 0.008672533259289726), ('offer', 0.008141211654313087), ('pay', 0.007379861756787729), ('british_airways', 0.007312095057606701), ('cabin', 0.007099533462996453), ('passenger', 0.006682487409774382), ('london', 0.006509986553937693), ('bad', 0.0063736464207609245), ('serve', 0.006329684927612456), ('time', 0.006313536046122342), ('class', 0.006159387995855281)], [('seat', 0.025360110688228823), ('no', 0.016800243647739594), ('fly', 0.014594114578395736), ('service', 0.01348454385766206), ('airline', 0.013393805436145266), ('food', 0.012425587991695523), ('or', 0.01104806061698058), ('business_class', 0.009361165901173288), ('economy', 0.008971370098767912), ('british_airways', 0.00886170746147185), ('meal', 0.008491611142259943), ('offer', 0.007715143946922596), ('pay', 0.007262625944654743), ('cabin', 0.007144552616639735), ('passenger', 0.0070600791066323335), ('time', 0.006318492034870481), ('serve', 0.006311905075412829), ('class', 0.006177689185984518), ('bad', 0.006044494968224971), ('hour', 0.005932583333785712)], [('seat', 0.02775765807248061), ('no', 0.015790317859230473), ('fly', 0.015426578893454394), ('airline', 0.012699979291519056), ('service', 0.012203594725691564), ('food', 0.012080514301390398), ('or', 0.011228862198748671), ('british_airways', 0.01103920020146261), ('business_class', 0.009270623703218841), ('economy', 0.009130543615180757), ('meal', 0.00867361858107121), ('cabin', 0.007387583838531582), ('offer', 0.007087618325246384), ('passenger', 0.0070819236651824035), ('pay', 0.0067901733128237765), ('time', 0.006680371323108145), ('serve', 0.006440090066587869), ('class', 0.006213737977865527), ('hour', 0.006183130691696117), ('bad', 0.005605121680823001)], [('seat', 0.03115658841953727), ('fly', 0.015172370956945552), ('no', 0.014907967855651735), ('food', 0.012338228683492755), ('service', 0.011565997732390492), ('airline', 0.011276226383840637), ('or', 0.011005747733475242), ('british_airways', 0.010948992388751973), ('economy', 0.00912096049881865), ('business_class', 0.00909812832451798), ('meal', 0.008100351750936888), ('cabin', 0.0078096551880287735), ('passenger', 0.007533388197362239), ('time', 0.006895434938493467), ('offer', 0.00666684444541012), ('serve', 0.006519566017316143), ('pay', 0.006403842332528311), ('class', 0.006306212047451117), ('hour', 0.005911945785465629), ('plane', 0.0058565228069641494)], [('seat', 0.032435706186871374), ('fly', 0.01574525833373162), ('no', 0.015298266011960883), ('food', 0.01291035622217413), ('or', 0.011313149041564358), ('service', 0.011146634766955122), ('airline', 0.010813520145952658), ('economy', 0.008835714624699237), ('business_class', 0.00882869384089152), ('meal', 0.007992423696440959), ('cabin', 0.007924939172239178), ('passenger', 0.007778657305945274), ('british_airways', 0.00772650242451245), ('time', 0.00698854619792994), ('offer', 0.006505210411987287), ('serve', 0.006445156528058627), ('pay', 0.0062740587112733), ('class', 0.006186454630319115), ('plane', 0.006125054160715554), ('hour', 0.005886428435572043)]] \n",
      "\n",
      "Topic 1 evolution over time\n",
      "[[('time', 0.018827096401337604), ('check', 0.017898390190656987), ('no', 0.017465522126246275), ('service', 0.015630728916312703), ('lounge', 0.015220701107767092), ('boarding', 0.014018452059129381), ('passenger', 0.011414465341432575), ('gate', 0.01073454640885411), ('good', 0.010438950178750085), ('delay', 0.009454419584804728), ('board', 0.00943138359785624), ('crew', 0.00940117437714531), ('minute', 0.009223476462569264), ('drink', 0.008934529921999135), ('staff', 0.008211747038759931), ('seat', 0.007774178128877628), ('food', 0.007414483133031715), ('plane', 0.0070063083925352), ('arrive', 0.006624779299929463), ('bag', 0.006610024215107859)], [('time', 0.01887596145664147), ('check', 0.017967675343360922), ('no', 0.017531817397776886), ('service', 0.015650206112513363), ('lounge', 0.015232906367125522), ('boarding', 0.014018764236164043), ('passenger', 0.011447019172938866), ('gate', 0.010716367924230764), ('good', 0.010462013055746613), ('board', 0.009454533207928868), ('crew', 0.009422580568525263), ('delay', 0.009411334819440448), ('minute', 0.009246242928866985), ('drink', 0.008955825489199222), ('staff', 0.00820142171109314), ('seat', 0.007786252113780743), ('food', 0.0074295462365147665), ('plane', 0.007019926760153354), ('bag', 0.006621884368308662), ('arrive', 0.006617069596189081)], [('time', 0.019009616589220017), ('check', 0.018090566358885216), ('no', 0.017612262111981802), ('service', 0.01552940075282109), ('lounge', 0.01520568691537493), ('boarding', 0.014107772786891896), ('passenger', 0.01149735076047805), ('gate', 0.010736531826789644), ('good', 0.01050355572188891), ('board', 0.009417885826285314), ('crew', 0.0093873210066303), ('minute', 0.009305991994269257), ('delay', 0.009252133722693779), ('drink', 0.008997990774075757), ('staff', 0.008154012213023505), ('seat', 0.007778285691901489), ('food', 0.007424327520140779), ('plane', 0.007045243262774019), ('bag', 0.006665618701571395), ('arrive', 0.0066193275019421)], [('time', 0.01922978417926765), ('check', 0.017883482170083287), ('no', 0.017329911526922842), ('service', 0.015459007940475304), ('lounge', 0.015124912375023405), ('boarding', 0.013901861770020958), ('passenger', 0.011605574468599791), ('good', 0.010531549839412863), ('gate', 0.010365732871622057), ('board', 0.009456596835053363), ('minute', 0.0094255782988642), ('crew', 0.00937506412423846), ('delay', 0.009227598398411526), ('drink', 0.00915277151960965), ('staff', 0.008062481871263617), ('seat', 0.007831495277903907), ('food', 0.007381668121155121), ('plane', 0.007124045946473322), ('bag', 0.0067256288979306335), ('arrive', 0.006631940544567103)], [('time', 0.019205661220567105), ('check', 0.018269823632509306), ('no', 0.016682696364373098), ('lounge', 0.015185623353371612), ('service', 0.015138468939170003), ('boarding', 0.013212733102201191), ('passenger', 0.011943716674542741), ('good', 0.0106814722284297), ('gate', 0.010133767627351652), ('board', 0.009570766074200673), ('minute', 0.009439290617111075), ('drink', 0.009297544856169978), ('crew', 0.009281129316173226), ('delay', 0.009250678652444964), ('staff', 0.008036483860136433), ('seat', 0.007813608796884492), ('food', 0.007375491381526127), ('plane', 0.00716236455383217), ('bag', 0.006800205125664727), ('arrive', 0.006777499223556757)], [('check', 0.01882907318746199), ('time', 0.018466781718968022), ('no', 0.016027997378479326), ('lounge', 0.015533067573580667), ('service', 0.01502698740339979), ('boarding', 0.012903829505572258), ('passenger', 0.012064290060175712), ('good', 0.01080091935021756), ('board', 0.009681312049702365), ('minute', 0.009616629219933486), ('gate', 0.009505799500162185), ('crew', 0.00933683459416981), ('drink', 0.009335050519742942), ('delay', 0.008979147858093084), ('seat', 0.007885715356773555), ('staff', 0.007714290965827651), ('food', 0.007348085463384277), ('plane', 0.0073078096274533265), ('bag', 0.006869406821761443), ('arrive', 0.006781327801428575)], [('check', 0.01816797168265485), ('time', 0.017728413119248235), ('lounge', 0.01531069227482917), ('no', 0.0152231727262906), ('service', 0.015019812044414129), ('boarding', 0.012926774785759267), ('passenger', 0.011662008471669831), ('good', 0.010880055031050453), ('minute', 0.00994373363638314), ('board', 0.009902539501494148), ('drink', 0.009568685240149089), ('crew', 0.009368398157544937), ('delay', 0.009044595746304769), ('gate', 0.008995585679448385), ('seat', 0.008036731674006566), ('plane', 0.007472641612442053), ('staff', 0.007284814661939481), ('food', 0.007260804389594313), ('bag', 0.007211273105760237), ('arrive', 0.006911715025380588)], [('check', 0.01785663103442606), ('time', 0.017324523084849018), ('lounge', 0.015943175583637056), ('service', 0.015028770149733105), ('no', 0.014915679693658332), ('boarding', 0.012727118642005047), ('passenger', 0.01115613618942422), ('good', 0.01105000417081086), ('board', 0.010081635862145654), ('drink', 0.009862789615907624), ('minute', 0.009633966290297198), ('crew', 0.009549583053616676), ('delay', 0.008863308674579833), ('gate', 0.00850388202387101), ('seat', 0.008098025938838755), ('bag', 0.007575286580978716), ('plane', 0.0075149831261643), ('food', 0.007250309650008678), ('arrive', 0.007027882793012149), ('staff', 0.006805596641584644)], [('time', 0.017738723207535445), ('lounge', 0.017214511221094932), ('check', 0.016874881972385628), ('service', 0.014420541737377019), ('no', 0.014079796570055909), ('boarding', 0.01213441274599388), ('good', 0.011530624690708275), ('passenger', 0.010857922906837856), ('drink', 0.010146310058772607), ('board', 0.009650018440656985), ('crew', 0.009636258815083336), ('minute', 0.009080391938971085), ('delay', 0.008462883694931232), ('seat', 0.00839509957259704), ('bag', 0.008002307892549708), ('gate', 0.007928180425166536), ('plane', 0.007456286556870859), ('arrive', 0.007080852864835388), ('food', 0.0069600240071658725), ('terminal', 0.0064910800554037335)], [('time', 0.0188248963794102), ('lounge', 0.018078385594418874), ('check', 0.017223590348716126), ('service', 0.014270267739512642), ('no', 0.013821980763625293), ('boarding', 0.012075165994705133), ('good', 0.011811357950818169), ('drink', 0.010862424296192823), ('passenger', 0.010209228917189528), ('crew', 0.00986319869803515), ('board', 0.009113731488356463), ('seat', 0.009018453818751283), ('minute', 0.008952641321631129), ('delay', 0.008514552718998094), ('bag', 0.007925610771835448), ('gate', 0.0073833005634865835), ('arrive', 0.007253680238335917), ('plane', 0.007166129482187315), ('food', 0.006845637440440766), ('serve', 0.006731880520891583)], [('time', 0.018885092451678544), ('lounge', 0.01768792685393111), ('check', 0.01728847072979367), ('no', 0.013935228331351902), ('service', 0.013709180414357761), ('good', 0.01254507838628181), ('boarding', 0.01152628174597653), ('drink', 0.011408570810371632), ('crew', 0.010339615729635713), ('passenger', 0.009897575866513731), ('minute', 0.009069414477574788), ('seat', 0.009051403587901706), ('board', 0.00901404072089108), ('delay', 0.008491686342875497), ('bag', 0.00791027653004688), ('lhr', 0.007391602777608062), ('plane', 0.00717391124090572), ('arrive', 0.007171612005811228), ('serve', 0.00685022244766349), ('gate', 0.0067464339367070926)], [('time', 0.01975703099620082), ('lounge', 0.01784448260945025), ('check', 0.016844717504780598), ('service', 0.013853127960133079), ('good', 0.01339769068652708), ('no', 0.013254313759939046), ('drink', 0.011779401453756487), ('boarding', 0.011263329581612825), ('crew', 0.010929132243753435), ('passenger', 0.009409217909143886), ('lhr', 0.009179149147014879), ('board', 0.008845953410264897), ('minute', 0.008684949507708015), ('seat', 0.008680270397507168), ('delay', 0.00829253407271708), ('bag', 0.008087315278447955), ('arrive', 0.0073732800125111695), ('plane', 0.007004207161602226), ('food', 0.006937564693909295), ('serve', 0.0068111701316791095)]] \n",
      "\n",
      "Topic 2 evolution over time\n",
      "[[('no', 0.015197273869374202), ('tell', 0.01298007702596063), ('hour', 0.012781950711361383), ('book', 0.011511185754066063), ('cancel', 0.011395354552970634), ('time', 0.009979878871945442), ('check', 0.009662867076525724), ('british_airways', 0.009431223441607588), ('day', 0.009385339434768375), ('airline', 0.009254634459894736), ('customer_service', 0.008780264749608309), ('airport', 0.008673011877312129), ('delay', 0.008625954528324044), ('fly', 0.008609513202830241), ('london', 0.00857237033834091), ('travel', 0.007697311066518446), ('or', 0.007521236112129172), ('refund', 0.007299151753616987), ('ticket', 0.007125124489708119), ('say', 0.007106319912740991)], [('no', 0.015189879786198533), ('tell', 0.013032155804894849), ('hour', 0.012832707944423307), ('book', 0.011496452535063534), ('cancel', 0.011437669442457504), ('time', 0.010012572038246542), ('check', 0.009646196995247434), ('british_airways', 0.009460433415523562), ('day', 0.009414731468216878), ('airline', 0.009236968492915556), ('customer_service', 0.008805724175402898), ('airport', 0.008699156057038552), ('delay', 0.008637512725588914), ('fly', 0.00863438023855554), ('london', 0.008597306378057345), ('travel', 0.007718803357291992), ('or', 0.007541197504593113), ('refund', 0.007318441692687124), ('ticket', 0.007142194248039486), ('say', 0.007124229507248769)], [('no', 0.015082581902498055), ('tell', 0.012888081087199967), ('hour', 0.012674455240452203), ('cancel', 0.01148354377355571), ('book', 0.011427977169531013), ('time', 0.010053238610506917), ('day', 0.009624125912770717), ('check', 0.00958761356708529), ('british_airways', 0.009532706066016106), ('airline', 0.009367370413695869), ('customer_service', 0.00893784000039043), ('fly', 0.008846499334346693), ('london', 0.008720974533051392), ('delay', 0.008658353060214969), ('airport', 0.008491696915431494), ('or', 0.007626780697249279), ('travel', 0.00757758484747105), ('refund', 0.007210445800231922), ('bag', 0.007202891180463681), ('try', 0.007123126536724428)], [('no', 0.014960460804138013), ('tell', 0.013278172914228763), ('hour', 0.012834152781507726), ('cancel', 0.012114936116492177), ('book', 0.01166640729154425), ('time', 0.010259320133591677), ('day', 0.010070295322183096), ('check', 0.00971763098453457), ('british_airways', 0.009332736583888028), ('london', 0.009021079214637958), ('fly', 0.008996381729302956), ('airline', 0.008898643213357324), ('customer_service', 0.008538084686467544), ('delay', 0.008506593876559354), ('airport', 0.008260590755453448), ('or', 0.007521275067721042), ('travel', 0.007421244803812078), ('bag', 0.007172284591189202), ('refund', 0.00714676860960638), ('try', 0.007112788449878044)], [('no', 0.014719404901416903), ('tell', 0.013419105226340995), ('hour', 0.013090149115975117), ('book', 0.01191013743550816), ('cancel', 0.011545163174082988), ('time', 0.010352732654511964), ('day', 0.010268025530530876), ('london', 0.009830140967254096), ('check', 0.009692603932745673), ('british_airways', 0.009345081637782733), ('fly', 0.009236510841719623), ('airline', 0.008743320182069674), ('customer_service', 0.008487268775591044), ('delay', 0.008224576341582185), ('airport', 0.007989696405819773), ('travel', 0.007554041114984682), ('or', 0.00748308836266222), ('refund', 0.007305355537155722), ('bag', 0.007173525123961359), ('say', 0.007106503593685861)], [('no', 0.014615834058273686), ('tell', 0.013035300810087322), ('hour', 0.01255578821228193), ('book', 0.011795521023834788), ('london', 0.011031882991149669), ('cancel', 0.01069027257694208), ('day', 0.010313558285472682), ('time', 0.010243611001218511), ('fly', 0.009761856252868475), ('british_airways', 0.009664340447203781), ('check', 0.009385600119401937), ('airline', 0.008499352766395513), ('delay', 0.008231860095671043), ('customer_service', 0.008114888748677645), ('airport', 0.007812362607753667), ('travel', 0.0076996186651783725), ('or', 0.007421226950316574), ('bag', 0.007363841316845755), ('staff', 0.007296763351318626), ('say', 0.007167137086987923)], [('no', 0.014875579737646924), ('tell', 0.013484462036497143), ('hour', 0.013113606155871664), ('london', 0.012380884149049842), ('book', 0.01087652580374536), ('day', 0.010600414277144914), ('british_airways', 0.010219603430036549), ('fly', 0.010150528261013536), ('time', 0.010136205401386943), ('check', 0.00997701524560383), ('delay', 0.009205561589818194), ('cancel', 0.00884957530264633), ('bag', 0.008226031415771343), ('airport', 0.008188288678464571), ('customer_service', 0.008110483349282133), ('airline', 0.008092905098490212), ('staff', 0.007762632042599003), ('or', 0.00711125825388846), ('travel', 0.007081602425397834), ('say', 0.0070164513997341355)], [('no', 0.01523407981798648), ('tell', 0.01385502142294177), ('hour', 0.013275926017968785), ('london', 0.012013434261226181), ('check', 0.010939269508298016), ('book', 0.010815847105712461), ('british_airways', 0.010535638075103883), ('day', 0.01048119886212418), ('fly', 0.010476517945968272), ('time', 0.010134073983022083), ('delay', 0.009653189291871466), ('bag', 0.008173004212054472), ('airport', 0.00815374888658264), ('staff', 0.008128520840977349), ('airline', 0.007914070458967455), ('customer_service', 0.007855022725716953), ('cancel', 0.007744161646483156), ('say', 0.007229437340728397), ('pay', 0.007011568690743098), ('or', 0.006985845930136095)], [('no', 0.016096920313940687), ('tell', 0.01483349808403859), ('hour', 0.013426671831209231), ('check', 0.011969044135700924), ('british_airways', 0.0112681449051562), ('book', 0.010808156101536882), ('fly', 0.010704166250696095), ('time', 0.010555897241328282), ('london', 0.010419421643786507), ('delay', 0.009975393844815954), ('day', 0.009935927685934928), ('staff', 0.008513062869615078), ('airport', 0.008019343748552907), ('bag', 0.007952289525827343), ('airline', 0.007736938639620076), ('customer_service', 0.0074822610411891055), ('pay', 0.007057750618757612), ('say', 0.006944385203576167), ('cancel', 0.0068477807809386405), ('ask', 0.006843062224388823)], [('no', 0.01686239663684433), ('tell', 0.014699962829582096), ('hour', 0.013953159719972514), ('british_airways', 0.012750879291288627), ('check', 0.012442430607392013), ('book', 0.011182833784532158), ('fly', 0.010932683828536734), ('delay', 0.01068866023457997), ('time', 0.010656928380767984), ('day', 0.009190024957416148), ('london', 0.009132625217183188), ('staff', 0.00886203220619011), ('airport', 0.007578013573466842), ('bag', 0.007464127452407619), ('airline', 0.0071821668303859105), ('customer_service', 0.00704707300437355), ('seat', 0.007008459406292076), ('ask', 0.006869508781396607), ('travel', 0.006868315412505378), ('wait', 0.006858738849277046)], [('no', 0.01751739361405717), ('tell', 0.014419918950917614), ('hour', 0.01432107441603366), ('british_airways', 0.01329885532210571), ('check', 0.012689528472028259), ('book', 0.011351414548328047), ('delay', 0.011041793538423642), ('fly', 0.01100278615960079), ('time', 0.010750048551941317), ('staff', 0.009445036925838006), ('day', 0.009278489619077603), ('london', 0.008190369654484993), ('travel', 0.007357881005106236), ('bag', 0.007275069666603427), ('airport', 0.007128153536011687), ('airline', 0.006931466958763867), ('seat', 0.006875305855707137), ('customer_service', 0.006871109177647935), ('or', 0.006848475020002976), ('wait', 0.006834315820428834)], [('no', 0.018013705675730657), ('hour', 0.01490487865644631), ('tell', 0.014753867875639181), ('check', 0.01260239757652619), ('british_airways', 0.011548209322521381), ('delay', 0.011427053488569821), ('fly', 0.011412421204162948), ('book', 0.011336158612875194), ('time', 0.010654572613386811), ('staff', 0.009635919400472698), ('day', 0.009027881304256885), ('travel', 0.00760926970149018), ('london', 0.007535127982454395), ('airport', 0.00707517597095957), ('wait', 0.0068654110998417105), ('bag', 0.006851967885885686), ('airline', 0.006826564186968413), ('seat', 0.0068042112765809865), ('go', 0.0067228309995981846), ('or', 0.006716281120901529)]] \n",
      "\n",
      "Topic 3 evolution over time\n",
      "[[('good', 0.03860842127415124), ('seat', 0.01915158189044067), ('food', 0.017982066305918764), ('service', 0.015428147126023733), ('crew', 0.013676806088169784), ('time', 0.012987486635121026), ('fly', 0.011616680305235558), ('great', 0.011256222498163894), ('comfortable', 0.010928434282298082), ('experience', 0.010261965419511689), ('excellent', 0.00893920236820831), ('london', 0.00854665995477961), ('new', 0.00810826736169898), ('cabin', 0.007429932697709782), ('cabin_crew', 0.007068277662758396), ('lhr', 0.00672299224722888), ('club_world', 0.006700217062394445), ('aircraft', 0.006528762491621524), ('nice', 0.0063912730601377084), ('friendly', 0.00619830693478875)], [('good', 0.038973405322523955), ('seat', 0.01921426650112338), ('food', 0.018013309602939644), ('service', 0.015466416924886789), ('crew', 0.01373811364992662), ('time', 0.0129918755548122), ('fly', 0.01165052457727193), ('great', 0.01123171780909988), ('comfortable', 0.010799172950315478), ('experience', 0.010283790633903663), ('excellent', 0.008995248838988184), ('london', 0.008512191566015051), ('new', 0.008078388430111905), ('cabin', 0.0074687319784696405), ('cabin_crew', 0.007067671849128706), ('lhr', 0.00675516683712737), ('club_world', 0.00669809728739685), ('aircraft', 0.0065325779917823155), ('nice', 0.006388163488168244), ('friendly', 0.006194421127346719)], [('good', 0.0395092100693423), ('seat', 0.019374887538614168), ('food', 0.01794904175506354), ('service', 0.015517785320399519), ('crew', 0.01377011643718199), ('time', 0.013046298378139037), ('fly', 0.011722325506590565), ('great', 0.011202884059765425), ('comfortable', 0.010664484810720425), ('experience', 0.010170831785230405), ('excellent', 0.009074744099016162), ('london', 0.008498405925525223), ('new', 0.008057465611366417), ('cabin', 0.007524452588123294), ('cabin_crew', 0.007050020580508451), ('lhr', 0.006712423804541988), ('club_world', 0.006676560767845861), ('aircraft', 0.006548588736183076), ('nice', 0.006396275024696), ('meal', 0.006173320505829956)], [('good', 0.03997007003873245), ('seat', 0.0195965269028206), ('food', 0.017835848272231943), ('service', 0.01572844441694756), ('crew', 0.013539880029505557), ('time', 0.012958939758620653), ('fly', 0.011793094812933221), ('great', 0.011006565987138475), ('comfortable', 0.01055489346615269), ('experience', 0.0099525262348178), ('excellent', 0.009058055764254946), ('london', 0.008591468204851302), ('new', 0.007973184385372969), ('cabin', 0.007629570215630995), ('cabin_crew', 0.007069287192478881), ('lhr', 0.006693156025430968), ('club_world', 0.006623826177428337), ('aircraft', 0.006567443068446792), ('nice', 0.006387031558864263), ('meal', 0.006165952616461922)], [('good', 0.03841739073484765), ('seat', 0.020144452098871977), ('food', 0.01764125984430008), ('service', 0.0158178687117986), ('crew', 0.013211531249477597), ('time', 0.012896798849065232), ('fly', 0.011932872289796555), ('great', 0.010581752430925151), ('comfortable', 0.010506629850453817), ('experience', 0.009901833835223332), ('london', 0.00893812344044267), ('excellent', 0.00888605443144892), ('new', 0.00794935698527965), ('cabin', 0.00783810630613206), ('cabin_crew', 0.0071963511552457235), ('lhr', 0.006655714630598293), ('aircraft', 0.0066171801817147494), ('club_world', 0.006549347242607041), ('nice', 0.006383427579770625), ('friendly', 0.006141727864718538)], [('good', 0.03634490169946547), ('seat', 0.020881464790817206), ('food', 0.017307327470887243), ('service', 0.01585843612928382), ('crew', 0.013401018729924098), ('time', 0.012462483914524118), ('fly', 0.012075903867670218), ('comfortable', 0.01055382710757605), ('great', 0.010219595865884794), ('experience', 0.009705129194335216), ('london', 0.009632017151609527), ('excellent', 0.008566433552091166), ('cabin', 0.008160545946597968), ('new', 0.007618987077874015), ('cabin_crew', 0.007148790678445654), ('aircraft', 0.006714841884563912), ('lhr', 0.006573309764855582), ('club_world', 0.006431000029794718), ('nice', 0.006411923618850877), ('friendly', 0.006130767388811779)], [('good', 0.03379082466564733), ('seat', 0.02184808019431248), ('food', 0.01711937804849847), ('service', 0.01602435672309539), ('crew', 0.013319707238011288), ('time', 0.012143057055869773), ('fly', 0.01202246066862751), ('comfortable', 0.010576914998766862), ('london', 0.010206458422196581), ('great', 0.009822638190630709), ('experience', 0.009431669102035663), ('excellent', 0.008349031277118602), ('cabin', 0.008323940155579794), ('new', 0.007243715491118652), ('cabin_crew', 0.007115279555033788), ('aircraft', 0.006666372873974445), ('lhr', 0.006639181268858859), ('nice', 0.00629750570472569), ('club_world', 0.0062693111411214475), ('staff', 0.0061031743516188584)], [('good', 0.031037071631288184), ('seat', 0.022500018272741912), ('food', 0.01706272025098723), ('service', 0.01554588116918798), ('crew', 0.013334701173756484), ('fly', 0.012145679201704385), ('time', 0.011647776519663824), ('comfortable', 0.010245906944030232), ('london', 0.009638883941717474), ('great', 0.009337333029020867), ('experience', 0.009045695976607796), ('cabin', 0.008447320368395359), ('excellent', 0.008227935075028675), ('lhr', 0.007299542431212205), ('new', 0.00708197131224051), ('cabin_crew', 0.007047021364948766), ('aircraft', 0.0067308749753199094), ('club_world', 0.00620765666549319), ('nice', 0.006207072585990709), ('staff', 0.006149169040245523)], [('good', 0.030647751953522494), ('seat', 0.02361741424253412), ('food', 0.017036199993909987), ('service', 0.015244843533529876), ('crew', 0.012431064393955282), ('fly', 0.012404181552514132), ('time', 0.011503643353601357), ('comfortable', 0.010210979268612405), ('great', 0.0091341927601074), ('experience', 0.00865407123230921), ('excellent', 0.008624537268993366), ('london', 0.008571763988061754), ('cabin', 0.008533802462785959), ('lhr', 0.008389659637893494), ('new', 0.007153761031234374), ('cabin_crew', 0.007102255696454578), ('aircraft', 0.006652305073978763), ('staff', 0.006364489798587662), ('nice', 0.006221867957299881), ('ife', 0.0060875939745585255)], [('good', 0.03064998911207092), ('seat', 0.025487377250255773), ('food', 0.016914986191902532), ('service', 0.015510948417151019), ('fly', 0.013306969318043744), ('crew', 0.011492825626876353), ('time', 0.01143950049612193), ('comfortable', 0.010634410575515478), ('lhr', 0.010423995706157855), ('excellent', 0.00931544741945457), ('great', 0.008872669694934568), ('cabin', 0.00876660711062161), ('experience', 0.008034342303769424), ('london', 0.00748344168869484), ('cabin_crew', 0.007231553485142687), ('new', 0.0070954031678262365), ('aircraft', 0.006762178590861178), ('staff', 0.0064276415396282574), ('british_airways', 0.006326173220839962), ('nice', 0.00621367234121099)], [('good', 0.030783444547863366), ('seat', 0.028355091541114142), ('food', 0.017345080401999523), ('service', 0.01491256697797365), ('lhr', 0.01416441022639309), ('fly', 0.013623603454360091), ('comfortable', 0.011780448596046104), ('crew', 0.010756161092195843), ('excellent', 0.010665993887061338), ('time', 0.010450471997169183), ('cabin', 0.009009302050110505), ('great', 0.008998893980523568), ('experience', 0.007365732986435269), ('new', 0.007346597904688468), ('cabin_crew', 0.006995925428813884), ('staff', 0.00676745601610122), ('return', 0.006710684083312844), ('club_world', 0.00655918056765358), ('aircraft', 0.006529374957748834), ('london', 0.00632122067369289)], [('good', 0.029734609854065883), ('seat', 0.027915119794326343), ('lhr', 0.02255734128129935), ('food', 0.017273567005980275), ('service', 0.014665605681356737), ('fly', 0.014642660704874506), ('excellent', 0.012171163301520845), ('comfortable', 0.01136560828506689), ('crew', 0.010297446925630263), ('time', 0.009856369635613354), ('great', 0.009118029261734124), ('cabin', 0.008887733847431328), ('new', 0.007722771795164007), ('return', 0.007291865936447929), ('staff', 0.007175365472923397), ('experience', 0.007117637272595092), ('club_world', 0.007058006950984242), ('cabin_crew', 0.00676719670395946), ('aircraft', 0.006278502696973988), ('nice', 0.0061462919401592845)]] \n",
      "\n"
     ]
    }
   ],
   "source": [
    "# Looking into each topic evolution over time.\n",
    "for topic_number in range(4):\n",
    "    print(f\"Topic {topic_number} evolution over time\")\n",
    "    print_topics_over_time(topic_number,ldaseq)"
   ]
  },
  {
   "cell_type": "markdown",
   "metadata": {},
   "source": [
    "### **Document - Topic Proportions**"
   ]
  },
  {
   "cell_type": "code",
   "execution_count": 43,
   "metadata": {},
   "outputs": [],
   "source": [
    "def doc_topic_proportion(doc_index=0):\n",
    "    words = [id2word[word_id] for word_id,count in bow_corpus[doc_index]]\n",
    "    print(words)"
   ]
  },
  {
   "cell_type": "code",
   "execution_count": 74,
   "metadata": {},
   "outputs": [
    {
     "name": "stdout",
     "output_type": "stream",
     "text": [
      "['staff', 'usual', 'food', 'good', 'meal', 'recommend', 'seat', 'spacious', 'think', 'time', 'lhr', 'no', 'aircraft', 'boarding', 'economy', 'journey', 'overall', 'give', 'pocket', 'storage', 'joke', 'especially', 'pay', 'let', 'return', 'little', 'support', 'apart', 'pleasant', 'need', 'uncomfortable', 'hard', 'virtually', 'second', 'leg', 'legroom', 'recline', 'wide', 'clean', 'ife', 'space', 'cabin', 'excellent', 'plus', 'world_traveller', 'miss', 'exception', 'adequate', 'odd', 'okay', 'attention', 'wonderful', 'big', 'whilst', 'storage_space', 'procedure', 'opportunity']\n"
     ]
    }
   ],
   "source": [
    "doc_topic_proportion(1000)"
   ]
  },
  {
   "cell_type": "markdown",
   "metadata": {},
   "source": [
    "|Topic number|Topic description|\n",
    "|---|---|\n",
    "|Topic 0| In flight experience|\n",
    "|Topic 1| Refreshments|\n",
    "|Topic 2| Bad reviews|\n",
    "|Topic 3| Good reviews|"
   ]
  },
  {
   "cell_type": "code",
   "execution_count": 75,
   "metadata": {},
   "outputs": [
    {
     "name": "stdout",
     "output_type": "stream",
     "text": [
      "[2.36204370e-01 1.51423380e-04 1.51423380e-04 7.63492783e-01]\n"
     ]
    }
   ],
   "source": [
    "# Checking the corpus topic distribution for documents\n",
    "def doc_topic_distribution(doc_index=0):\n",
    "    doc_topic_dist = ldaseq.doc_topics(doc_index) # documents\n",
    "    print(doc_topic_dist)\n",
    "    print()\n",
    "doc_topic_distribution(1000)"
   ]
  },
  {
   "cell_type": "code",
   "execution_count": 84,
   "metadata": {},
   "outputs": [
    {
     "name": "stdout",
     "output_type": "stream",
     "text": [
      "[0.00198413 0.00198413 0.53681234 0.45921941]\n"
     ]
    }
   ],
   "source": [
    "# Testing with a dummy document\n",
    "doc_review = [\"hate\",\"hostness\",\"crew\",'worthless',\"terrible\",\"refund\",\n",
    "                        'british_airways',\"food\",\"never\",\"flight\"]\n",
    "\n",
    "doc_review = id2word.doc2bow(doc_review)\n",
    "doc_review = ldaseq[doc_review]\n",
    "print(doc_review)"
   ]
  },
  {
   "cell_type": "code",
   "execution_count": 85,
   "metadata": {},
   "outputs": [],
   "source": [
    "def compute_words_topic_dist(doc_id:int,model):\n",
    "\n",
    "    \"\"\"Computes the words and topic distribution \n",
    "    \n",
    "    Parameters\n",
    "        ----------\n",
    "        doc_id : document id\n",
    "            Input document id.\n",
    "        model: topic model\n",
    "            Input topic model\n",
    "      \n",
    "        Returns\n",
    "        ------\n",
    "        list of words\n",
    "        topic distribution of a document\n",
    "         \"\"\"\n",
    "    try:\n",
    "        words = [id2word[word_id] for word_id,count in bow_corpus[doc_id]]\n",
    "        doc_topic_dist = model.doc_topics(doc_id)\n",
    "        return words,doc_topic_dist\n",
    "    except (TypeError):\n",
    "        print(\"Wrong type was passed\")\n",
    "    except (IndexError):\n",
    "        print(\"Wrong index passed, max doc_id is 17639\")"
   ]
  },
  {
   "cell_type": "code",
   "execution_count": 48,
   "metadata": {},
   "outputs": [
    {
     "name": "stdout",
     "output_type": "stream",
     "text": [
      "['staff', 'usual', 'food', 'good', 'meal', 'recommend', 'seat', 'spacious', 'think', 'time', 'lhr', 'no', 'aircraft', 'boarding', 'economy', 'journey', 'overall', 'give', 'pocket', 'storage', 'joke', 'especially', 'pay', 'let', 'return', 'little', 'support', 'apart', 'pleasant', 'need', 'uncomfortable', 'hard', 'virtually', 'second', 'leg', 'legroom', 'recline', 'wide', 'clean', 'ife', 'space', 'cabin', 'excellent', 'plus', 'world_traveller', 'miss', 'exception', 'adequate', 'odd', 'okay', 'attention', 'wonderful', 'big', 'whilst', 'storage_space', 'procedure', 'opportunity']\n",
      "[2.36204370e-01 1.51423380e-04 1.51423380e-04 7.63492783e-01]\n"
     ]
    }
   ],
   "source": [
    "words_1000,doc_topic_dist_1000 = compute_words_topic_dist(1000,ldaseq)\n",
    "print(words_1000)\n",
    "print(doc_topic_dist_1000)"
   ]
  },
  {
   "cell_type": "code",
   "execution_count": 49,
   "metadata": {},
   "outputs": [
    {
     "name": "stdout",
     "output_type": "stream",
     "text": [
      "['staff', 'try', 'cabin_crew', 'fly', 'food', 'good', 'hour', 'seat', 'time', 'airline', 'book', 'helpful', 'lhr', 'boarding', 'british_airways', 'configuration', 'departure', 'hear', 'service', 'bag', 'option', 'room', 'drink', 'wine', 'attentive', 'choice', 'screen', 'decide', 'stretch', 'cabin', 'welcome', 'bit', 'connect', 'professional', 'fare', 'centre', 'privacy', 'sydney', 'smooth', 'drop', 'lovely', 'report', 'september', 'singapore', 'secure', 'competitive']\n",
      "[1.92159877e-04 1.92159877e-04 3.32521864e-02 9.66363494e-01]\n"
     ]
    }
   ],
   "source": [
    "words_2000,doc_topic_dist_2000 = compute_words_topic_dist(2000,ldaseq)\n",
    "print(words_2000)\n",
    "print(doc_topic_dist_2000)"
   ]
  },
  {
   "cell_type": "markdown",
   "metadata": {},
   "source": [
    "The Hellinger distance ranges from 0 to 1, with 0 indicating that the two distributions are identical, and 1 indicating that they are completely dissimilar."
   ]
  },
  {
   "cell_type": "code",
   "execution_count": 87,
   "metadata": {},
   "outputs": [
    {
     "data": {
      "text/plain": [
       "0.3967"
      ]
     },
     "execution_count": 87,
     "metadata": {},
     "output_type": "execute_result"
    }
   ],
   "source": [
    "np.round(hellinger(doc_topic_dist_1000,doc_topic_dist_2000),4)\n",
    "# They are somewhat similar"
   ]
  },
  {
   "cell_type": "markdown",
   "metadata": {},
   "source": [
    "The above topics are highly dissimilar"
   ]
  },
  {
   "cell_type": "markdown",
   "metadata": {},
   "source": [
    "### **Choosing your best Dynamic Topic Model**"
   ]
  },
  {
   "cell_type": "markdown",
   "metadata": {},
   "source": [
    "**Chain Variance**"
   ]
  },
  {
   "cell_type": "markdown",
   "metadata": {},
   "source": [
    "\n",
    "One of the key aspects of topic evolution is how fast/slow these topics evolve. And this is where the factor of variance comes in. By setting the chain_variance input to the DTM model higher, we can tweak our topic evolution. The default value is 0.005. (this is the value suggested by Blei in his tech talk and is the default value in the C++ code)"
   ]
  },
  {
   "cell_type": "code",
   "execution_count": 52,
   "metadata": {},
   "outputs": [],
   "source": [
    "# Default chain_variance value: 0.005\n",
    "# Let's increase the value\n",
    "ldaseq_chain = models.ldaseqmodel.LdaSeqModel(\n",
    "                                        corpus=bow_corpus,\n",
    "                                        id2word=id2word,\n",
    "                                        time_slice=time_slice_years,\n",
    "                                        num_topics=4,\n",
    "                                        random_state=42,\n",
    "                                        passes=300,\n",
    "                                        chunksize=100,\n",
    "                                        chain_variance=0.05\n",
    "                                        )"
   ]
  },
  {
   "cell_type": "code",
   "execution_count": 53,
   "metadata": {},
   "outputs": [
    {
     "name": "stdout",
     "output_type": "stream",
     "text": [
      "2011\n",
      "[[('seat', 0.04371517020613157), ('service', 0.020293293830283984), ('no', 0.019859138554178663), ('business_class', 0.01944989656996608), ('fly', 0.017058831696869472), ('economy', 0.013030197579637172), ('food', 0.013004271547611737), ('airline', 0.01217381646340316), ('pay', 0.009866092181403332), ('passenger', 0.009717247484255032), ('time', 0.009219555172142782), ('offer', 0.009017310084924927), ('or', 0.008979322771681505), ('meal', 0.00897089370392561), ('hour', 0.008374855481426526), ('staff', 0.008129063698898771), ('bad', 0.00732756173372573), ('plane', 0.006371431475772205), ('small', 0.005449170092646265), ('cabin', 0.00538402080287501)], [('no', 0.02371596954496203), ('check', 0.02062201172605952), ('gate', 0.018112027331920487), ('time', 0.01749184746854564), ('service', 0.01645582895707078), ('boarding', 0.016025657685082826), ('delay', 0.015427747802047202), ('lounge', 0.014391216755762902), ('staff', 0.012809215723515434), ('passenger', 0.009716155228372861), ('minute', 0.009694739875337326), ('take', 0.009076189242484366), ('good', 0.009015574422056187), ('wait', 0.008907285121503817), ('board', 0.008775810912899), ('hour', 0.008403785525761143), ('airport', 0.008278128540200798), ('crew', 0.00819414932819536), ('plane', 0.007976119496504567), ('arrive', 0.007917835415453371)], [('no', 0.016081389815047087), ('tell', 0.013486876151203761), ('hour', 0.012857858963058496), ('book', 0.012417185826143467), ('cancel', 0.011124893627489684), ('airport', 0.010713451859521635), ('airline', 0.010690289962073765), ('british_airways', 0.009670739429484562), ('ticket', 0.0095097931813086), ('customer_service', 0.00950617227345615), ('travel', 0.009466919242917376), ('check', 0.009392525433875466), ('time', 0.009010219647150508), ('refund', 0.00869552184301379), ('delay', 0.00868838885582576), ('find', 0.007911378558805061), ('call', 0.007834898649617032), ('or', 0.007560265976996532), ('day', 0.007531052326075141), ('luggage', 0.007522537804313228)], [('good', 0.038366785631037244), ('food', 0.020711981703940983), ('crew', 0.01924380614245804), ('great', 0.016789508248524543), ('time', 0.015307868631043981), ('comfortable', 0.015112247556916042), ('seat', 0.01509608217604049), ('service', 0.014810450403608356), ('experience', 0.014617685847292476), ('new', 0.011907340414163244), ('excellent', 0.010210901662754656), ('fly', 0.00941039265980857), ('club_world', 0.007974462618869579), ('cabin_crew', 0.007471552594518545), ('nice', 0.0070418579006348014), ('friendly', 0.00703503181670171), ('suite', 0.006579529348214138), ('class', 0.006551888872897309), ('club', 0.006551502294707898), ('aircraft', 0.0063001120424964595)]] \n",
      "\n",
      "2012\n",
      "[[('seat', 0.04384466144024092), ('service', 0.020344517138258692), ('no', 0.019904679487214392), ('business_class', 0.019496303250822456), ('fly', 0.01709583907323249), ('economy', 0.013055769018480986), ('food', 0.013029826080463556), ('airline', 0.012202514044860772), ('pay', 0.009881568396900499), ('passenger', 0.009732871696529453), ('time', 0.009233271126618838), ('offer', 0.009030230500439662), ('or', 0.008992837907653161), ('meal', 0.00898515792862811), ('hour', 0.008387447201547257), ('staff', 0.008140354130416446), ('bad', 0.00733755754317935), ('plane', 0.006378754325556074), ('small', 0.005454715819530239), ('cabin', 0.005389494232789752)], [('no', 0.024260669551707227), ('check', 0.02103781324629082), ('time', 0.017613520185459104), ('gate', 0.017593768188116272), ('service', 0.016390846047964293), ('boarding', 0.01585314812102882), ('delay', 0.014406042611262061), ('lounge', 0.01429410687159783), ('staff', 0.012414422153898576), ('passenger', 0.009817706422102987), ('minute', 0.00979628170028053), ('take', 0.009165561007856328), ('good', 0.009080663903897756), ('wait', 0.008993104662957425), ('board', 0.00885952815473055), ('airport', 0.008352140088592194), ('hour', 0.008315064504466556), ('crew', 0.008268354780003402), ('plane', 0.008046669749035708), ('queue', 0.00791225581409336)], [('no', 0.015711626357366275), ('tell', 0.013797332407163179), ('hour', 0.013138096361863033), ('book', 0.012063368639323014), ('cancel', 0.01133700204753062), ('airport', 0.010909554917298227), ('airline', 0.010353658642448483), ('british_airways', 0.009832557917004953), ('ticket', 0.009665715499283505), ('customer_service', 0.009663034631468628), ('travel', 0.009621702011658281), ('time', 0.009151053694126408), ('check', 0.009080497906545549), ('refund', 0.008827167675517021), ('delay', 0.008761970272726922), ('call', 0.007942237019256735), ('or', 0.00765988995484908), ('day', 0.0076298959552255135), ('find', 0.007629513126745838), ('luggage', 0.007620598149684888)], [('good', 0.04090677220888827), ('food', 0.021006778240942946), ('crew', 0.020355486724167107), ('great', 0.016666022564468853), ('time', 0.015228270138889315), ('experience', 0.015070174121715746), ('seat', 0.014914657658541369), ('service', 0.014838052589422385), ('comfortable', 0.01347142893660137), ('new', 0.011528954091882496), ('excellent', 0.0107998595354599), ('fly', 0.009424384672948746), ('club_world', 0.007923120528156245), ('cabin_crew', 0.00740265509059833), ('nice', 0.006959996401159491), ('friendly', 0.006953522041472616), ('club', 0.006477407616940836), ('aircraft', 0.006246419119098013), ('suite', 0.0061705804222775), ('class', 0.006160327183102285)]] \n",
      "\n",
      "2014\n",
      "[[('seat', 0.04631699789770575), ('no', 0.020361419813463497), ('service', 0.01928958969420642), ('fly', 0.018070481954009843), ('business_class', 0.016761621267716735), ('food', 0.012989669681001556), ('airline', 0.01216799187713925), ('economy', 0.01205683961289172), ('pay', 0.010206555315916337), ('passenger', 0.009591049336297276), ('time', 0.009374690705758096), ('or', 0.009263544450147366), ('meal', 0.009256393133197264), ('offer', 0.009001451119420887), ('hour', 0.008623067074625108), ('staff', 0.00820978520128826), ('bad', 0.00751848518051385), ('plane', 0.006515922575533418), ('cabin', 0.005487155657779167), ('poor', 0.005455548015826829)], [('no', 0.02499463129952254), ('check', 0.022425204071929765), ('gate', 0.01865014597902742), ('time', 0.01837646993628261), ('boarding', 0.01690598775046722), ('service', 0.014918340092116384), ('lounge', 0.013906566751892354), ('delay', 0.011797810833042578), ('staff', 0.011790125113780898), ('passenger', 0.010143795045831568), ('minute', 0.01008312966148266), ('good', 0.009294827480865669), ('airport', 0.008760513643032118), ('take', 0.008506311992351316), ('board', 0.008431664488147682), ('lhr', 0.00826831176103942), ('queue', 0.00811417047694883), ('crew', 0.008109775145285004), ('hour', 0.008099508580756302), ('wait', 0.008070375314588806)], [('no', 0.015263274514409264), ('tell', 0.01231926554369236), ('airline', 0.011960832105414952), ('hour', 0.011823849367061448), ('cancel', 0.0114391703148625), ('customer_service', 0.011298289009011938), ('book', 0.01127323414182275), ('british_airways', 0.010484168350628476), ('delay', 0.0093527736748029), ('time', 0.009215860180691118), ('airport', 0.009116336236073986), ('day', 0.008796739569491391), ('or', 0.008489420755577237), ('luggage', 0.008423253385602793), ('check', 0.008354575442789216), ('travel', 0.008329828749486125), ('ticket', 0.007962640033142999), ('call', 0.007959757326172068), ('refund', 0.007830902952021369), ('try', 0.0076248975292041695)], [('good', 0.04422765218096176), ('crew', 0.020555473785408673), ('food', 0.019980772275681964), ('great', 0.016476969149216484), ('time', 0.015748908868439552), ('seat', 0.015306813311905783), ('service', 0.014905738075311047), ('experience', 0.013519168092153432), ('comfortable', 0.011884621841082669), ('excellent', 0.011747086904746823), ('new', 0.011318856335189236), ('fly', 0.009672905963770594), ('club_world', 0.00766031446733316), ('cabin_crew', 0.007147859629941416), ('nice', 0.007007226853129501), ('club', 0.006516114987134376), ('friendly', 0.0064610426592469), ('aircraft', 0.006297277716980421), ('overall', 0.0059286484615418585), ('class', 0.005889033375856025)]] \n",
      "\n",
      "2015\n",
      "[[('seat', 0.03484615848989251), ('no', 0.022211062225383053), ('service', 0.018069479339285228), ('fly', 0.017452856029219883), ('business_class', 0.01513453280328419), ('food', 0.01474882296386818), ('meal', 0.012622641975535155), ('or', 0.011432659074504085), ('airline', 0.011051291148852024), ('offer', 0.010257470398014846), ('economy', 0.010194732569429488), ('pay', 0.009034332516416997), ('passenger', 0.008965538979186841), ('hour', 0.008480153660109728), ('time', 0.007895366925666872), ('staff', 0.007750738776854402), ('bad', 0.006603130669284837), ('plane', 0.006582692917190806), ('poor', 0.006016629204150834), ('small', 0.005952425191882393)], [('no', 0.021917726880634873), ('time', 0.02098749798093231), ('check', 0.01919035388545351), ('boarding', 0.01655838512286492), ('service', 0.014762027206575807), ('gate', 0.014594440622329759), ('lounge', 0.013645194659882523), ('delay', 0.011630465352720307), ('staff', 0.011590896179161836), ('passenger', 0.010729033026114712), ('minute', 0.010714948300641298), ('lhr', 0.010155127236278897), ('queue', 0.009317347506816946), ('good', 0.00883505087344878), ('take', 0.0086397833018806), ('board', 0.008610348939426552), ('airport', 0.008463006778413244), ('crew', 0.008397858266374224), ('plane', 0.008368241163733756), ('hour', 0.007826002681890029)], [('cancel', 0.016857334260366858), ('no', 0.01512146720484635), ('tell', 0.01456308026458018), ('hour', 0.012509577172762323), ('book', 0.012443436757725426), ('day', 0.010987605086027674), ('time', 0.010390001524762838), ('check', 0.009574223867836537), ('airline', 0.009139350174974657), ('british_airways', 0.009135532167460044), ('customer_service', 0.008784887989116212), ('delay', 0.008634854306194097), ('airport', 0.008434584602352677), ('fly', 0.00794181998219448), ('ticket', 0.007865610601315786), ('try', 0.007837941988952355), ('or', 0.0076734832729431586), ('refund', 0.00737839398180413), ('london', 0.007225547634939049), ('luggage', 0.007176403994259239)], [('good', 0.0507571866944068), ('food', 0.01900437720586882), ('crew', 0.017429799547662786), ('service', 0.01678611980019237), ('seat', 0.015763769460426794), ('time', 0.015267677447175571), ('great', 0.014578412060902341), ('excellent', 0.011698217205670956), ('experience', 0.01110298815762175), ('comfortable', 0.010823676501983208), ('new', 0.010355526331021154), ('fly', 0.010008266288798483), ('cabin_crew', 0.00723170908442305), ('club_world', 0.007093243382880303), ('nice', 0.0070681351613290115), ('overall', 0.006743567323293687), ('aircraft', 0.006356567840133619), ('club', 0.006339120176978691), ('friendly', 0.0062860547092619765), ('cabin', 0.0057698423408071575)]] \n",
      "\n",
      "2016\n",
      "[[('seat', 0.03466392611931972), ('no', 0.022499962282344462), ('business_class', 0.018055285167131084), ('food', 0.015155027415750803), ('service', 0.01434954419738638), ('or', 0.013168202287853184), ('fly', 0.013105225579604472), ('airline', 0.012311297167064042), ('offer', 0.011108768058224654), ('meal', 0.010549012845956015), ('economy', 0.010073355324843752), ('passenger', 0.008747693002706227), ('hour', 0.00840009790408089), ('pay', 0.008041613772477718), ('cabin', 0.0071766337221778505), ('staff', 0.006964948709996902), ('time', 0.0069374537229881855), ('bad', 0.006776030734848233), ('drink', 0.005740996410888693), ('plane', 0.005626311824203278)], [('time', 0.021836371959979808), ('check', 0.020823281190555435), ('no', 0.018520293250213666), ('gate', 0.014690648302982227), ('staff', 0.013983242670272057), ('lounge', 0.013482794308433054), ('service', 0.013467507474959419), ('passenger', 0.013282737733942285), ('boarding', 0.012687688301649059), ('delay', 0.012199927213743397), ('minute', 0.010088305370615773), ('good', 0.009670141304241308), ('lhr', 0.009658177005233672), ('queue', 0.00953509825150593), ('hour', 0.009253565731116515), ('board', 0.009209261653702738), ('arrive', 0.008427382128603866), ('plane', 0.0082068627832511), ('drink', 0.008058778361751192), ('crew', 0.008051816497490934)], [('tell', 0.0150568120320139), ('cancel', 0.014438747693518578), ('no', 0.014417725717502912), ('hour', 0.014139308230640022), ('book', 0.013789202741681607), ('day', 0.011067726183603676), ('time', 0.010676788849575385), ('customer_service', 0.009656332772238888), ('airline', 0.009454691209365337), ('check', 0.00932396761897308), ('refund', 0.009091117435554954), ('london', 0.00906258743683379), ('british_airways', 0.008913962124250484), ('fly', 0.008535541933082286), ('travel', 0.008220375776113698), ('try', 0.007928611886156765), ('or', 0.007757883786678385), ('airport', 0.007532499222753702), ('get', 0.007425969153265289), ('say', 0.0073565504615194215)], [('good', 0.042439557211299286), ('food', 0.01828202599437596), ('service', 0.01757708440863967), ('seat', 0.01737443387840678), ('time', 0.016271072787052688), ('crew', 0.013458397585216384), ('great', 0.011946133967412852), ('experience', 0.011479747554637118), ('fly', 0.010845574653798243), ('new', 0.010739322181739626), ('excellent', 0.010462590493767942), ('comfortable', 0.010305685323014058), ('cabin_crew', 0.008244697458086292), ('nice', 0.006985882725773473), ('club_world', 0.006853912111767349), ('overall', 0.006798585910063754), ('london', 0.006728400821022777), ('cabin', 0.006588628080757924), ('aircraft', 0.00647767460843925), ('friendly', 0.006384059838073989)]] \n",
      "\n",
      "2017\n",
      "[[('seat', 0.04113090929653447), ('no', 0.020835020810009364), ('business_class', 0.01592477231872609), ('service', 0.01408316124346594), ('food', 0.012650418193591919), ('or', 0.012344511482127046), ('airline', 0.012339879676557685), ('fly', 0.011013968529695864), ('offer', 0.009410478934057442), ('economy', 0.00897979264754536), ('meal', 0.008290908320046909), ('pay', 0.00794281261742019), ('passenger', 0.007600371499673004), ('cabin', 0.007598108375081219), ('london', 0.007359698109874163), ('bad', 0.0071758026212614704), ('hour', 0.006719603408851647), ('row', 0.0064701881209617736), ('time', 0.006304470402010748), ('ask', 0.006193119221764805)], [('check', 0.024561565091480067), ('time', 0.01892236940240482), ('no', 0.017224542440337005), ('lounge', 0.016122565968922004), ('passenger', 0.01562768316917017), ('service', 0.0141332007467401), ('boarding', 0.012416401150732913), ('staff', 0.011631604336304365), ('gate', 0.011565907473110202), ('minute', 0.010958958314138234), ('good', 0.009977843429727195), ('delay', 0.009767839123748819), ('board', 0.009643299380481628), ('hour', 0.009564664649486836), ('plane', 0.008433685097418844), ('crew', 0.008409726626144717), ('drink', 0.008003516683346801), ('food', 0.007705606333177662), ('queue', 0.007700001575608744), ('arrive', 0.007621279851919374)], [('cancel', 0.013983297804889902), ('no', 0.013889844432397132), ('book', 0.013824713990804503), ('tell', 0.012059499712082923), ('london', 0.01168285053751176), ('hour', 0.010940194854001054), ('day', 0.010452308738140324), ('fly', 0.0103291870985454), ('time', 0.010273539508595742), ('travel', 0.0099684203607585), ('british_airways', 0.00959428644712222), ('refund', 0.009428381305256311), ('airline', 0.009200204961462389), ('voucher', 0.008222234708938627), ('or', 0.008120511190172902), ('customer_service', 0.007969097866432627), ('say', 0.0076483187350024125), ('try', 0.007603259403240033), ('ticket', 0.006950518254621298), ('pay', 0.006938929982612033)], [('good', 0.03833608698422481), ('seat', 0.018160449114851904), ('service', 0.016952179094533067), ('food', 0.016915995975874894), ('crew', 0.015027808441544712), ('time', 0.014055162426661197), ('fly', 0.012163032164730914), ('great', 0.011117973364221287), ('experience', 0.010885893130354984), ('comfortable', 0.010627322443668298), ('london', 0.010155141433665143), ('new', 0.008808598212821268), ('excellent', 0.008436449132328954), ('cabin', 0.008109319661840246), ('nice', 0.007693588231385813), ('cabin_crew', 0.007483226186180053), ('aircraft', 0.007122665095703571), ('overall', 0.006665862627491128), ('friendly', 0.0064621286303822335), ('club_world', 0.00639199349486763)]] \n",
      "\n",
      "2018\n",
      "[[('seat', 0.038159138081240634), ('no', 0.019718752758196914), ('service', 0.013716203768856754), ('food', 0.012640653411244316), ('business_class', 0.01219718719359538), ('airline', 0.011293163495964481), ('or', 0.011201956011744528), ('fly', 0.010996492902350764), ('london', 0.009668785595993962), ('meal', 0.009045232893557631), ('offer', 0.008900709080412768), ('bad', 0.008115190471065854), ('economy', 0.0078434851135374), ('cabin', 0.007761378926711996), ('pay', 0.0076929293064868344), ('drink', 0.00690745008306131), ('hour', 0.006830327323753914), ('ask', 0.006407814505261782), ('plane', 0.006373880323661008), ('class', 0.00623988891621704)], [('check', 0.020148255749550387), ('time', 0.01704269064227986), ('no', 0.015353377450969465), ('service', 0.014833818507433387), ('boarding', 0.01413378760985549), ('passenger', 0.014089027315286157), ('lounge', 0.013962229127268763), ('minute', 0.013599686745620733), ('board', 0.010863042330577088), ('delay', 0.010754136884014194), ('gate', 0.01064190958608225), ('good', 0.00974169770562547), ('staff', 0.009531007862311033), ('plane', 0.009203923478801408), ('hour', 0.008618710646743346), ('crew', 0.008560949944103894), ('drink', 0.008451400272156209), ('departure', 0.007850749182427796), ('arrive', 0.007751387063234049), ('food', 0.00755614309787957)], [('london', 0.016991521261067257), ('no', 0.014411478677315405), ('tell', 0.013634883091741592), ('hour', 0.01340951289162371), ('day', 0.01211774925240483), ('british_airways', 0.011158693739131042), ('bag', 0.011126022175695227), ('fly', 0.010845981410513813), ('delay', 0.010266819476481844), ('time', 0.009795933672801271), ('book', 0.009673324174782382), ('airport', 0.009079442774884186), ('customer_service', 0.00907664542961952), ('cancel', 0.008427996324519144), ('check', 0.00839150327687443), ('airline', 0.007886509689616412), ('staff', 0.007696807018918194), ('pay', 0.007649272261158073), ('ask', 0.007352692952754636), ('refund', 0.007228463658878593)], [('good', 0.03513762156356115), ('seat', 0.020105058729697433), ('service', 0.018165147837905394), ('food', 0.016422948779877062), ('crew', 0.01452757753765582), ('london', 0.013829057793415386), ('time', 0.01367102747730287), ('fly', 0.011374008442116215), ('comfortable', 0.011160387205840849), ('great', 0.010308812502028036), ('experience', 0.010253524877241429), ('cabin', 0.008210007457519276), ('excellent', 0.00767923349826742), ('cabin_crew', 0.007197203811873375), ('nice', 0.006943453341342213), ('new', 0.006779681992395517), ('friendly', 0.006390550782227332), ('aircraft', 0.006350827203559116), ('meal', 0.0060313849700345395), ('sleep', 0.005968798367027521)]] \n",
      "\n",
      "2019\n",
      "[[('seat', 0.035023599444253456), ('no', 0.019303657031673492), ('service', 0.013710265450478296), ('fly', 0.013027569386497715), ('food', 0.012334656722022651), ('airline', 0.012268046191182219), ('or', 0.011857586659220726), ('london', 0.009221101833796229), ('meal', 0.009198970560213918), ('business_class', 0.009171086708975562), ('offer', 0.008924467442521608), ('economy', 0.00839110929533031), ('pay', 0.007462544395302675), ('cabin', 0.007205111252157458), ('serve', 0.0070967568805628016), ('bad', 0.0066634110916281), ('plane', 0.00665732606692088), ('time', 0.006634273951217237), ('class', 0.006408778574381975), ('ask', 0.005662215167041332)], [('check', 0.019976101942078075), ('service', 0.016865621694960302), ('no', 0.016626029209818257), ('time', 0.015609171151797285), ('lounge', 0.01522525321777895), ('boarding', 0.014466529759994434), ('board', 0.012445855421706009), ('passenger', 0.012392529565554289), ('minute', 0.011684580127214917), ('good', 0.010178559566497191), ('delay', 0.010082713192593242), ('gate', 0.009939338917282943), ('drink', 0.009157587618612864), ('plane', 0.008996812062814264), ('crew', 0.008975223765368724), ('food', 0.008220969603281609), ('bag', 0.007865002279581552), ('arrive', 0.007850329793811705), ('staff', 0.0076592985598762245), ('airport', 0.007333146428425783)], [('london', 0.015307937162824994), ('no', 0.01418806212471295), ('hour', 0.013524644482214555), ('tell', 0.013459720331479777), ('day', 0.011912308970569092), ('fly', 0.011107205582680867), ('check', 0.010949763579664321), ('delay', 0.010419392638387317), ('book', 0.010340081552726733), ('british_airways', 0.010133590160164886), ('bag', 0.009509674452011757), ('time', 0.009479905963437233), ('airport', 0.008802147942900284), ('customer_service', 0.008599416543572007), ('say', 0.00852988161824808), ('staff', 0.008287702384643228), ('airline', 0.00806430013563374), ('pay', 0.007683353976045853), ('cancel', 0.007333144394351846), ('ask', 0.00730787241693227)], [('good', 0.028097573004882578), ('seat', 0.019547992603053996), ('crew', 0.016779890045537305), ('food', 0.01652702041511043), ('service', 0.01502995459812833), ('time', 0.011658493651428292), ('london', 0.01159257986217205), ('fly', 0.010947379834887043), ('experience', 0.009570692986557565), ('comfortable', 0.00922175299145585), ('great', 0.008568289814860018), ('cabin', 0.008218201116760887), ('cabin_crew', 0.006671852672149098), ('meal', 0.006571546066236813), ('excellent', 0.006560370081504851), ('aircraft', 0.006545481021021834), ('friendly', 0.0063594496483639846), ('new', 0.006358719984214402), ('ife', 0.006313606299856394), ('nice', 0.0061621807956693505)]] \n",
      "\n",
      "2020\n",
      "[[('seat', 0.02148851701141944), ('no', 0.017113182124736528), ('service', 0.01509543387093984), ('fly', 0.015055351423493556), ('airline', 0.014667208549101819), ('food', 0.012626754000673538), ('or', 0.011358292270623231), ('economy', 0.009254775961338337), ('business_class', 0.008714269678086993), ('british_airways', 0.00857496164148069), ('offer', 0.008047327184272021), ('meal', 0.007996142046415982), ('pay', 0.007654650657537692), ('passenger', 0.007214179710993978), ('cabin', 0.006893170878091654), ('class', 0.006215867030850565), ('serve', 0.006197023483365867), ('bad', 0.006165857780245045), ('time', 0.005817119422835327), ('price', 0.005528269894613591)], [('lounge', 0.01881173203152884), ('time', 0.017325632686900932), ('check', 0.015995297903092776), ('service', 0.013960914419185589), ('no', 0.013669197726707888), ('boarding', 0.012294267474664358), ('passenger', 0.012035866283133486), ('good', 0.011305310548247781), ('board', 0.010285628305755034), ('bag', 0.009670848047477466), ('crew', 0.009241778177706033), ('drink', 0.009234785341246462), ('minute', 0.009186508156148458), ('gate', 0.008668947363063369), ('plane', 0.008546024533996801), ('terminal', 0.008375378458047504), ('delay', 0.008162649396855997), ('seat', 0.008054476416244828), ('arrive', 0.007492877197998442), ('gatwick', 0.007064831927300958)], [('tell', 0.016820974832353165), ('no', 0.016220166728504733), ('check', 0.013562270978168678), ('hour', 0.013189904702505759), ('time', 0.011278491902987388), ('fly', 0.010816004577369982), ('london', 0.010600672589271805), ('day', 0.010324480012045481), ('british_airways', 0.01025107233284675), ('book', 0.01007424297646037), ('delay', 0.00983418090232836), ('airport', 0.008930035637678482), ('staff', 0.008926809297305592), ('bag', 0.008639181511192478), ('seat', 0.008631705624118712), ('pay', 0.008429909952835034), ('airline', 0.008200334340460321), ('customer_service', 0.0078006050127390845), ('ask', 0.007633414726347006), ('ticket', 0.007475972169355755)], [('good', 0.02949242700962758), ('seat', 0.022856085231698114), ('food', 0.01683011734774062), ('service', 0.01393275667997261), ('crew', 0.013926630675414567), ('time', 0.012005340963996226), ('fly', 0.010145891293293052), ('experience', 0.00976911844339207), ('london', 0.009644129976298139), ('great', 0.008690426219739632), ('comfortable', 0.008646127537332297), ('cabin', 0.008303202770896162), ('excellent', 0.00713444359106491), ('cabin_crew', 0.0070930614912824135), ('new', 0.007034196965976238), ('ife', 0.006979366946959022), ('london_heathrow', 0.006805757493290793), ('meal', 0.00649944110470717), ('staff', 0.006290023396423737), ('friendly', 0.006216716734919662)]] \n",
      "\n",
      "2021\n",
      "[[('seat', 0.026575313973720413), ('fly', 0.016980485600515707), ('no', 0.015747598245473386), ('airline', 0.013960160641987185), ('british_airways', 0.013080495321489584), ('or', 0.012163699396776358), ('service', 0.011758389397095904), ('food', 0.0115928900499524), ('meal', 0.00970288822819483), ('business_class', 0.009600516822802661), ('economy', 0.009540004204135057), ('cabin', 0.007306691568530342), ('hour', 0.007035615806125386), ('time', 0.006976562641373379), ('offer', 0.006777517152253973), ('pay', 0.006753945873084308), ('serve', 0.006510834609684954), ('passenger', 0.006450092607946969), ('class', 0.006331896203064826), ('drink', 0.005740146034561521)], [('lounge', 0.020730916781093962), ('time', 0.02023284727176816), ('check', 0.01823000893124271), ('service', 0.01494538583525896), ('no', 0.013607792996527006), ('boarding', 0.013443625072015191), ('seat', 0.011378070747261649), ('drink', 0.011314725273845137), ('good', 0.01127850230122888), ('crew', 0.009644813914024216), ('passenger', 0.009616805293633924), ('minute', 0.008973725809346854), ('bag', 0.008627646351234666), ('delay', 0.00860095748675713), ('board', 0.008377272746292224), ('arrive', 0.008069764468416903), ('terminal', 0.007679941823054478), ('gate', 0.007548852213885132), ('serve', 0.007230393851082533), ('return', 0.007049384403983345)], [('no', 0.017378751793693237), ('tell', 0.015009408387478006), ('hour', 0.014124388982442036), ('british_airways', 0.01340634547056609), ('check', 0.01326460635900826), ('delay', 0.011601999769714141), ('book', 0.011182896600839676), ('time', 0.010866335500048327), ('fly', 0.010699503627248684), ('staff', 0.009180806878086114), ('seat', 0.008958842537275262), ('london', 0.00863562946196505), ('day', 0.007890294879831956), ('ask', 0.007848814145498323), ('airport', 0.007623467167350674), ('wait', 0.0075536804458230045), ('arrive', 0.007277018914133443), ('bag', 0.006974197419983514), ('say', 0.006923481858992605), ('give', 0.006708994874398813)], [('good', 0.030987060524804263), ('seat', 0.024554028943858393), ('service', 0.017046747373978394), ('food', 0.016876911014105402), ('time', 0.013351264512859052), ('fly', 0.013241177822026854), ('crew', 0.011866505889236253), ('british_airways', 0.01025290719508886), ('comfortable', 0.009573833471742801), ('cabin', 0.008894964487119), ('cabin_crew', 0.008590371100271244), ('experience', 0.00833414810516202), ('great', 0.008278436231610368), ('excellent', 0.00819182826991576), ('london', 0.00815872617340969), ('aircraft', 0.007726795830038809), ('london_heathrow', 0.007550176516975165), ('lhr', 0.007454614007558094), ('ife', 0.006938266280674449), ('nice', 0.006483147513678173)]] \n",
      "\n",
      "2022\n",
      "[[('seat', 0.03202261453341607), ('fly', 0.015230139427335284), ('british_airways', 0.014765938611571605), ('no', 0.013203772737728254), ('food', 0.012082082206460388), ('service', 0.011518649916276654), ('airline', 0.01055390571469844), ('or', 0.01046711533255979), ('economy', 0.00953164589582052), ('business_class', 0.009470237173511259), ('cabin', 0.008626938826400789), ('passenger', 0.007663588268695665), ('time', 0.007611293465178723), ('meal', 0.007535903276191235), ('class', 0.0067372690059636494), ('serve', 0.006667946506375335), ('offer', 0.005997549156502626), ('staff', 0.005913974529254365), ('pay', 0.005895815515503289), ('plane', 0.005710334123117047)], [('time', 0.018665525867865854), ('check', 0.018631333310409007), ('lounge', 0.01769597956243238), ('no', 0.015117957982619957), ('good', 0.013378433120870566), ('service', 0.012899159526056107), ('drink', 0.01286553092560882), ('boarding', 0.01177341300319474), ('crew', 0.011166577023096766), ('seat', 0.010941668393762803), ('minute', 0.009862780593257361), ('passenger', 0.009074028719393609), ('board', 0.008418983042679306), ('lhr', 0.008150476965428723), ('delay', 0.008149865799864311), ('bag', 0.008123557815042159), ('serve', 0.00805395088215148), ('arrive', 0.006907985682840163), ('security', 0.006789908866189169), ('plane', 0.006778185116650792)], [('no', 0.01856309301182003), ('british_airways', 0.015087910437683568), ('hour', 0.014731490539970258), ('tell', 0.013513929367688773), ('check', 0.013188963590381181), ('delay', 0.012046693278247552), ('time', 0.011365556128022264), ('book', 0.011296566846064988), ('staff', 0.01084088909532928), ('fly', 0.010446022723540345), ('day', 0.009209018671360073), ('travel', 0.007764827751820775), ('or', 0.007277778230425633), ('seat', 0.0071401296882844635), ('wait', 0.007107704193659081), ('bag', 0.007048456295921369), ('london', 0.006984632413437798), ('go', 0.006905324340647869), ('arrive', 0.0068110589191940135), ('customer_service', 0.006593989599021524)], [('good', 0.033742627487663365), ('seat', 0.03174873556113656), ('food', 0.019290415648813005), ('service', 0.015234606460586511), ('comfortable', 0.01437334846004547), ('fly', 0.01286212781291291), ('excellent', 0.011225796258634015), ('lhr', 0.01054800099095883), ('crew', 0.010268295043888851), ('cabin', 0.009783514204177692), ('time', 0.00968282183778115), ('great', 0.009300257391991303), ('british_airways', 0.008931227501788104), ('cabin_crew', 0.0075929054688236046), ('return', 0.00717257719067006), ('aircraft', 0.007052422900914249), ('new', 0.006885111561285275), ('staff', 0.006845715304333477), ('sleep', 0.006818120940263322), ('club_world', 0.006637495747953452)]] \n",
      "\n",
      "2023\n",
      "[[('seat', 0.03434748350108338), ('fly', 0.016212293890894187), ('no', 0.014707343229676605), ('food', 0.013750256833588157), ('or', 0.011426368759257522), ('service', 0.010412970666263106), ('airline', 0.010122906861615712), ('cabin', 0.00879381476584047), ('business_class', 0.008594311629529998), ('economy', 0.0082098779730208), ('passenger', 0.00797857553347459), ('meal', 0.007792644920871234), ('time', 0.007744062202763385), ('plane', 0.0064990561728482206), ('serve', 0.006207688756884751), ('class', 0.006075199188812595), ('travel', 0.005862245607096866), ('offer', 0.005776440605675942), ('pay', 0.005637846659124199), ('ask', 0.005544873420234692)], [('time', 0.021994668591506932), ('lounge', 0.018861682282617306), ('good', 0.017315493083622537), ('check', 0.01683286849428715), ('lhr', 0.01574716981719073), ('service', 0.015095449640942346), ('crew', 0.013909366836786738), ('drink', 0.01367675150135416), ('no', 0.01126413696047012), ('boarding', 0.01113925438812725), ('bag', 0.009027703071695153), ('return', 0.008501461938199487), ('seat', 0.00821155534368509), ('arrive', 0.008020540650397081), ('board', 0.007914201229446263), ('club_europe', 0.007774726947425651), ('minute', 0.007757672429044997), ('food', 0.007755414970580942), ('nice', 0.007664474398912509), ('serve', 0.007663899280297654)], [('no', 0.02016726084522543), ('hour', 0.01643455588483176), ('tell', 0.014655066882429249), ('delay', 0.01380755162392838), ('fly', 0.012290215071467358), ('check', 0.01216439821351196), ('staff', 0.011003741211899003), ('time', 0.010869477720239962), ('book', 0.010432638656060266), ('heathrow', 0.00929485182636357), ('travel', 0.007929617405792976), ('plane', 0.007815464540870716), ('day', 0.007644863079837436), ('british_airways', 0.007497985471576261), ('wait', 0.00711940949538342), ('take', 0.00698827366775411), ('go', 0.006880543587264584), ('passenger', 0.006675388621016309), ('get', 0.006551550417607349), ('seat', 0.006534433699161049)], [('good', 0.03155611356553871), ('seat', 0.028272536055592632), ('lhr', 0.027112525949546808), ('food', 0.01831969411671601), ('fly', 0.016225628010022593), ('service', 0.015322902131604758), ('excellent', 0.014942309044873646), ('comfortable', 0.011766626362826505), ('great', 0.009813919618878258), ('cabin', 0.009072589075378092), ('crew', 0.009064266687290847), ('staff', 0.008749291395503959), ('return', 0.008630609734994242), ('club_world', 0.008598108919514142), ('time', 0.008256705534001199), ('new', 0.007880547100241681), ('cabin_crew', 0.0070748012472470305), ('aircraft', 0.006547481375262903), ('nice', 0.006452147401982011), ('experience', 0.006205121628586308)]] \n",
      "\n"
     ]
    }
   ],
   "source": [
    "for year_index in range(len(years)):\n",
    "    print(f\"{years[year_index]}\")\n",
    "    print_topics_per_time(year_index,ldaseq_chain)"
   ]
  },
  {
   "cell_type": "markdown",
   "metadata": {},
   "source": [
    "**Oberservations**\n",
    "\n",
    "All years had four topics in each of them\n",
    "\n",
    "Let's take topic 0 as our case study and see the position of the **word 'business_class' and its word probability: ('business_class', 0.01944989656996608) at the fourth index**, as the topics per time seems to be the same.\n",
    "\n",
    "\n",
    "- business_class lost its position in years 2014, 2015\n",
    "- business_class increased to the third_index in years 2016-2017\n",
    "- business_class dropped further down in years 2018-2023"
   ]
  },
  {
   "cell_type": "markdown",
   "metadata": {},
   "source": [
    "|Topic number|Topic description|\n",
    "|---|---|\n",
    "|Topic 0| Refreshments |\n",
    "|Topic 1| In flight experience|\n",
    "|Topic 2| Bad reviews|\n",
    "|Topic 3| Good reviews|"
   ]
  },
  {
   "cell_type": "code",
   "execution_count": 54,
   "metadata": {},
   "outputs": [
    {
     "name": "stdout",
     "output_type": "stream",
     "text": [
      "Topic 0 evolution over time\n",
      "[[('seat', 0.04371517020613157), ('service', 0.020293293830283984), ('no', 0.019859138554178663), ('business_class', 0.01944989656996608), ('fly', 0.017058831696869472), ('economy', 0.013030197579637172), ('food', 0.013004271547611737), ('airline', 0.01217381646340316), ('pay', 0.009866092181403332), ('passenger', 0.009717247484255032), ('time', 0.009219555172142782), ('offer', 0.009017310084924927), ('or', 0.008979322771681505), ('meal', 0.00897089370392561), ('hour', 0.008374855481426526), ('staff', 0.008129063698898771), ('bad', 0.00732756173372573), ('plane', 0.006371431475772205), ('small', 0.005449170092646265), ('cabin', 0.00538402080287501)], [('seat', 0.04384466144024092), ('service', 0.020344517138258692), ('no', 0.019904679487214392), ('business_class', 0.019496303250822456), ('fly', 0.01709583907323249), ('economy', 0.013055769018480986), ('food', 0.013029826080463556), ('airline', 0.012202514044860772), ('pay', 0.009881568396900499), ('passenger', 0.009732871696529453), ('time', 0.009233271126618838), ('offer', 0.009030230500439662), ('or', 0.008992837907653161), ('meal', 0.00898515792862811), ('hour', 0.008387447201547257), ('staff', 0.008140354130416446), ('bad', 0.00733755754317935), ('plane', 0.006378754325556074), ('small', 0.005454715819530239), ('cabin', 0.005389494232789752)], [('seat', 0.04631699789770575), ('no', 0.020361419813463497), ('service', 0.01928958969420642), ('fly', 0.018070481954009843), ('business_class', 0.016761621267716735), ('food', 0.012989669681001556), ('airline', 0.01216799187713925), ('economy', 0.01205683961289172), ('pay', 0.010206555315916337), ('passenger', 0.009591049336297276), ('time', 0.009374690705758096), ('or', 0.009263544450147366), ('meal', 0.009256393133197264), ('offer', 0.009001451119420887), ('hour', 0.008623067074625108), ('staff', 0.00820978520128826), ('bad', 0.00751848518051385), ('plane', 0.006515922575533418), ('cabin', 0.005487155657779167), ('poor', 0.005455548015826829)], [('seat', 0.03484615848989251), ('no', 0.022211062225383053), ('service', 0.018069479339285228), ('fly', 0.017452856029219883), ('business_class', 0.01513453280328419), ('food', 0.01474882296386818), ('meal', 0.012622641975535155), ('or', 0.011432659074504085), ('airline', 0.011051291148852024), ('offer', 0.010257470398014846), ('economy', 0.010194732569429488), ('pay', 0.009034332516416997), ('passenger', 0.008965538979186841), ('hour', 0.008480153660109728), ('time', 0.007895366925666872), ('staff', 0.007750738776854402), ('bad', 0.006603130669284837), ('plane', 0.006582692917190806), ('poor', 0.006016629204150834), ('small', 0.005952425191882393)], [('seat', 0.03466392611931972), ('no', 0.022499962282344462), ('business_class', 0.018055285167131084), ('food', 0.015155027415750803), ('service', 0.01434954419738638), ('or', 0.013168202287853184), ('fly', 0.013105225579604472), ('airline', 0.012311297167064042), ('offer', 0.011108768058224654), ('meal', 0.010549012845956015), ('economy', 0.010073355324843752), ('passenger', 0.008747693002706227), ('hour', 0.00840009790408089), ('pay', 0.008041613772477718), ('cabin', 0.0071766337221778505), ('staff', 0.006964948709996902), ('time', 0.0069374537229881855), ('bad', 0.006776030734848233), ('drink', 0.005740996410888693), ('plane', 0.005626311824203278)], [('seat', 0.04113090929653447), ('no', 0.020835020810009364), ('business_class', 0.01592477231872609), ('service', 0.01408316124346594), ('food', 0.012650418193591919), ('or', 0.012344511482127046), ('airline', 0.012339879676557685), ('fly', 0.011013968529695864), ('offer', 0.009410478934057442), ('economy', 0.00897979264754536), ('meal', 0.008290908320046909), ('pay', 0.00794281261742019), ('passenger', 0.007600371499673004), ('cabin', 0.007598108375081219), ('london', 0.007359698109874163), ('bad', 0.0071758026212614704), ('hour', 0.006719603408851647), ('row', 0.0064701881209617736), ('time', 0.006304470402010748), ('ask', 0.006193119221764805)], [('seat', 0.038159138081240634), ('no', 0.019718752758196914), ('service', 0.013716203768856754), ('food', 0.012640653411244316), ('business_class', 0.01219718719359538), ('airline', 0.011293163495964481), ('or', 0.011201956011744528), ('fly', 0.010996492902350764), ('london', 0.009668785595993962), ('meal', 0.009045232893557631), ('offer', 0.008900709080412768), ('bad', 0.008115190471065854), ('economy', 0.0078434851135374), ('cabin', 0.007761378926711996), ('pay', 0.0076929293064868344), ('drink', 0.00690745008306131), ('hour', 0.006830327323753914), ('ask', 0.006407814505261782), ('plane', 0.006373880323661008), ('class', 0.00623988891621704)], [('seat', 0.035023599444253456), ('no', 0.019303657031673492), ('service', 0.013710265450478296), ('fly', 0.013027569386497715), ('food', 0.012334656722022651), ('airline', 0.012268046191182219), ('or', 0.011857586659220726), ('london', 0.009221101833796229), ('meal', 0.009198970560213918), ('business_class', 0.009171086708975562), ('offer', 0.008924467442521608), ('economy', 0.00839110929533031), ('pay', 0.007462544395302675), ('cabin', 0.007205111252157458), ('serve', 0.0070967568805628016), ('bad', 0.0066634110916281), ('plane', 0.00665732606692088), ('time', 0.006634273951217237), ('class', 0.006408778574381975), ('ask', 0.005662215167041332)], [('seat', 0.02148851701141944), ('no', 0.017113182124736528), ('service', 0.01509543387093984), ('fly', 0.015055351423493556), ('airline', 0.014667208549101819), ('food', 0.012626754000673538), ('or', 0.011358292270623231), ('economy', 0.009254775961338337), ('business_class', 0.008714269678086993), ('british_airways', 0.00857496164148069), ('offer', 0.008047327184272021), ('meal', 0.007996142046415982), ('pay', 0.007654650657537692), ('passenger', 0.007214179710993978), ('cabin', 0.006893170878091654), ('class', 0.006215867030850565), ('serve', 0.006197023483365867), ('bad', 0.006165857780245045), ('time', 0.005817119422835327), ('price', 0.005528269894613591)], [('seat', 0.026575313973720413), ('fly', 0.016980485600515707), ('no', 0.015747598245473386), ('airline', 0.013960160641987185), ('british_airways', 0.013080495321489584), ('or', 0.012163699396776358), ('service', 0.011758389397095904), ('food', 0.0115928900499524), ('meal', 0.00970288822819483), ('business_class', 0.009600516822802661), ('economy', 0.009540004204135057), ('cabin', 0.007306691568530342), ('hour', 0.007035615806125386), ('time', 0.006976562641373379), ('offer', 0.006777517152253973), ('pay', 0.006753945873084308), ('serve', 0.006510834609684954), ('passenger', 0.006450092607946969), ('class', 0.006331896203064826), ('drink', 0.005740146034561521)], [('seat', 0.03202261453341607), ('fly', 0.015230139427335284), ('british_airways', 0.014765938611571605), ('no', 0.013203772737728254), ('food', 0.012082082206460388), ('service', 0.011518649916276654), ('airline', 0.01055390571469844), ('or', 0.01046711533255979), ('economy', 0.00953164589582052), ('business_class', 0.009470237173511259), ('cabin', 0.008626938826400789), ('passenger', 0.007663588268695665), ('time', 0.007611293465178723), ('meal', 0.007535903276191235), ('class', 0.0067372690059636494), ('serve', 0.006667946506375335), ('offer', 0.005997549156502626), ('staff', 0.005913974529254365), ('pay', 0.005895815515503289), ('plane', 0.005710334123117047)], [('seat', 0.03434748350108338), ('fly', 0.016212293890894187), ('no', 0.014707343229676605), ('food', 0.013750256833588157), ('or', 0.011426368759257522), ('service', 0.010412970666263106), ('airline', 0.010122906861615712), ('cabin', 0.00879381476584047), ('business_class', 0.008594311629529998), ('economy', 0.0082098779730208), ('passenger', 0.00797857553347459), ('meal', 0.007792644920871234), ('time', 0.007744062202763385), ('plane', 0.0064990561728482206), ('serve', 0.006207688756884751), ('class', 0.006075199188812595), ('travel', 0.005862245607096866), ('offer', 0.005776440605675942), ('pay', 0.005637846659124199), ('ask', 0.005544873420234692)]] \n",
      "\n",
      "Topic 1 evolution over time\n",
      "[[('no', 0.02371596954496203), ('check', 0.02062201172605952), ('gate', 0.018112027331920487), ('time', 0.01749184746854564), ('service', 0.01645582895707078), ('boarding', 0.016025657685082826), ('delay', 0.015427747802047202), ('lounge', 0.014391216755762902), ('staff', 0.012809215723515434), ('passenger', 0.009716155228372861), ('minute', 0.009694739875337326), ('take', 0.009076189242484366), ('good', 0.009015574422056187), ('wait', 0.008907285121503817), ('board', 0.008775810912899), ('hour', 0.008403785525761143), ('airport', 0.008278128540200798), ('crew', 0.00819414932819536), ('plane', 0.007976119496504567), ('arrive', 0.007917835415453371)], [('no', 0.024260669551707227), ('check', 0.02103781324629082), ('time', 0.017613520185459104), ('gate', 0.017593768188116272), ('service', 0.016390846047964293), ('boarding', 0.01585314812102882), ('delay', 0.014406042611262061), ('lounge', 0.01429410687159783), ('staff', 0.012414422153898576), ('passenger', 0.009817706422102987), ('minute', 0.00979628170028053), ('take', 0.009165561007856328), ('good', 0.009080663903897756), ('wait', 0.008993104662957425), ('board', 0.00885952815473055), ('airport', 0.008352140088592194), ('hour', 0.008315064504466556), ('crew', 0.008268354780003402), ('plane', 0.008046669749035708), ('queue', 0.00791225581409336)], [('no', 0.02499463129952254), ('check', 0.022425204071929765), ('gate', 0.01865014597902742), ('time', 0.01837646993628261), ('boarding', 0.01690598775046722), ('service', 0.014918340092116384), ('lounge', 0.013906566751892354), ('delay', 0.011797810833042578), ('staff', 0.011790125113780898), ('passenger', 0.010143795045831568), ('minute', 0.01008312966148266), ('good', 0.009294827480865669), ('airport', 0.008760513643032118), ('take', 0.008506311992351316), ('board', 0.008431664488147682), ('lhr', 0.00826831176103942), ('queue', 0.00811417047694883), ('crew', 0.008109775145285004), ('hour', 0.008099508580756302), ('wait', 0.008070375314588806)], [('no', 0.021917726880634873), ('time', 0.02098749798093231), ('check', 0.01919035388545351), ('boarding', 0.01655838512286492), ('service', 0.014762027206575807), ('gate', 0.014594440622329759), ('lounge', 0.013645194659882523), ('delay', 0.011630465352720307), ('staff', 0.011590896179161836), ('passenger', 0.010729033026114712), ('minute', 0.010714948300641298), ('lhr', 0.010155127236278897), ('queue', 0.009317347506816946), ('good', 0.00883505087344878), ('take', 0.0086397833018806), ('board', 0.008610348939426552), ('airport', 0.008463006778413244), ('crew', 0.008397858266374224), ('plane', 0.008368241163733756), ('hour', 0.007826002681890029)], [('time', 0.021836371959979808), ('check', 0.020823281190555435), ('no', 0.018520293250213666), ('gate', 0.014690648302982227), ('staff', 0.013983242670272057), ('lounge', 0.013482794308433054), ('service', 0.013467507474959419), ('passenger', 0.013282737733942285), ('boarding', 0.012687688301649059), ('delay', 0.012199927213743397), ('minute', 0.010088305370615773), ('good', 0.009670141304241308), ('lhr', 0.009658177005233672), ('queue', 0.00953509825150593), ('hour', 0.009253565731116515), ('board', 0.009209261653702738), ('arrive', 0.008427382128603866), ('plane', 0.0082068627832511), ('drink', 0.008058778361751192), ('crew', 0.008051816497490934)], [('check', 0.024561565091480067), ('time', 0.01892236940240482), ('no', 0.017224542440337005), ('lounge', 0.016122565968922004), ('passenger', 0.01562768316917017), ('service', 0.0141332007467401), ('boarding', 0.012416401150732913), ('staff', 0.011631604336304365), ('gate', 0.011565907473110202), ('minute', 0.010958958314138234), ('good', 0.009977843429727195), ('delay', 0.009767839123748819), ('board', 0.009643299380481628), ('hour', 0.009564664649486836), ('plane', 0.008433685097418844), ('crew', 0.008409726626144717), ('drink', 0.008003516683346801), ('food', 0.007705606333177662), ('queue', 0.007700001575608744), ('arrive', 0.007621279851919374)], [('check', 0.020148255749550387), ('time', 0.01704269064227986), ('no', 0.015353377450969465), ('service', 0.014833818507433387), ('boarding', 0.01413378760985549), ('passenger', 0.014089027315286157), ('lounge', 0.013962229127268763), ('minute', 0.013599686745620733), ('board', 0.010863042330577088), ('delay', 0.010754136884014194), ('gate', 0.01064190958608225), ('good', 0.00974169770562547), ('staff', 0.009531007862311033), ('plane', 0.009203923478801408), ('hour', 0.008618710646743346), ('crew', 0.008560949944103894), ('drink', 0.008451400272156209), ('departure', 0.007850749182427796), ('arrive', 0.007751387063234049), ('food', 0.00755614309787957)], [('check', 0.019976101942078075), ('service', 0.016865621694960302), ('no', 0.016626029209818257), ('time', 0.015609171151797285), ('lounge', 0.01522525321777895), ('boarding', 0.014466529759994434), ('board', 0.012445855421706009), ('passenger', 0.012392529565554289), ('minute', 0.011684580127214917), ('good', 0.010178559566497191), ('delay', 0.010082713192593242), ('gate', 0.009939338917282943), ('drink', 0.009157587618612864), ('plane', 0.008996812062814264), ('crew', 0.008975223765368724), ('food', 0.008220969603281609), ('bag', 0.007865002279581552), ('arrive', 0.007850329793811705), ('staff', 0.0076592985598762245), ('airport', 0.007333146428425783)], [('lounge', 0.01881173203152884), ('time', 0.017325632686900932), ('check', 0.015995297903092776), ('service', 0.013960914419185589), ('no', 0.013669197726707888), ('boarding', 0.012294267474664358), ('passenger', 0.012035866283133486), ('good', 0.011305310548247781), ('board', 0.010285628305755034), ('bag', 0.009670848047477466), ('crew', 0.009241778177706033), ('drink', 0.009234785341246462), ('minute', 0.009186508156148458), ('gate', 0.008668947363063369), ('plane', 0.008546024533996801), ('terminal', 0.008375378458047504), ('delay', 0.008162649396855997), ('seat', 0.008054476416244828), ('arrive', 0.007492877197998442), ('gatwick', 0.007064831927300958)], [('lounge', 0.020730916781093962), ('time', 0.02023284727176816), ('check', 0.01823000893124271), ('service', 0.01494538583525896), ('no', 0.013607792996527006), ('boarding', 0.013443625072015191), ('seat', 0.011378070747261649), ('drink', 0.011314725273845137), ('good', 0.01127850230122888), ('crew', 0.009644813914024216), ('passenger', 0.009616805293633924), ('minute', 0.008973725809346854), ('bag', 0.008627646351234666), ('delay', 0.00860095748675713), ('board', 0.008377272746292224), ('arrive', 0.008069764468416903), ('terminal', 0.007679941823054478), ('gate', 0.007548852213885132), ('serve', 0.007230393851082533), ('return', 0.007049384403983345)], [('time', 0.018665525867865854), ('check', 0.018631333310409007), ('lounge', 0.01769597956243238), ('no', 0.015117957982619957), ('good', 0.013378433120870566), ('service', 0.012899159526056107), ('drink', 0.01286553092560882), ('boarding', 0.01177341300319474), ('crew', 0.011166577023096766), ('seat', 0.010941668393762803), ('minute', 0.009862780593257361), ('passenger', 0.009074028719393609), ('board', 0.008418983042679306), ('lhr', 0.008150476965428723), ('delay', 0.008149865799864311), ('bag', 0.008123557815042159), ('serve', 0.00805395088215148), ('arrive', 0.006907985682840163), ('security', 0.006789908866189169), ('plane', 0.006778185116650792)], [('time', 0.021994668591506932), ('lounge', 0.018861682282617306), ('good', 0.017315493083622537), ('check', 0.01683286849428715), ('lhr', 0.01574716981719073), ('service', 0.015095449640942346), ('crew', 0.013909366836786738), ('drink', 0.01367675150135416), ('no', 0.01126413696047012), ('boarding', 0.01113925438812725), ('bag', 0.009027703071695153), ('return', 0.008501461938199487), ('seat', 0.00821155534368509), ('arrive', 0.008020540650397081), ('board', 0.007914201229446263), ('club_europe', 0.007774726947425651), ('minute', 0.007757672429044997), ('food', 0.007755414970580942), ('nice', 0.007664474398912509), ('serve', 0.007663899280297654)]] \n",
      "\n",
      "Topic 2 evolution over time\n",
      "[[('no', 0.016081389815047087), ('tell', 0.013486876151203761), ('hour', 0.012857858963058496), ('book', 0.012417185826143467), ('cancel', 0.011124893627489684), ('airport', 0.010713451859521635), ('airline', 0.010690289962073765), ('british_airways', 0.009670739429484562), ('ticket', 0.0095097931813086), ('customer_service', 0.00950617227345615), ('travel', 0.009466919242917376), ('check', 0.009392525433875466), ('time', 0.009010219647150508), ('refund', 0.00869552184301379), ('delay', 0.00868838885582576), ('find', 0.007911378558805061), ('call', 0.007834898649617032), ('or', 0.007560265976996532), ('day', 0.007531052326075141), ('luggage', 0.007522537804313228)], [('no', 0.015711626357366275), ('tell', 0.013797332407163179), ('hour', 0.013138096361863033), ('book', 0.012063368639323014), ('cancel', 0.01133700204753062), ('airport', 0.010909554917298227), ('airline', 0.010353658642448483), ('british_airways', 0.009832557917004953), ('ticket', 0.009665715499283505), ('customer_service', 0.009663034631468628), ('travel', 0.009621702011658281), ('time', 0.009151053694126408), ('check', 0.009080497906545549), ('refund', 0.008827167675517021), ('delay', 0.008761970272726922), ('call', 0.007942237019256735), ('or', 0.00765988995484908), ('day', 0.0076298959552255135), ('find', 0.007629513126745838), ('luggage', 0.007620598149684888)], [('no', 0.015263274514409264), ('tell', 0.01231926554369236), ('airline', 0.011960832105414952), ('hour', 0.011823849367061448), ('cancel', 0.0114391703148625), ('customer_service', 0.011298289009011938), ('book', 0.01127323414182275), ('british_airways', 0.010484168350628476), ('delay', 0.0093527736748029), ('time', 0.009215860180691118), ('airport', 0.009116336236073986), ('day', 0.008796739569491391), ('or', 0.008489420755577237), ('luggage', 0.008423253385602793), ('check', 0.008354575442789216), ('travel', 0.008329828749486125), ('ticket', 0.007962640033142999), ('call', 0.007959757326172068), ('refund', 0.007830902952021369), ('try', 0.0076248975292041695)], [('cancel', 0.016857334260366858), ('no', 0.01512146720484635), ('tell', 0.01456308026458018), ('hour', 0.012509577172762323), ('book', 0.012443436757725426), ('day', 0.010987605086027674), ('time', 0.010390001524762838), ('check', 0.009574223867836537), ('airline', 0.009139350174974657), ('british_airways', 0.009135532167460044), ('customer_service', 0.008784887989116212), ('delay', 0.008634854306194097), ('airport', 0.008434584602352677), ('fly', 0.00794181998219448), ('ticket', 0.007865610601315786), ('try', 0.007837941988952355), ('or', 0.0076734832729431586), ('refund', 0.00737839398180413), ('london', 0.007225547634939049), ('luggage', 0.007176403994259239)], [('tell', 0.0150568120320139), ('cancel', 0.014438747693518578), ('no', 0.014417725717502912), ('hour', 0.014139308230640022), ('book', 0.013789202741681607), ('day', 0.011067726183603676), ('time', 0.010676788849575385), ('customer_service', 0.009656332772238888), ('airline', 0.009454691209365337), ('check', 0.00932396761897308), ('refund', 0.009091117435554954), ('london', 0.00906258743683379), ('british_airways', 0.008913962124250484), ('fly', 0.008535541933082286), ('travel', 0.008220375776113698), ('try', 0.007928611886156765), ('or', 0.007757883786678385), ('airport', 0.007532499222753702), ('get', 0.007425969153265289), ('say', 0.0073565504615194215)], [('cancel', 0.013983297804889902), ('no', 0.013889844432397132), ('book', 0.013824713990804503), ('tell', 0.012059499712082923), ('london', 0.01168285053751176), ('hour', 0.010940194854001054), ('day', 0.010452308738140324), ('fly', 0.0103291870985454), ('time', 0.010273539508595742), ('travel', 0.0099684203607585), ('british_airways', 0.00959428644712222), ('refund', 0.009428381305256311), ('airline', 0.009200204961462389), ('voucher', 0.008222234708938627), ('or', 0.008120511190172902), ('customer_service', 0.007969097866432627), ('say', 0.0076483187350024125), ('try', 0.007603259403240033), ('ticket', 0.006950518254621298), ('pay', 0.006938929982612033)], [('london', 0.016991521261067257), ('no', 0.014411478677315405), ('tell', 0.013634883091741592), ('hour', 0.01340951289162371), ('day', 0.01211774925240483), ('british_airways', 0.011158693739131042), ('bag', 0.011126022175695227), ('fly', 0.010845981410513813), ('delay', 0.010266819476481844), ('time', 0.009795933672801271), ('book', 0.009673324174782382), ('airport', 0.009079442774884186), ('customer_service', 0.00907664542961952), ('cancel', 0.008427996324519144), ('check', 0.00839150327687443), ('airline', 0.007886509689616412), ('staff', 0.007696807018918194), ('pay', 0.007649272261158073), ('ask', 0.007352692952754636), ('refund', 0.007228463658878593)], [('london', 0.015307937162824994), ('no', 0.01418806212471295), ('hour', 0.013524644482214555), ('tell', 0.013459720331479777), ('day', 0.011912308970569092), ('fly', 0.011107205582680867), ('check', 0.010949763579664321), ('delay', 0.010419392638387317), ('book', 0.010340081552726733), ('british_airways', 0.010133590160164886), ('bag', 0.009509674452011757), ('time', 0.009479905963437233), ('airport', 0.008802147942900284), ('customer_service', 0.008599416543572007), ('say', 0.00852988161824808), ('staff', 0.008287702384643228), ('airline', 0.00806430013563374), ('pay', 0.007683353976045853), ('cancel', 0.007333144394351846), ('ask', 0.00730787241693227)], [('tell', 0.016820974832353165), ('no', 0.016220166728504733), ('check', 0.013562270978168678), ('hour', 0.013189904702505759), ('time', 0.011278491902987388), ('fly', 0.010816004577369982), ('london', 0.010600672589271805), ('day', 0.010324480012045481), ('british_airways', 0.01025107233284675), ('book', 0.01007424297646037), ('delay', 0.00983418090232836), ('airport', 0.008930035637678482), ('staff', 0.008926809297305592), ('bag', 0.008639181511192478), ('seat', 0.008631705624118712), ('pay', 0.008429909952835034), ('airline', 0.008200334340460321), ('customer_service', 0.0078006050127390845), ('ask', 0.007633414726347006), ('ticket', 0.007475972169355755)], [('no', 0.017378751793693237), ('tell', 0.015009408387478006), ('hour', 0.014124388982442036), ('british_airways', 0.01340634547056609), ('check', 0.01326460635900826), ('delay', 0.011601999769714141), ('book', 0.011182896600839676), ('time', 0.010866335500048327), ('fly', 0.010699503627248684), ('staff', 0.009180806878086114), ('seat', 0.008958842537275262), ('london', 0.00863562946196505), ('day', 0.007890294879831956), ('ask', 0.007848814145498323), ('airport', 0.007623467167350674), ('wait', 0.0075536804458230045), ('arrive', 0.007277018914133443), ('bag', 0.006974197419983514), ('say', 0.006923481858992605), ('give', 0.006708994874398813)], [('no', 0.01856309301182003), ('british_airways', 0.015087910437683568), ('hour', 0.014731490539970258), ('tell', 0.013513929367688773), ('check', 0.013188963590381181), ('delay', 0.012046693278247552), ('time', 0.011365556128022264), ('book', 0.011296566846064988), ('staff', 0.01084088909532928), ('fly', 0.010446022723540345), ('day', 0.009209018671360073), ('travel', 0.007764827751820775), ('or', 0.007277778230425633), ('seat', 0.0071401296882844635), ('wait', 0.007107704193659081), ('bag', 0.007048456295921369), ('london', 0.006984632413437798), ('go', 0.006905324340647869), ('arrive', 0.0068110589191940135), ('customer_service', 0.006593989599021524)], [('no', 0.02016726084522543), ('hour', 0.01643455588483176), ('tell', 0.014655066882429249), ('delay', 0.01380755162392838), ('fly', 0.012290215071467358), ('check', 0.01216439821351196), ('staff', 0.011003741211899003), ('time', 0.010869477720239962), ('book', 0.010432638656060266), ('heathrow', 0.00929485182636357), ('travel', 0.007929617405792976), ('plane', 0.007815464540870716), ('day', 0.007644863079837436), ('british_airways', 0.007497985471576261), ('wait', 0.00711940949538342), ('take', 0.00698827366775411), ('go', 0.006880543587264584), ('passenger', 0.006675388621016309), ('get', 0.006551550417607349), ('seat', 0.006534433699161049)]] \n",
      "\n",
      "Topic 3 evolution over time\n",
      "[[('good', 0.038366785631037244), ('food', 0.020711981703940983), ('crew', 0.01924380614245804), ('great', 0.016789508248524543), ('time', 0.015307868631043981), ('comfortable', 0.015112247556916042), ('seat', 0.01509608217604049), ('service', 0.014810450403608356), ('experience', 0.014617685847292476), ('new', 0.011907340414163244), ('excellent', 0.010210901662754656), ('fly', 0.00941039265980857), ('club_world', 0.007974462618869579), ('cabin_crew', 0.007471552594518545), ('nice', 0.0070418579006348014), ('friendly', 0.00703503181670171), ('suite', 0.006579529348214138), ('class', 0.006551888872897309), ('club', 0.006551502294707898), ('aircraft', 0.0063001120424964595)], [('good', 0.04090677220888827), ('food', 0.021006778240942946), ('crew', 0.020355486724167107), ('great', 0.016666022564468853), ('time', 0.015228270138889315), ('experience', 0.015070174121715746), ('seat', 0.014914657658541369), ('service', 0.014838052589422385), ('comfortable', 0.01347142893660137), ('new', 0.011528954091882496), ('excellent', 0.0107998595354599), ('fly', 0.009424384672948746), ('club_world', 0.007923120528156245), ('cabin_crew', 0.00740265509059833), ('nice', 0.006959996401159491), ('friendly', 0.006953522041472616), ('club', 0.006477407616940836), ('aircraft', 0.006246419119098013), ('suite', 0.0061705804222775), ('class', 0.006160327183102285)], [('good', 0.04422765218096176), ('crew', 0.020555473785408673), ('food', 0.019980772275681964), ('great', 0.016476969149216484), ('time', 0.015748908868439552), ('seat', 0.015306813311905783), ('service', 0.014905738075311047), ('experience', 0.013519168092153432), ('comfortable', 0.011884621841082669), ('excellent', 0.011747086904746823), ('new', 0.011318856335189236), ('fly', 0.009672905963770594), ('club_world', 0.00766031446733316), ('cabin_crew', 0.007147859629941416), ('nice', 0.007007226853129501), ('club', 0.006516114987134376), ('friendly', 0.0064610426592469), ('aircraft', 0.006297277716980421), ('overall', 0.0059286484615418585), ('class', 0.005889033375856025)], [('good', 0.0507571866944068), ('food', 0.01900437720586882), ('crew', 0.017429799547662786), ('service', 0.01678611980019237), ('seat', 0.015763769460426794), ('time', 0.015267677447175571), ('great', 0.014578412060902341), ('excellent', 0.011698217205670956), ('experience', 0.01110298815762175), ('comfortable', 0.010823676501983208), ('new', 0.010355526331021154), ('fly', 0.010008266288798483), ('cabin_crew', 0.00723170908442305), ('club_world', 0.007093243382880303), ('nice', 0.0070681351613290115), ('overall', 0.006743567323293687), ('aircraft', 0.006356567840133619), ('club', 0.006339120176978691), ('friendly', 0.0062860547092619765), ('cabin', 0.0057698423408071575)], [('good', 0.042439557211299286), ('food', 0.01828202599437596), ('service', 0.01757708440863967), ('seat', 0.01737443387840678), ('time', 0.016271072787052688), ('crew', 0.013458397585216384), ('great', 0.011946133967412852), ('experience', 0.011479747554637118), ('fly', 0.010845574653798243), ('new', 0.010739322181739626), ('excellent', 0.010462590493767942), ('comfortable', 0.010305685323014058), ('cabin_crew', 0.008244697458086292), ('nice', 0.006985882725773473), ('club_world', 0.006853912111767349), ('overall', 0.006798585910063754), ('london', 0.006728400821022777), ('cabin', 0.006588628080757924), ('aircraft', 0.00647767460843925), ('friendly', 0.006384059838073989)], [('good', 0.03833608698422481), ('seat', 0.018160449114851904), ('service', 0.016952179094533067), ('food', 0.016915995975874894), ('crew', 0.015027808441544712), ('time', 0.014055162426661197), ('fly', 0.012163032164730914), ('great', 0.011117973364221287), ('experience', 0.010885893130354984), ('comfortable', 0.010627322443668298), ('london', 0.010155141433665143), ('new', 0.008808598212821268), ('excellent', 0.008436449132328954), ('cabin', 0.008109319661840246), ('nice', 0.007693588231385813), ('cabin_crew', 0.007483226186180053), ('aircraft', 0.007122665095703571), ('overall', 0.006665862627491128), ('friendly', 0.0064621286303822335), ('club_world', 0.00639199349486763)], [('good', 0.03513762156356115), ('seat', 0.020105058729697433), ('service', 0.018165147837905394), ('food', 0.016422948779877062), ('crew', 0.01452757753765582), ('london', 0.013829057793415386), ('time', 0.01367102747730287), ('fly', 0.011374008442116215), ('comfortable', 0.011160387205840849), ('great', 0.010308812502028036), ('experience', 0.010253524877241429), ('cabin', 0.008210007457519276), ('excellent', 0.00767923349826742), ('cabin_crew', 0.007197203811873375), ('nice', 0.006943453341342213), ('new', 0.006779681992395517), ('friendly', 0.006390550782227332), ('aircraft', 0.006350827203559116), ('meal', 0.0060313849700345395), ('sleep', 0.005968798367027521)], [('good', 0.028097573004882578), ('seat', 0.019547992603053996), ('crew', 0.016779890045537305), ('food', 0.01652702041511043), ('service', 0.01502995459812833), ('time', 0.011658493651428292), ('london', 0.01159257986217205), ('fly', 0.010947379834887043), ('experience', 0.009570692986557565), ('comfortable', 0.00922175299145585), ('great', 0.008568289814860018), ('cabin', 0.008218201116760887), ('cabin_crew', 0.006671852672149098), ('meal', 0.006571546066236813), ('excellent', 0.006560370081504851), ('aircraft', 0.006545481021021834), ('friendly', 0.0063594496483639846), ('new', 0.006358719984214402), ('ife', 0.006313606299856394), ('nice', 0.0061621807956693505)], [('good', 0.02949242700962758), ('seat', 0.022856085231698114), ('food', 0.01683011734774062), ('service', 0.01393275667997261), ('crew', 0.013926630675414567), ('time', 0.012005340963996226), ('fly', 0.010145891293293052), ('experience', 0.00976911844339207), ('london', 0.009644129976298139), ('great', 0.008690426219739632), ('comfortable', 0.008646127537332297), ('cabin', 0.008303202770896162), ('excellent', 0.00713444359106491), ('cabin_crew', 0.0070930614912824135), ('new', 0.007034196965976238), ('ife', 0.006979366946959022), ('london_heathrow', 0.006805757493290793), ('meal', 0.00649944110470717), ('staff', 0.006290023396423737), ('friendly', 0.006216716734919662)], [('good', 0.030987060524804263), ('seat', 0.024554028943858393), ('service', 0.017046747373978394), ('food', 0.016876911014105402), ('time', 0.013351264512859052), ('fly', 0.013241177822026854), ('crew', 0.011866505889236253), ('british_airways', 0.01025290719508886), ('comfortable', 0.009573833471742801), ('cabin', 0.008894964487119), ('cabin_crew', 0.008590371100271244), ('experience', 0.00833414810516202), ('great', 0.008278436231610368), ('excellent', 0.00819182826991576), ('london', 0.00815872617340969), ('aircraft', 0.007726795830038809), ('london_heathrow', 0.007550176516975165), ('lhr', 0.007454614007558094), ('ife', 0.006938266280674449), ('nice', 0.006483147513678173)], [('good', 0.033742627487663365), ('seat', 0.03174873556113656), ('food', 0.019290415648813005), ('service', 0.015234606460586511), ('comfortable', 0.01437334846004547), ('fly', 0.01286212781291291), ('excellent', 0.011225796258634015), ('lhr', 0.01054800099095883), ('crew', 0.010268295043888851), ('cabin', 0.009783514204177692), ('time', 0.00968282183778115), ('great', 0.009300257391991303), ('british_airways', 0.008931227501788104), ('cabin_crew', 0.0075929054688236046), ('return', 0.00717257719067006), ('aircraft', 0.007052422900914249), ('new', 0.006885111561285275), ('staff', 0.006845715304333477), ('sleep', 0.006818120940263322), ('club_world', 0.006637495747953452)], [('good', 0.03155611356553871), ('seat', 0.028272536055592632), ('lhr', 0.027112525949546808), ('food', 0.01831969411671601), ('fly', 0.016225628010022593), ('service', 0.015322902131604758), ('excellent', 0.014942309044873646), ('comfortable', 0.011766626362826505), ('great', 0.009813919618878258), ('cabin', 0.009072589075378092), ('crew', 0.009064266687290847), ('staff', 0.008749291395503959), ('return', 0.008630609734994242), ('club_world', 0.008598108919514142), ('time', 0.008256705534001199), ('new', 0.007880547100241681), ('cabin_crew', 0.0070748012472470305), ('aircraft', 0.006547481375262903), ('nice', 0.006452147401982011), ('experience', 0.006205121628586308)]] \n",
      "\n"
     ]
    }
   ],
   "source": [
    "# Looking into each topic evolution over time.\n",
    "for topic_number in range(4):\n",
    "    print(f\"Topic {topic_number} evolution over time\")\n",
    "    print_topics_over_time(topic_number,ldaseq_chain)"
   ]
  },
  {
   "cell_type": "code",
   "execution_count": 88,
   "metadata": {},
   "outputs": [
    {
     "name": "stdout",
     "output_type": "stream",
     "text": [
      "['staff', 'usual', 'food', 'good', 'meal', 'recommend', 'seat', 'spacious', 'think', 'time', 'lhr', 'no', 'aircraft', 'boarding', 'economy', 'journey', 'overall', 'give', 'pocket', 'storage', 'joke', 'especially', 'pay', 'let', 'return', 'little', 'support', 'apart', 'pleasant', 'need', 'uncomfortable', 'hard', 'virtually', 'second', 'leg', 'legroom', 'recline', 'wide', 'clean', 'ife', 'space', 'cabin', 'excellent', 'plus', 'world_traveller', 'miss', 'exception', 'adequate', 'odd', 'okay', 'attention', 'wonderful', 'big', 'whilst', 'storage_space', 'procedure', 'opportunity']\n",
      "[2.17640722e-01 1.51423380e-04 1.51423380e-04 7.82056431e-01]\n"
     ]
    }
   ],
   "source": [
    "words_1000,doc_topic_dist_1000 = compute_words_topic_dist(1000,ldaseq_chain)\n",
    "print(words_1000)\n",
    "print(doc_topic_dist_1000)"
   ]
  },
  {
   "cell_type": "code",
   "execution_count": 89,
   "metadata": {},
   "outputs": [
    {
     "name": "stdout",
     "output_type": "stream",
     "text": [
      "['staff', 'try', 'cabin_crew', 'fly', 'food', 'good', 'hour', 'seat', 'time', 'airline', 'book', 'helpful', 'lhr', 'boarding', 'british_airways', 'configuration', 'departure', 'hear', 'service', 'bag', 'option', 'room', 'drink', 'wine', 'attentive', 'choice', 'screen', 'decide', 'stretch', 'cabin', 'welcome', 'bit', 'connect', 'professional', 'fare', 'centre', 'privacy', 'sydney', 'smooth', 'drop', 'lovely', 'report', 'september', 'singapore', 'secure', 'competitive']\n",
      "[1.92159877e-04 1.92159877e-04 1.14848494e-01 8.84767186e-01]\n"
     ]
    }
   ],
   "source": [
    "words_2000,doc_topic_dist_2000 = compute_words_topic_dist(2000,ldaseq_chain)\n",
    "print(words_2000)\n",
    "print(doc_topic_dist_2000)"
   ]
  },
  {
   "cell_type": "code",
   "execution_count": 90,
   "metadata": {},
   "outputs": [
    {
     "data": {
      "text/plain": [
       "0.3967"
      ]
     },
     "execution_count": 90,
     "metadata": {},
     "output_type": "execute_result"
    }
   ],
   "source": [
    "np.round(hellinger(doc_topic_dist_1000,doc_topic_dist_2000),4)\n",
    "# They are somewhat similar"
   ]
  },
  {
   "cell_type": "markdown",
   "metadata": {},
   "source": [
    "### **LDA Model and DTM**"
   ]
  },
  {
   "cell_type": "code",
   "execution_count": 69,
   "metadata": {},
   "outputs": [],
   "source": [
    "def plot_default_dtm(year_index=0):\n",
    "    doc_topic, topic_term, doc_length, term_freq, vocab = ldaseq.dtm_vis(time=year_index,corpus=bow_corpus)\n",
    "    dtm_vis = pyLDAvis.prepare(topic_term_dists=topic_term,\n",
    "                                doc_topic_dists=doc_topic,\n",
    "                                doc_lengths=doc_length,\n",
    "                                vocab=vocab,\n",
    "                                term_frequency=term_freq,\n",
    "                                sort_topics=False\n",
    "                                )\n",
    "    pyLDAvis.save_html(dtm_vis, f'topic_visuals_bigrams/dtm/dtm4_{years[year_index]}_default_chain_var.html')\n",
    "    pyLDAvis.display(dtm_vis) # 2011 topics"
   ]
  },
  {
   "cell_type": "code",
   "execution_count": 70,
   "metadata": {},
   "outputs": [],
   "source": [
    "def plot_modified_dtm(year_index=0):\n",
    "    doc_topic, topic_term, doc_length, term_freq, vocab = ldaseq_chain.dtm_vis(time=year_index,corpus=bow_corpus)\n",
    "    dtm_vis = pyLDAvis.prepare(topic_term_dists=topic_term,\n",
    "                                doc_topic_dists=doc_topic,\n",
    "                                doc_lengths=doc_length,\n",
    "                                vocab=vocab,\n",
    "                                term_frequency=term_freq,\n",
    "                                sort_topics=False\n",
    "                                )\n",
    "    pyLDAvis.save_html(dtm_vis, f'topic_visuals_bigrams/dtm/dtm4_{years[year_index]}_increased_chain_var.html')\n",
    "    pyLDAvis.display(dtm_vis) # 2011 topics"
   ]
  },
  {
   "cell_type": "code",
   "execution_count": 71,
   "metadata": {},
   "outputs": [],
   "source": [
    "for year_index in range(len(years)):\n",
    "    plot_default_dtm(year_index)\n",
    "    plot_modified_dtm(year_index)"
   ]
  },
  {
   "cell_type": "markdown",
   "metadata": {},
   "source": [
    "### **Computing Coherence Score**"
   ]
  },
  {
   "cell_type": "code",
   "execution_count": 66,
   "metadata": {},
   "outputs": [
    {
     "data": {
      "text/plain": [
       "'Get the coherence for each topic.\\n\\nCan be used to measure the quality of the model, \\nor to inspect the convergence through training via a callback.\\n\\nParameters\\n----------\\ntime : int\\nThe time slice.\\n\\nReturns\\n-------\\nlist of list of str\\nThe word representation for each topic, for each time slice. \\nThis can be used to check the time coherence\\nof topics as time evolves: \\nIf the most relevant words remain the same then the topic has somehow\\nconverged or is relatively static, if they change rapidly the topic is evolving.\\n'"
      ]
     },
     "execution_count": 66,
     "metadata": {},
     "output_type": "execute_result"
    }
   ],
   "source": [
    "\"\"\"Get the coherence for each topic.\n",
    "\n",
    "Can be used to measure the quality of the model, \n",
    "or to inspect the convergence through training via a callback.\n",
    "\n",
    "Parameters\n",
    "----------\n",
    "time : int\n",
    "The time slice.\n",
    "\n",
    "Returns\n",
    "-------\n",
    "list of list of str\n",
    "The word representation for each topic, for each time slice. \n",
    "This can be used to check the time coherence\n",
    "of topics as time evolves: \n",
    "If the most relevant words remain the same then the topic has somehow\n",
    "converged or is relatively static, if they change rapidly the topic is evolving.\n",
    "\"\"\""
   ]
  },
  {
   "cell_type": "code",
   "execution_count": 67,
   "metadata": {},
   "outputs": [
    {
     "data": {
      "text/plain": [
       "['seat',\n",
       " 'no',\n",
       " 'service',\n",
       " 'fly',\n",
       " 'business_class',\n",
       " 'food',\n",
       " 'airline',\n",
       " 'or',\n",
       " 'economy',\n",
       " 'meal',\n",
       " 'offer',\n",
       " 'pay',\n",
       " 'passenger',\n",
       " 'hour',\n",
       " 'bad',\n",
       " 'time',\n",
       " 'cabin',\n",
       " 'staff',\n",
       " 'plane',\n",
       " 'british_airways']"
      ]
     },
     "execution_count": 67,
     "metadata": {},
     "output_type": "execute_result"
    }
   ],
   "source": [
    "ldaseq.dtm_coherence(0)[0] # 2011, topic 0"
   ]
  },
  {
   "cell_type": "code",
   "execution_count": 92,
   "metadata": {},
   "outputs": [
    {
     "data": {
      "text/plain": [
       "['seat',\n",
       " 'no',\n",
       " 'service',\n",
       " 'fly',\n",
       " 'business_class',\n",
       " 'food',\n",
       " 'airline',\n",
       " 'or',\n",
       " 'economy',\n",
       " 'meal',\n",
       " 'offer',\n",
       " 'pay',\n",
       " 'passenger',\n",
       " 'hour',\n",
       " 'bad',\n",
       " 'time',\n",
       " 'cabin',\n",
       " 'staff',\n",
       " 'plane',\n",
       " 'british_airways']"
      ]
     },
     "execution_count": 92,
     "metadata": {},
     "output_type": "execute_result"
    }
   ],
   "source": [
    "ldaseq.dtm_coherence(1)[0] # 2011, topic 0"
   ]
  },
  {
   "cell_type": "code",
   "execution_count": 95,
   "metadata": {},
   "outputs": [
    {
     "name": "stdout",
     "output_type": "stream",
     "text": [
      "Coherence of 2011 and 2012\n"
     ]
    },
    {
     "data": {
      "text/html": [
       "<div>\n",
       "<style scoped>\n",
       "    .dataframe tbody tr th:only-of-type {\n",
       "        vertical-align: middle;\n",
       "    }\n",
       "\n",
       "    .dataframe tbody tr th {\n",
       "        vertical-align: top;\n",
       "    }\n",
       "\n",
       "    .dataframe thead th {\n",
       "        text-align: right;\n",
       "    }\n",
       "</style>\n",
       "<table border=\"1\" class=\"dataframe\">\n",
       "  <thead>\n",
       "    <tr style=\"text-align: right;\">\n",
       "      <th></th>\n",
       "      <th>2011</th>\n",
       "      <th>2012</th>\n",
       "    </tr>\n",
       "  </thead>\n",
       "  <tbody>\n",
       "    <tr>\n",
       "      <th>0</th>\n",
       "      <td>[seat, no, service, fly, business_class, food,...</td>\n",
       "      <td>[seat, no, service, fly, business_class, food,...</td>\n",
       "    </tr>\n",
       "  </tbody>\n",
       "</table>\n",
       "</div>"
      ],
      "text/plain": [
       "                                                2011  \\\n",
       "0  [seat, no, service, fly, business_class, food,...   \n",
       "\n",
       "                                                2012  \n",
       "0  [seat, no, service, fly, business_class, food,...  "
      ]
     },
     "execution_count": 95,
     "metadata": {},
     "output_type": "execute_result"
    }
   ],
   "source": [
    "# def dtm_coherence(time1=0,time2=1,topic=0):\n",
    "#     print(f\"Coherence of {years[time1]} and {years[time2]}\")\n",
    "#     time_data = {\n",
    "#                 years[time1]:[ldaseq.dtm_coherence(time1)[topic]],\n",
    "#                 years[time2]:[ldaseq.dtm_coherence(time2)[topic]]\n",
    "#     }\n",
    "#     time_frame = pd.DataFrame(time_data)\n",
    "#     return (time_frame)\n",
    "# dtm_comapre = dtm_coherence()\n",
    "# dtm_comapre"
   ]
  }
 ],
 "metadata": {
  "kernelspec": {
   "display_name": "Python 3.11.4",
   "language": "python",
   "name": "python3"
  },
  "language_info": {
   "codemirror_mode": {
    "name": "ipython",
    "version": 3
   },
   "file_extension": ".py",
   "mimetype": "text/x-python",
   "name": "python",
   "nbconvert_exporter": "python",
   "pygments_lexer": "ipython3",
   "version": "3.11.4"
  },
  "orig_nbformat": 4,
  "vscode": {
   "interpreter": {
    "hash": "ac0102d0a19da1c8b26b42d48363cf190516c261e70572c95ad01c40031b103f"
   }
  }
 },
 "nbformat": 4,
 "nbformat_minor": 2
}
